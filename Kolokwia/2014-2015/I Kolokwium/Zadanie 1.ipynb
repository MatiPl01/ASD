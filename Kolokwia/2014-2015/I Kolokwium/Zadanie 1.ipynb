{
 "cells": [
  {
   "attachments": {
    "image-2.png": {
     "image/png": "[encoded data removed]"
    }
   },
   "cell_type": "markdown",
   "metadata": {},
   "source": [
    "![image-2.png](attachment:image-2.png)"
   ]
  },
  {
   "cell_type": "markdown",
   "metadata": {},
   "source": [
    "### Omówienie algorytmu"
   ]
  },
  {
   "cell_type": "markdown",
   "metadata": {},
   "source": [
    "Do sortowania ciągów tekstowych najlepiej się nada się algorytm sortowania Radix Sort. Ponieważ wiemy, że stringi są różnych długości, a sortowanie leksykograficzne przebiega od ostatniej do pierwszej litery (od najmniej do najbardziej znaczącej), początkowo będziemy sortować tylko najdłuższe ciągi tekstowe, dopiero później krótsze wraz z dłuższymi, a na koniec wszystkie razem po pierwszej literze. W tym celu, na początku posortuję ciągi tekstowe według ich długości (od najmniejszej do największej) i będę przeprowadzał sortowanie Radix Sortem według kolejnych od końca liter dla coraz większych fragmentów tablicy stringów, uwzględniając sukcesywnie coraz krótsze ciągi tekstowe."
   ]
  },
  {
   "cell_type": "markdown",
   "metadata": {},
   "source": [
    "### Złożoność sortowania"
   ]
  },
  {
   "cell_type": "markdown",
   "metadata": {},
   "source": [
    "$ O(k \\cdot n) $, gdzie $ k $ - liczba liter w najdłuższym ciągu tekstowym, $ n $ - liczba ciągów tekstowych. Szybciej się za bardzo nie da, bo jakbyśmy chcieli użyć Quick Sorta, musimy porównywać w jakiś sposób oba ciągi tekstowe, a użycie operatora $ \\gt $, $ \\lt $, $ \\ge $ lub $ \\le $, skutkuje porównywaniem obu ciągów znak po znaku, co nie jest zbyt wydajne, bo musimy to zrobić przy każdym porównaniu. Również przekształcenie stringów na liczby nic nie da, bo samo przekształcanie ma również złożoność $ O(k \\cdot n) $. Samo sortowanie liczb miałoby już złożoność $ O(n \\cdot log(n)) $, ponieważ byśmy mysieli wykorzystać już np. Quick Sorta, bo nie dało by się za bardzo ich przesortować liniowo. Nawet przy założeniu, że mamy wyłącznie małe litery alfabetu łacińskiego, otrzymalibyśmy liczby w systemie o podstawie $ 26 $, a więc ciąg tekstowy o długości $ k $ zostałby przekształcony na liczbę rzędu $ 26^k $, a to nie są małe liczby."
   ]
  },
  {
   "cell_type": "markdown",
   "metadata": {},
   "source": [
    "### Implementacja algorytmu"
   ]
  },
  {
   "cell_type": "code",
   "execution_count": 1,
   "metadata": {},
   "outputs": [],
   "source": [
    "def sortString(A):\n",
    "    # Do not sort if there is nothing to sort\n",
    "    if len(A) < 2: return\n",
    "    # Sort strings by lengths (to improve the efficiency of\n",
    "    # sorting strings by characters)\n",
    "    _counting_sort_by_length(A)\n",
    "    # Allocate a temporary array once before sorting. We will be\n",
    "    # using always the same array and perform sorting on a wider\n",
    "    # part of this array in each loop\n",
    "    temp = [None] * len(A)\n",
    "    # Sort in a loop starting from the least significant digit\n",
    "    for col_idx in range(len(A[-1])-1, -1, -1):\n",
    "        _counting_sort(A, col_idx, temp)\n",
    "    \n",
    "    \n",
    "def _counting_sort_by_length(arr):\n",
    "    max_len = longest_string_length(arr)\n",
    "    # Allocate memory for required temporary arrays\n",
    "    counts = [0] * (max_len + 1)\n",
    "    temp = [None] * len(arr)\n",
    "    # Count strings with the same lengths\n",
    "    for string in arr:\n",
    "        counts[len(string)] += 1\n",
    "    # Modify the counts array to indicate how many strings \n",
    "    # are of a length greater than the current string's length\n",
    "    for i in range(1, len(counts)):\n",
    "        counts[i] += counts[i-1]\n",
    "    # Rewrite values to the temp sorted array\n",
    "    for i in range(len(arr)-1, -1, -1):\n",
    "        counts[len(arr[i])] -= 1\n",
    "        temp[counts[len(arr[i])]] = arr[i]\n",
    "    # Rewrite sorted values to the initial array\n",
    "    for i in range(len(temp)):\n",
    "        arr[i] = temp[i]\n",
    "    \n",
    "    \n",
    "def _counting_sort(arr, col_idx, temp):\n",
    "    # Allocate memory for required temporary arrays\n",
    "    counts = [0] * 26\n",
    "    a_code = ord('a')\n",
    "    # Count letters repetitions\n",
    "    i = len(arr)-1\n",
    "    while col_idx < len(arr[i]) and i >= 0:\n",
    "        counts[ord(arr[i][col_idx]) - a_code] += 1\n",
    "        i -= 1\n",
    "    prev_to_last_idx = i\n",
    "    # Modify the counts array to indicate how many letters have\n",
    "    # ascii codes lower than or equal to the current one\n",
    "    for i in range(1, len(counts)):\n",
    "        counts[i] += counts[i-1]\n",
    "    # Rewrite values to the temporary array\n",
    "    for i in range(len(arr)-1, prev_to_last_idx, -1):\n",
    "        letter_idx = ord(arr[i][col_idx]) - a_code\n",
    "        temp[prev_to_last_idx + counts[letter_idx]] = arr[i]\n",
    "        counts[letter_idx] -= 1\n",
    "    # Rewrite sorted strings to the initial array\n",
    "    for i in range(prev_to_last_idx + 1, len(temp)):\n",
    "        arr[i] = temp[i]\n",
    "        \n",
    "        \n",
    "def longest_string_length(arr):\n",
    "    max_len = 0\n",
    "    for string in arr:\n",
    "        if len(string) > max_len:\n",
    "            max_len = len(string)\n",
    "    return max_len"
   ]
  },
  {
   "cell_type": "markdown",
   "metadata": {},
   "source": [
    "###### Kilka testów"
   ]
  },
  {
   "cell_type": "code",
   "execution_count": 2,
   "metadata": {},
   "outputs": [
    {
     "name": "stdout",
     "output_type": "stream",
     "text": [
      "=== BEFORE: ===\n",
      "['',\n",
      " 'ippimutohzobrfpxudibz',\n",
      " 'irwdjhurvwseahcyyu',\n",
      " 'umnpwbggfrz',\n",
      " 'uemaggzmzayssiqqhzzc',\n",
      " 'qfek',\n",
      " 'wmcfurfooimotkm',\n",
      " 'pfn',\n",
      " 'lgduokjbygjagpnxvr',\n",
      " 'ilrbvpajpcdpzgkltkahzzc',\n",
      " 'aonlvawnivtykoojybqg',\n",
      " 'qsqyypsrya',\n",
      " 'zmwwivifjsgig',\n",
      " 'slhqhjigsptmpvhljdfzbqj',\n",
      " 'cvok',\n",
      " 'odjlvjg',\n",
      " 'nvovnpmnjlymygtynzmjlp',\n",
      " 'ohzkfjmvvhhxm']\n",
      "\n",
      "\n",
      "=== AFTER: ===\n",
      "['',\n",
      " 'aonlvawnivtykoojybqg',\n",
      " 'cvok',\n",
      " 'ilrbvpajpcdpzgkltkahzzc',\n",
      " 'ippimutohzobrfpxudibz',\n",
      " 'irwdjhurvwseahcyyu',\n",
      " 'lgduokjbygjagpnxvr',\n",
      " 'nvovnpmnjlymygtynzmjlp',\n",
      " 'odjlvjg',\n",
      " 'ohzkfjmvvhhxm',\n",
      " 'pfn',\n",
      " 'qfek',\n",
      " 'qsqyypsrya',\n",
      " 'slhqhjigsptmpvhljdfzbqj',\n",
      " 'uemaggzmzayssiqqhzzc',\n",
      " 'umnpwbggfrz',\n",
      " 'wmcfurfooimotkm',\n",
      " 'zmwwivifjsgig']\n",
      "\n",
      "Is correct?: True\n"
     ]
    }
   ],
   "source": [
    "import random\n",
    "from string import ascii_lowercase as letters\n",
    "from pprint import pprint as pp\n",
    "\n",
    "rand_w = lambda length: ''.join(random.choice(letters) for _ in range(length))\n",
    "\n",
    "words = [rand_w(random.randint(0, 25)) for _ in range(random.randint(1, 40))]\n",
    "sorted_arr = sorted(words)\n",
    "print('=== BEFORE: ===')\n",
    "pp(words)\n",
    "print('\\n\\n=== AFTER: ===')\n",
    "sortString(words)\n",
    "pp(words)\n",
    "print('\\nIs correct?:', sorted_arr == words)"
   ]
  }
 ],
 "metadata": {
  "kernelspec": {
   "display_name": "Python 3 (ipykernel)",
   "language": "python",
   "name": "python3"
  },
  "language_info": {
   "codemirror_mode": {
    "name": "ipython",
    "version": 3
   },
   "file_extension": ".py",
   "mimetype": "text/x-python",
   "name": "python",
   "nbconvert_exporter": "python",
   "pygments_lexer": "ipython3",
   "version": "3.10.0"
  }
 },
 "nbformat": 4,
 "nbformat_minor": 4
}
