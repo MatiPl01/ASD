{
 "cells": [
  {
   "cell_type": "markdown",
   "metadata": {},
   "source": [
    "> Mamy daną tablicę A z n liczbami. Proszę zaproponować algorytm o złożoności O(n), który stwierdza, czy istnieje liczba x (tzw. lider A), która występuje w A na ponad połowie pozycji"
   ]
  },
  {
   "cell_type": "markdown",
   "metadata": {},
   "source": [
    "### Implementacja algorytmu"
   ]
  },
  {
   "cell_type": "code",
   "execution_count": 1,
   "metadata": {},
   "outputs": [],
   "source": [
    "def find_leader(arr):\n",
    "    # Look for a hypothetic leader\n",
    "    counter = 0\n",
    "    candidate = None\n",
    "    for val in arr:\n",
    "        if not counter:\n",
    "            counter = 1\n",
    "            candidate = val\n",
    "        elif val == candidate:\n",
    "            counter += 1\n",
    "        else:\n",
    "            counter -= 1\n",
    "            \n",
    "    # If a counter is equal to 0 (or lower than 0), there must be no leader\n",
    "    if counter <= 0:\n",
    "        return None\n",
    "    # Check if a leader candidate is a leader\n",
    "    counter = 0\n",
    "    for val in arr:\n",
    "        if val == candidate:\n",
    "            counter += 1\n",
    "    if counter > len(arr) // 2:\n",
    "        return candidate\n",
    "    return None\n",
    "    \n",
    "def has_leader(arr):\n",
    "    return find_leader(arr) is not None"
   ]
  },
  {
   "cell_type": "markdown",
   "metadata": {},
   "source": [
    "###### Kilka testów"
   ]
  },
  {
   "cell_type": "code",
   "execution_count": 28,
   "metadata": {},
   "outputs": [
    {
     "name": "stdout",
     "output_type": "stream",
     "text": [
      "True 2\n"
     ]
    }
   ],
   "source": [
    "a = [1, 2, 6, 2, 3, 2, 2, 5, 4, 2, 7, 2, 2]\n",
    "print(has_leader(a), find_leader(a))"
   ]
  }
 ],
 "metadata": {
  "kernelspec": {
   "display_name": "Python 3 (ipykernel)",
   "language": "python",
   "name": "python3"
  },
  "language_info": {
   "codemirror_mode": {
    "name": "ipython",
    "version": 3
   },
   "file_extension": ".py",
   "mimetype": "text/x-python",
   "name": "python",
   "nbconvert_exporter": "python",
   "pygments_lexer": "ipython3",
   "version": "3.8.3"
  }
 },
 "nbformat": 4,
 "nbformat_minor": 4
}
