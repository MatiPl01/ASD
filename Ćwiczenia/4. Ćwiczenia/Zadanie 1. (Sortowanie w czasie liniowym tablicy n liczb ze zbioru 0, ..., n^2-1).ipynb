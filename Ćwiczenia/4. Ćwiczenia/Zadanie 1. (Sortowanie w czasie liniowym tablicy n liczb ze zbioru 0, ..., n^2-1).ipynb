{
 "cells": [
  {
   "cell_type": "markdown",
   "metadata": {},
   "source": [
    "> Proszę zaproponować algorytm, który w czasie liniowym sortuje tablicę A, zawierającą $ n $ liczb ze zbioru $ 0, ..., n^2-1 $."
   ]
  },
  {
   "cell_type": "markdown",
   "metadata": {},
   "source": [
    "### Omówienie algorytmu"
   ]
  },
  {
   "cell_type": "markdown",
   "metadata": {},
   "source": [
    "Idea jest prosta. Wystarczy potraktować liczby jakby były zapisane w systemie liczbowym o podstawie $ n $. Wówczas dla każdej liczby otrzymamy osobno część całkowitą z dzielenia przez $ n $ oraz resztę z dzielenia przez $ n $. Teraz można już skorzystać z Radix Sorta, traktując reszty z dzielenia jako pierwszą (mniej znaczącą) kolumnę, po której posortujemy liczby najpierw, a części całkowite z dzielenia liczb przez $ n $ jako drugą (od końca, bardziej znaczącą) kolumnę, po której posortujemy liczby później. W algorytmie Radix Sort skorzystamy ze stabilnego algorytmu sortującego liczby w czasie liniowym, jakim jest algorytm Counting Sort."
   ]
  },
  {
   "cell_type": "markdown",
   "metadata": {},
   "source": [
    "Bardziej szczegółowe wyjaśnienie idei postępowania znajduje się w opisie zadania obowiązkowego z wykładu oraz zadania z BIT Algo (takie samo)."
   ]
  },
  {
   "cell_type": "markdown",
   "metadata": {},
   "source": [
    "### Implementacja algorytmu"
   ]
  },
  {
   "cell_type": "code",
   "execution_count": 1,
   "metadata": {},
   "outputs": [],
   "source": [
    "def radix_sort(arr, base):\n",
    "    if arr:\n",
    "        # Using Counting Sort approach, sort numbers by their rests and integer parts\n",
    "        _counting_sort(arr, base, 1)\n",
    "        _counting_sort(arr, base, base)\n",
    "\n",
    "\n",
    "def _counting_sort(arr, base, digit_place):\n",
    "    # Allocate memory for required temporary arrays\n",
    "    counts = [0] * base\n",
    "    temp = [None] * len(arr)\n",
    "    # Count digits repetitions\n",
    "    for val in arr:\n",
    "        digit = (val // digit_place) % base\n",
    "        counts[digit] += 1\n",
    "    # Modify the counts array to indicate how many digits are not greater than the current one\n",
    "    for i in range(1, base):\n",
    "        counts[i] += counts[i-1]\n",
    "    # Rewrite values to the temp sorted array\n",
    "    for i in range(len(arr)-1, -1, -1):\n",
    "        digit = (arr[i] // digit_place) % base\n",
    "        counts[digit] -= 1\n",
    "        temp[counts[digit]] = arr[i]\n",
    "    # Rewrite sorted values to the initial array\n",
    "    for i in range(len(temp)):\n",
    "        arr[i] = temp[i]"
   ]
  },
  {
   "cell_type": "markdown",
   "metadata": {},
   "source": [
    "###### Kilka testów"
   ]
  },
  {
   "cell_type": "code",
   "execution_count": 2,
   "metadata": {},
   "outputs": [
    {
     "name": "stdout",
     "output_type": "stream",
     "text": [
      "\n",
      "Input: [1140, 7511, 2611, 1623, 8368, 1276, 1519, 265, 2251, 5903, 6467, 1154, 9261, 3703, 5788, 7718, 5681, 1035, 1283, 0, 8096, 4476, 6312, 6701, 1803, 2492, 7366, 5226, 4573, 8339, 9321, 5633, 7309, 4142, 1983, 9176, 6222, 5119, 2872, 1716, 6365, 4718, 3396, 1197, 242, 7605, 6986, 8364, 7219, 8352, 670, 9436, 153, 3967, 3176, 4661, 593, 7754, 5811, 8312, 6602, 500, 9128, 7571, 734, 1494, 5702, 9567, 698, 2659, 6840, 6577, 3544, 7757, 6400, 8603, 3419, 7186, 8253, 1296, 9654, 8216, 3309, 965, 3122, 2849, 3094, 2241, 8351, 1250, 3904, 1562, 2405, 110, 5365, 7586, 9180, 7084, 4788, 1837]\n",
      "\n",
      "Expected: [0, 110, 153, 242, 265, 500, 593, 670, 698, 734, 965, 1035, 1140, 1154, 1197, 1250, 1276, 1283, 1296, 1494, 1519, 1562, 1623, 1716, 1803, 1837, 1983, 2241, 2251, 2405, 2492, 2611, 2659, 2849, 2872, 3094, 3122, 3176, 3309, 3396, 3419, 3544, 3703, 3904, 3967, 4142, 4476, 4573, 4661, 4718, 4788, 5119, 5226, 5365, 5633, 5681, 5702, 5788, 5811, 5903, 6222, 6312, 6365, 6400, 6467, 6577, 6602, 6701, 6840, 6986, 7084, 7186, 7219, 7309, 7366, 7511, 7571, 7586, 7605, 7718, 7754, 7757, 8096, 8216, 8253, 8312, 8339, 8351, 8352, 8364, 8368, 8603, 9128, 9176, 9180, 9261, 9321, 9436, 9567, 9654]\n",
      "\n",
      "Result: [0, 110, 153, 242, 265, 500, 593, 670, 698, 734, 965, 1035, 1140, 1154, 1197, 1250, 1276, 1283, 1296, 1494, 1519, 1562, 1623, 1716, 1803, 1837, 1983, 2241, 2251, 2405, 2492, 2611, 2659, 2849, 2872, 3094, 3122, 3176, 3309, 3396, 3419, 3544, 3703, 3904, 3967, 4142, 4476, 4573, 4661, 4718, 4788, 5119, 5226, 5365, 5633, 5681, 5702, 5788, 5811, 5903, 6222, 6312, 6365, 6400, 6467, 6577, 6602, 6701, 6840, 6986, 7084, 7186, 7219, 7309, 7366, 7511, 7571, 7586, 7605, 7718, 7754, 7757, 8096, 8216, 8253, 8312, 8339, 8351, 8352, 8364, 8368, 8603, 9128, 9176, 9180, 9261, 9321, 9436, 9567, 9654]\n",
      "\n",
      "An algorithm is CORRECT\n"
     ]
    }
   ],
   "source": [
    "import random\n",
    "\n",
    "n = 100\n",
    "rand_lst = [random.randint(0, n**2 - 1) for _ in range(n)]\n",
    "print('\\nInput:', rand_lst)\n",
    "sorted_lst = sorted(rand_lst)\n",
    "radix_sort(rand_lst, n)\n",
    "print('\\nExpected:', sorted_lst)\n",
    "print('\\nResult:', rand_lst)\n",
    "print(f'\\nAn algorithm is {\"CORRECT\" if sorted_lst == rand_lst else \"WRONG\"}')"
   ]
  }
 ],
 "metadata": {
  "kernelspec": {
   "display_name": "Python 3 (ipykernel)",
   "language": "python",
   "name": "python3"
  },
  "language_info": {
   "codemirror_mode": {
    "name": "ipython",
    "version": 3
   },
   "file_extension": ".py",
   "mimetype": "text/x-python",
   "name": "python",
   "nbconvert_exporter": "python",
   "pygments_lexer": "ipython3",
   "version": "3.10.0"
  }
 },
 "nbformat": 4,
 "nbformat_minor": 4
}
