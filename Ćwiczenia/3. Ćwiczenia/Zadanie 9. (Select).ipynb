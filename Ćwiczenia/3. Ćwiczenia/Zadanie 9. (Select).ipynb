{
 "cells": [
  {
   "cell_type": "markdown",
   "metadata": {},
   "source": [
    "> Proszę zaimplementować algorytm znajdowania k-go co do wielkości elementu w tablicy n elementowej w “spodziewanym” czasie O(n) na podstawie randomizowanego Partition z QuickSort’a"
   ]
  },
  {
   "cell_type": "markdown",
   "metadata": {},
   "source": [
    "### Implementacja algorytmu"
   ]
  },
  {
   "cell_type": "code",
   "execution_count": 1,
   "metadata": {},
   "outputs": [],
   "source": [
    "import random\n",
    "\n",
    "\n",
    "def quick_select(arr, k: 'index of a value'):\n",
    "    if not 0 <= k < len(arr):\n",
    "        raise IndexError(f'index too {\"small\" if k < 0 else \"large\"}')\n",
    "    if len(arr) == 1:\n",
    "        return arr[0]\n",
    "    \n",
    "    left_idx = 0\n",
    "    right_idx = len(arr) - 1\n",
    "    pivot_position = -1\n",
    "    while k != pivot_position:\n",
    "        pivot_position = _partition(arr, left_idx, right_idx)\n",
    "        \n",
    "        if pivot_position > k:\n",
    "            right_idx = pivot_position - 1\n",
    "        else:\n",
    "            left_idx = pivot_position + 1\n",
    "            \n",
    "    return arr[k]\n",
    "        \n",
    "        \n",
    "def _partition(arr, left_idx, right_idx):\n",
    "    pivot_idx = random.randint(left_idx, right_idx)\n",
    "    pivot = arr[pivot_idx]\n",
    "    \n",
    "    # Swap a pivot with the last element\n",
    "    swap(arr, right_idx, pivot_idx)\n",
    "    \n",
    "    # Partition an array into 2 subarrays of elements lower than or\n",
    "    # equal to a pivot and of elements greater than a pivot\n",
    "    i = left_idx\n",
    "    for j in range(left_idx, right_idx):\n",
    "        if arr[j] < pivot:\n",
    "            swap(arr, i, j)\n",
    "            i += 1\n",
    "    \n",
    "    # Place a pivot element on its destination index\n",
    "    swap(arr, i, right_idx)\n",
    "    \n",
    "    return i  # Return a pivot position after the last swap\n",
    "\n",
    "    \n",
    "def swap(arr, i, j):\n",
    "    arr[i], arr[j] = arr[j], arr[i]"
   ]
  }
 ],
 "metadata": {
  "kernelspec": {
   "display_name": "Python 3 (ipykernel)",
   "language": "python",
   "name": "python3"
  },
  "language_info": {
   "codemirror_mode": {
    "name": "ipython",
    "version": 3
   },
   "file_extension": ".py",
   "mimetype": "text/x-python",
   "name": "python",
   "nbconvert_exporter": "python",
   "pygments_lexer": "ipython3",
   "version": "3.10.0"
  }
 },
 "nbformat": 4,
 "nbformat_minor": 4
}
