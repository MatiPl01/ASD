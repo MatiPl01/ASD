{
 "cells": [
  {
   "cell_type": "markdown",
   "metadata": {},
   "source": [
    "### Simple loops #1 ($ O(n^3) $)"
   ]
  },
  {
   "cell_type": "code",
   "execution_count": 1,
   "metadata": {},
   "outputs": [],
   "source": [
    "# O(n^3)\n",
    "# https://mathoverflow.net/questions/16393/finding-a-cycle-of-fixed-length\n",
    "def find_cycle(G):\n",
    "    n = len(G)\n",
    "    for u in range(1, n):\n",
    "        for v in range(u):\n",
    "            prev = None\n",
    "            for w in range(n):\n",
    "                if G[u][w] and G[v][w]:\n",
    "                    if prev: return [u, w, v, prev]\n",
    "                    prev = w\n",
    "    return []"
   ]
  },
  {
   "cell_type": "markdown",
   "metadata": {},
   "source": [
    "### Simple loops #2 ($ O(n^2) $)"
   ]
  },
  {
   "cell_type": "code",
   "execution_count": 2,
   "metadata": {},
   "outputs": [],
   "source": [
    "def find_C4(G):\n",
    "    n = len(G)\n",
    "    C = [[0] * n for _ in range(n)]\n",
    "    G2 = [[] for _ in range(n)]\n",
    "    \n",
    "    for u in range(n):\n",
    "        for v in range(n):\n",
    "            if G[u][v]: G2[u].append(v)\n",
    "    \n",
    "    for u in range(n):\n",
    "        for i in range(1, len(G2[u])):\n",
    "            for j in range(i):\n",
    "                x = G2[u][j]\n",
    "                y = G2[u][i]\n",
    "                if C[x][y] == 0:\n",
    "                    C[x][y] = u\n",
    "                else:\n",
    "                    return [x, C[x][y], y, u]\n",
    "\n",
    "    return []"
   ]
  }
 ],
 "metadata": {
  "kernelspec": {
   "display_name": "Python 3 (ipykernel)",
   "language": "python",
   "name": "python3"
  },
  "language_info": {
   "codemirror_mode": {
    "name": "ipython",
    "version": 3
   },
   "file_extension": ".py",
   "mimetype": "text/x-python",
   "name": "python",
   "nbconvert_exporter": "python",
   "pygments_lexer": "ipython3",
   "version": "3.10.0"
  }
 },
 "nbformat": 4,
 "nbformat_minor": 4
}
