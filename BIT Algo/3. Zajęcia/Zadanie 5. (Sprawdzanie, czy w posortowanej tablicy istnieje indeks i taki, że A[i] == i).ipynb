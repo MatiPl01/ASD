{
 "cells": [
  {
   "cell_type": "markdown",
   "metadata": {},
   "source": [
    "> Dana jest posortowana rosnąco tablica A wielkości $ n $, zawierająca parami różne liczby naturalne. Podaj algorytm, który sprawdzi, czy jest taki indeks $ i $, że $ A[i] == i $.<br> Co się zmieni, jeżeli liczby będą po prostu całkowite, niekoniecznie naturalne?"
   ]
  },
  {
   "cell_type": "markdown",
   "metadata": {},
   "source": [
    "### Omówienie algorytmu"
   ]
  },
  {
   "cell_type": "markdown",
   "metadata": {},
   "source": [
    "##### Dla liczb naturalnych"
   ]
  },
  {
   "cell_type": "markdown",
   "metadata": {},
   "source": [
    "Wystarczy zauważyć, że jeżeli mamy tablicę liczb naturalnych posortowanych ROSNĄCO, które są PARAMI RÓŻNE, sytuacja, w której $ A[i] == i $ może zajść tylko wtedy, gdy na poprzednich $ i-1 $ pozycjach znajdują się wszystkie liczby naturalne z przedziału $ {0, 1, 2, ..., i-2, i-1} $ ($ 0 $ traktujemy również jako liczbę naturalną. Jest to konieczne, ponieważ żadna liczba nie może się powtarzać, a skoro nie użylibyśmy jednej z liczb naturalnych mniejszych od $ i $, pod indeksem $ i $ musiałaby się znaleźć liczba większa od $ i $. Dlatego w sytuacji, gdy wiemy, że w tablicy są tylko liczby naturalne, a to sprawdzimy poprzez zbadanie, czy najmniejsza liczba jest nieujemna (tzn. $ A[0] \\ge 0 $), możemy łatwo sprawdzić, czy zachodzi warunek $ A[i] == i $. Zgodnie z powyższymi rozważaniami, aby on zachodził, na $ i-1 $ poprzednich pozycjach również musi zachodzić ten warunek, więc wystarczy sprawdzić, czy $ A[0] == 0 $. Jeżeli otrzymamy prawdę, oznacza to, że znaleźliśmy indeks ($ i == 0 $) taki, dla którego spełnony jest warunek zadania. W przeciwnym razie mamy pewność, że nigdzie dalej w tablicy nie może zajść ten warunek, bo na każdej pozycji będzie liczba większa od indeksu, który odpowiada tej pozycji. <br>\n",
    "Warto zauważyć, że rozwiązanie dla liczb naturalnych ma złożoność $ O(1) $."
   ]
  },
  {
   "cell_type": "markdown",
   "metadata": {},
   "source": [
    "Spójrzmy na przykład:"
   ]
  },
  {
   "cell_type": "markdown",
   "metadata": {},
   "source": [
    "    [0, 4, 6, 12, 18, 22, ...]  # Spełniony warunek dla i == 0, reszta jest nieważna\n",
    "     0  1  2  3   4   5   ..."
   ]
  },
  {
   "cell_type": "markdown",
   "metadata": {},
   "source": [
    "    [1, 2, 3, 4, 5, 6, ...]  # i == 0 nie spełnia warunku, żaden inny indeks również\n",
    "     0  1  2  3  4  5  ..."
   ]
  },
  {
   "cell_type": "markdown",
   "metadata": {},
   "source": [
    "##### Dla liczb całkowitych"
   ]
  },
  {
   "cell_type": "markdown",
   "metadata": {},
   "source": [
    "Ponieważ tablica jest posortowana, ponownie, jeżeli $ A[0] == 0 $, rozwiązanie mamy od razu. Natomiast jeżeli $ A[0] \\gt 0 $ otrzymujemy sprzeczność, bo wszystkie liczby są parami różne, więc nigdzie nie da się zmniejszyć już tej wartości, a dla $ A[0] \\lt 0 $ pojawia się drobny problem, bo jest szansa na to, że istnieje taki indeks, ale nie mamy co do tego pewności. W takiej sytuacji możemy w pierwszej kolejności sprawdzić ostatni indeks tablicy $ A $ i, jeżeli wartość, która jest pod nim umieszczona, jest mniejsza od tego indeksu oraz wiemy, że wartość pod indeksem zerowym była mniejsza od $ 0 $, mamy pewność, że nie istnieje poszukiwany indeks, dla którego zachodzi warunek z polecenia, bo wszystkie wartości są przesunięte w lewo. Pozostaje jeszcze kwestia, co zrobić, gdy ostatnia wartość jest większa (jeżeli równa, to od razu możemy zwrócić prawdę) od tego indeksu. Wtedy pozostaje nam skorzystać z wyszukiwania binarnego, które należy nieco zmodyfikować tak, abyśmy nie szukali konkretnej wartości, ale jeżeli indeks, na którym się znajdujemy, jest większy od wartości, która jest pod nim umieszczona (tzn. $ i > A[i] $), musimy przeszukać prawą część, bo dla indeksów mniejszych od $ i $ wszystkie wartości w tablicy muszą być mniejsze od indeksów komórek, w których są umieszczone. Natomiast w przeciwnym razie, trzeba przeszukiwać lewą część tablicy. <br>\n",
    "Warto zauważyć, że rozwiązanie dla liczb całkowitych ma zazwyczaj złożoność $ O(log(n)) $."
   ]
  },
  {
   "cell_type": "markdown",
   "metadata": {},
   "source": [
    "### Implementacja algorytmu"
   ]
  },
  {
   "cell_type": "code",
   "execution_count": 1,
   "metadata": {},
   "outputs": [],
   "source": [
    "def check_index(arr):\n",
    "    # Both cases below handle natural and integer numbers\n",
    "    if arr[0] == 0: return True\n",
    "    if arr[0] > 0:  return False\n",
    "    # The code below is for integers only\n",
    "    if arr[-1] < len(arr)-1: return False\n",
    "    return binary_search(arr)\n",
    "    \n",
    "    \n",
    "def binary_search(arr) -> bool:\n",
    "    left_idx = 0\n",
    "    right_idx = len(arr)-1\n",
    "    \n",
    "    while left_idx <= right_idx:\n",
    "        mid_idx = (left_idx + right_idx) // 2\n",
    "        if mid_idx > arr[mid_idx]:\n",
    "            left_idx = mid_idx + 1\n",
    "        else:\n",
    "            right_idx = mid_idx - 1\n",
    "            \n",
    "    return left_idx < len(arr) and arr[left_idx] == left_idx"
   ]
  },
  {
   "cell_type": "markdown",
   "metadata": {},
   "source": [
    "Kilka testów"
   ]
  },
  {
   "cell_type": "code",
   "execution_count": 9,
   "metadata": {},
   "outputs": [
    {
     "name": "stdout",
     "output_type": "stream",
     "text": [
      "True\n",
      "True\n",
      "False\n",
      "False\n",
      "True\n",
      "True\n"
     ]
    }
   ],
   "source": [
    "# Natural numbers tests\n",
    "print(check_index([0]))\n",
    "print(check_index([0, 4, 6, 12, 18, 22]))\n",
    "print(check_index([1, 2, 3, 4, 5, 6]))\n",
    "# Integers tests\n",
    "print(check_index([-5, -2, 0, 1, 2]))\n",
    "print(check_index([-5, -2, 0, 1, 2, 5]))\n",
    "print(check_index([-5, -2, 0, 1, 2, 5, 12, 80, 120]))"
   ]
  }
 ],
 "metadata": {
  "kernelspec": {
   "display_name": "Python 3 (ipykernel)",
   "language": "python",
   "name": "python3"
  },
  "language_info": {
   "codemirror_mode": {
    "name": "ipython",
    "version": 3
   },
   "file_extension": ".py",
   "mimetype": "text/x-python",
   "name": "python",
   "nbconvert_exporter": "python",
   "pygments_lexer": "ipython3",
   "version": "3.10.0"
  }
 },
 "nbformat": 4,
 "nbformat_minor": 4
}
