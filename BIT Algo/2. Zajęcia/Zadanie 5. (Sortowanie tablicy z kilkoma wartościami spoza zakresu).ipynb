{
 "cells": [
  {
   "cell_type": "markdown",
   "metadata": {},
   "source": [
    "> Mamy daną tablicę zawierającą $ n $ $ (n >= 11) $ liczb naturalnych w zakresie $ [0, k] $. Zamieniono $ 10 $ liczb z tej tablicy na losowe liczby spoza tego zakresu (np. dużo większe lub ujemne). Napisz algorytm, który posortuje tablicę w czasie $ O(n) $."
   ]
  },
  {
   "cell_type": "markdown",
   "metadata": {},
   "source": [
    "### Omówienie algorytmu"
   ]
  },
  {
   "cell_type": "markdown",
   "metadata": {},
   "source": [
    "Ponieważ mamy jawnie wskazany przedział wartości oraz nie wiemy, czy są one w rozkładzie jednostajnym, nie możemy skorzystać z podstawowej wersji Bucket Sorta. Najlepiej jako algorytm sortujący wybrać zatem Counting Sorta lub Radix Sorta. Oczywiście najpierw musimy odfiltrować wartości, które nie należą do przedziału $ [0, k] $ i je posortować osobno oraz przesortować pozostałe po odfiltrowaniu wartości. Na koniec trzeba przepisać odfiltrowane wartości spowrotem do tablicy początkowej."
   ]
  },
  {
   "cell_type": "markdown",
   "metadata": {},
   "source": [
    "W poniższej implementacji korzystam z Counting Sorta."
   ]
  },
  {
   "cell_type": "markdown",
   "metadata": {},
   "source": [
    "### Implementacja algorytmu"
   ]
  },
  {
   "cell_type": "code",
   "execution_count": 1,
   "metadata": {},
   "outputs": [],
   "source": [
    "def crazy_sort(arr, k):\n",
    "    litter = [None] * 10\n",
    "    litter_idx = 0\n",
    "    counts = [0] * (k + 1)\n",
    "    temp = [None] * (len(arr) - 10)\n",
    "    \n",
    "    for val in arr:\n",
    "        if 0 <= val <= k:\n",
    "            counts[val] += 1\n",
    "        else:\n",
    "            litter[litter_idx] = val\n",
    "            litter_idx += 1\n",
    "            \n",
    "    # Modify the counts array to indicate how many values \n",
    "    # are greater than the current one\n",
    "    for i in range(1, len(counts)):\n",
    "        counts[i] += counts[i-1]\n",
    "    # Sort array (except litter) using Counting Sort\n",
    "    for i in range(len(arr)-1, -1, -1):\n",
    "        if 0 <= arr[i] <= k:\n",
    "            counts[arr[i]] -= 1\n",
    "            temp[counts[arr[i]]] = arr[i]\n",
    "    # Sort a litter array using an Insertion Sort algorithm\n",
    "    insertion_sort(litter)\n",
    "    # Rewrite all values to the initial array\n",
    "    # At first, rewrite values that are lower than 0\n",
    "    i = 0\n",
    "    while i < len(litter) and litter[i] < temp[0]:\n",
    "        arr[i] = litter[i]\n",
    "        i += 1\n",
    "    litter_idx = i\n",
    "    # Then, rewrite all the values in the temporary array\n",
    "    for val in temp:\n",
    "        arr[i] = val\n",
    "        i += 1\n",
    "    # In the end, rewrite all the remaining values (greater than k)\n",
    "    for j in range(litter_idx, len(litter)):\n",
    "        arr[i] = litter[j]\n",
    "        i += 1\n",
    "    \n",
    "    \n",
    "def insertion_sort(arr):\n",
    "    for i in range(1, len(arr)):\n",
    "        j = i-1\n",
    "        temp = arr[i]\n",
    "        \n",
    "        while j >= 0 and temp < arr[j]:\n",
    "            arr[j+1] = arr[j]\n",
    "            j -= 1\n",
    "        \n",
    "        arr[j+1] = temp"
   ]
  },
  {
   "cell_type": "markdown",
   "metadata": {},
   "source": [
    "###### Kilka testów"
   ]
  },
  {
   "cell_type": "code",
   "execution_count": 2,
   "metadata": {},
   "outputs": [
    {
     "name": "stdout",
     "output_type": "stream",
     "text": [
      "[-4363, -4259, -772, -148, 0, 0, 1, 2, 2, 2, 2, 2, 3, 3, 3, 3, 5, 6, 7, 7, 9, 10, 10, 10, 10, 12, 13, 14, 15, 15, 16, 17, 18, 18, 19, 20, 20, 20, 21, 21, 21, 21, 22, 22, 24, 24, 25, 25, 26, 29, 31, 31, 32, 32, 32, 34, 34, 35, 37, 37, 38, 38, 39, 39, 40, 40, 40, 42, 42, 43, 45, 47, 48, 48, 48, 49, 49, 49, 50, 50, 50, 50, 50, 51, 51, 51, 51, 52, 52, 52, 53, 54, 54, 54, 54, 55, 55, 55, 56, 56, 59, 59, 60, 60, 62, 62, 63, 64, 65, 65, 66, 67, 69, 69, 72, 72, 73, 73, 73, 75, 75, 75, 75, 77, 78, 78, 78, 79, 79, 79, 80, 80, 82, 83, 83, 84, 85, 86, 87, 87, 87, 87, 88, 88, 88, 90, 90, 91, 91, 91, 92, 93, 93, 93, 94, 94, 95, 95, 95, 96, 96, 97, 97, 97, 98, 99, 99, 99, 100, 100, 100, 100, 3705, 5493, 5608, 8155, 9006, 9984]\n",
      "\n",
      "[-4363, -4259, -772, -148, 0, 0, 1, 2, 2, 2, 2, 2, 3, 3, 3, 3, 5, 6, 7, 7, 9, 10, 10, 10, 10, 12, 13, 14, 15, 15, 16, 17, 18, 18, 19, 20, 20, 20, 21, 21, 21, 21, 22, 22, 24, 24, 25, 25, 26, 29, 31, 31, 32, 32, 32, 34, 34, 35, 37, 37, 38, 38, 39, 39, 40, 40, 40, 42, 42, 43, 45, 47, 48, 48, 48, 49, 49, 49, 50, 50, 50, 50, 50, 51, 51, 51, 51, 52, 52, 52, 53, 54, 54, 54, 54, 55, 55, 55, 56, 56, 59, 59, 60, 60, 62, 62, 63, 64, 65, 65, 66, 67, 69, 69, 72, 72, 73, 73, 73, 75, 75, 75, 75, 77, 78, 78, 78, 79, 79, 79, 80, 80, 82, 83, 83, 84, 85, 86, 87, 87, 87, 87, 88, 88, 88, 90, 90, 91, 91, 91, 92, 93, 93, 93, 94, 94, 95, 95, 95, 96, 96, 97, 97, 97, 98, 99, 99, 99, 100, 100, 100, 100, 3705, 5493, 5608, 8155, 9006, 9984]\n",
      "Ok?:  True\n"
     ]
    }
   ],
   "source": [
    "import random\n",
    "\n",
    "k = 100\n",
    "arr = [random.randint(0, k) for _ in range(random.randint(100, 200))]\n",
    "for _ in range(10):\n",
    "    while True:\n",
    "        val = random.randint(-10_000, 10_000)\n",
    "        if 0 <= val <= k:\n",
    "            continue\n",
    "        arr.append(val)\n",
    "        break\n",
    "        \n",
    "random.shuffle(arr)\n",
    "\n",
    "expected = sorted(arr)\n",
    "print(expected)\n",
    "print()\n",
    "crazy_sort(arr, k)\n",
    "print(arr)\n",
    "\n",
    "print('Ok?: ', expected == arr)"
   ]
  }
 ],
 "metadata": {
  "kernelspec": {
   "display_name": "Python 3 (ipykernel)",
   "language": "python",
   "name": "python3"
  },
  "language_info": {
   "codemirror_mode": {
    "name": "ipython",
    "version": 3
   },
   "file_extension": ".py",
   "mimetype": "text/x-python",
   "name": "python",
   "nbconvert_exporter": "python",
   "pygments_lexer": "ipython3",
   "version": "3.10.0"
  }
 },
 "nbformat": 4,
 "nbformat_minor": 4
}
