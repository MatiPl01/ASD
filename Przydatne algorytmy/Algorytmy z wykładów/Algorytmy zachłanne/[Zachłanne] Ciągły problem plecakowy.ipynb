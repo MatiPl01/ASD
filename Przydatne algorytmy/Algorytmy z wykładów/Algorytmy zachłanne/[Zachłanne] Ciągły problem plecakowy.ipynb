{
 "cells": [
  {
   "cell_type": "markdown",
   "metadata": {},
   "source": [
    "# Znajdowanie maksymalnego profitu"
   ]
  },
  {
   "cell_type": "markdown",
   "metadata": {},
   "source": [
    "### Implementacja #1\n",
    "##### Z użyciem kolejki priorytetowej"
   ]
  },
  {
   "cell_type": "code",
   "execution_count": 1,
   "metadata": {},
   "outputs": [],
   "source": [
    "class MaxPriorityQueue:\n",
    "    def __init__(self, maxsize=128):\n",
    "        if not isinstance(maxsize, int):\n",
    "            raise TypeError(f\"expected 'int', got {str(type(maxsize))[7:-1]}\")\n",
    "        if maxsize <= 0:\n",
    "            raise ValueError(f\"cannot create a {self.__class__.__name__} of a max size {maxsize}\")\n",
    "        self.heap = [None] * maxsize  # Allocate a constant memory space\n",
    "        self._free_idx = 0\n",
    "\n",
    "    def __bool__(self):\n",
    "        return bool(self._free_idx)\n",
    "    \n",
    "    def __len__(self):\n",
    "        return self._free_idx\n",
    "    \n",
    "    @property\n",
    "    def heap_size(self):\n",
    "        return len(self.heap)\n",
    "    \n",
    "    @staticmethod\n",
    "    def parent_idx(curr_idx):\n",
    "        return (curr_idx - 1) // 2\n",
    "    \n",
    "    @staticmethod\n",
    "    def left_child_idx(curr_idx):\n",
    "        return curr_idx * 2 + 1\n",
    "    \n",
    "    @staticmethod\n",
    "    def right_child_idx(curr_idx):\n",
    "        return curr_idx * 2 + 2\n",
    "    \n",
    "    def insert(self, priority, obj: object):\n",
    "        if len(self) == self.heap_size:\n",
    "            raise OverflowError(f'insert in a completely filled {self.__class__.__name__}')\n",
    "        # Add a value as the last node of our Complete Binary Tree\n",
    "        self.heap[self._free_idx] = (priority, obj)\n",
    "        # Fix heap in order to satisfy a min-heap property\n",
    "        self._free_idx += 1\n",
    "        self._heapify_up(len(self) - 1)\n",
    "        \n",
    "    def get_first(self) -> ('priority', object):\n",
    "        return None if not self.heap else self.heap[0]  # Return a priority-element pair\n",
    "        \n",
    "    def remove_first(self) -> ('priority', object):\n",
    "        if len(self) == 0:\n",
    "            raise IndexError(f'remove_min from an empty {self.__class__.__name__}')\n",
    "        # Store a value to be returned\n",
    "        removed = self.heap[0]\n",
    "        # Place the last leaf in the root position\n",
    "        last_idx = self._free_idx - 1\n",
    "        last = self.heap[last_idx]\n",
    "        self.heap[last_idx] = None\n",
    "        self._free_idx -= 1\n",
    "        if len(self) > 0:\n",
    "            self.heap[0] = last\n",
    "            # Fix a heap in order to stisfy a min-heap property\n",
    "            self._heapify_down(0, len(self))\n",
    "        return removed  # Return a priority-element pair\n",
    "    \n",
    "    def _swap(self, i, j):\n",
    "        self.heap[i], self.heap[j] = self.heap[j], self.heap[i]\n",
    "        \n",
    "    def _heapify_up(self, curr_idx, end_idx=0):\n",
    "        while curr_idx > end_idx:\n",
    "            parent_idx = self.parent_idx(curr_idx)\n",
    "            # Compare the priority of elements and move up the element\n",
    "            # of a lower priority (if it is below an element of a higher priority)\n",
    "            if self.heap[curr_idx][0] > self.heap[parent_idx][0]:\n",
    "                self._swap(curr_idx, parent_idx)\n",
    "            curr_idx = parent_idx\n",
    "        \n",
    "    def _heapify_down(self, curr_idx, end_idx):\n",
    "        # Loop till the current node has a child of a smaller priority than \n",
    "        # itself. We assume that when we enter a node which both children \n",
    "        # have larger priority than this node, a subtree which a current node \n",
    "        # is a root of must fulfill a min-heap property\n",
    "        while True:\n",
    "            l = self.left_child_idx(curr_idx)\n",
    "            r = self.right_child_idx(curr_idx)\n",
    "            smallest_idx = curr_idx\n",
    "\n",
    "            if l < end_idx:\n",
    "                if self.heap[l][0] > self.heap[curr_idx][0]: \n",
    "                    smallest_idx = l\n",
    "                if r < end_idx and self.heap[r][0] > self.heap[smallest_idx][0]:\n",
    "                    smallest_idx = r\n",
    "\n",
    "            if smallest_idx != curr_idx:\n",
    "                self._swap(curr_idx, smallest_idx)\n",
    "                curr_idx = smallest_idx\n",
    "            else:\n",
    "                break\n",
    "\n",
    "def knapsack(P: 'array of profits', W: 'array of weights', MaxW: 'max weight of knapsack'):\n",
    "    n = len(P)\n",
    "    # Create a priority queue where a priority is a profit/weight ratio\n",
    "    pq = MaxPriorityQueue(n)\n",
    "    for i in range(n):\n",
    "        pq.insert(P[i] / W[i], i)\n",
    "    # Take elements of the maximum profit/weight ratio till there is still\n",
    "    # some space remaining in the knapsack\n",
    "    w = MaxW\n",
    "    p = 0\n",
    "    while w > 0 and pq:\n",
    "        ratio, i = pq.remove_first()\n",
    "        # Take the whole item if we can do so\n",
    "        if W[i] <= w:\n",
    "            p += P[i]\n",
    "            w -= W[i]\n",
    "        # ELse, take only a part of an item which can fit in a knapsack\n",
    "        else:\n",
    "            p += ratio * w\n",
    "            break\n",
    "            \n",
    "    # Return a final profit\n",
    "    return p"
   ]
  },
  {
   "cell_type": "markdown",
   "metadata": {},
   "source": [
    "###### Kilka testów"
   ]
  },
  {
   "cell_type": "code",
   "execution_count": 2,
   "metadata": {},
   "outputs": [
    {
     "name": "stdout",
     "output_type": "stream",
     "text": [
      "23.0\n"
     ]
    }
   ],
   "source": [
    "P = [7, 2, 5, 10, 8, 1, 2]\n",
    "W = [3, 1, 6, 3, 6, 10, 2]\n",
    "MaxW = 10\n",
    "\n",
    "print(knapsack(P, W, MaxW))"
   ]
  },
  {
   "cell_type": "markdown",
   "metadata": {},
   "source": [
    "### Implementacja #2\n",
    "##### Z użyciem sortowania"
   ]
  },
  {
   "cell_type": "code",
   "execution_count": 3,
   "metadata": {},
   "outputs": [],
   "source": [
    "def knapsack(P: 'array of profits', W: 'array of weights', MaxW: 'max weight of knapsack'):\n",
    "    n = len(P)\n",
    "    # Create an array which we will sort by a profit/weight ratio\n",
    "    items = [()] * n\n",
    "    for i in range(n):\n",
    "        items[i] = (P[i] / W[i], i)\n",
    "    items.sort(key=lambda x: x[0], reverse=True)\n",
    "    # Take elements of the maximum profit/weight ratio till there is still\n",
    "    # some space remaining in the knapsack\n",
    "    w = MaxW\n",
    "    p = 0\n",
    "    i = 0\n",
    "    while w > 0 and i < n:\n",
    "        j = items[i][1]\n",
    "        # Take the whole item if we can do so\n",
    "        if W[j] <= w:\n",
    "            p += P[j]\n",
    "            w -= W[j]\n",
    "        # ELse, take only a part of an item which can fit in a knapsack\n",
    "        else:\n",
    "            ratio = items[i][0]\n",
    "            p += ratio * w\n",
    "            break\n",
    "        # Go to the next most profitable item\n",
    "        i += 1\n",
    "            \n",
    "    # Return a final profit\n",
    "    return p"
   ]
  },
  {
   "cell_type": "markdown",
   "metadata": {},
   "source": [
    "###### Kilka testów"
   ]
  },
  {
   "cell_type": "code",
   "execution_count": 4,
   "metadata": {},
   "outputs": [
    {
     "name": "stdout",
     "output_type": "stream",
     "text": [
      "23.0\n"
     ]
    }
   ],
   "source": [
    "P = [7, 2, 5, 10, 8, 1, 2]\n",
    "W = [3, 1, 6, 3, 6, 10, 2]\n",
    "MaxW = 10\n",
    "\n",
    "print(knapsack(P, W, MaxW))"
   ]
  },
  {
   "cell_type": "markdown",
   "metadata": {},
   "source": [
    "# Otrzymywanie zwartości"
   ]
  },
  {
   "cell_type": "markdown",
   "metadata": {},
   "source": [
    "Konieczna jest modyfikacja algorytmu w taki sposób, aby zapisywane były indeksy tych przedmiotów, które zostały wzięte wraz z ich procentową ilością ($ 1 $ - wzięliśmy cały element, $ < 1 $ - wzięliśmy fragment przedmiotu (zawsze będzie maksymalnie jeden taki przedmiot))."
   ]
  },
  {
   "cell_type": "markdown",
   "metadata": {},
   "source": [
    "### Implementacja #1\n",
    "##### Z użyciem kolejki priorytetowej"
   ]
  },
  {
   "cell_type": "markdown",
   "metadata": {},
   "source": [
    "W poniższej implementacji nie wklejam ponownie kodu, tworzącego kolejkę priorytetową. Aby poniższe funkcja działała prawidłowo, w celu jej użycia poza tym notesem, konieczne jest skopiowanie również wyżej zaimplementowanej klasy $ MaxPriorityQueue $."
   ]
  },
  {
   "cell_type": "code",
   "execution_count": 5,
   "metadata": {},
   "outputs": [],
   "source": [
    "def knapsack(P: 'array of profits', W: 'array of weights', MaxW: 'max weight of knapsack'):\n",
    "    n = len(P)\n",
    "    # Create a priority queue where a priority is a profit/weight ratio\n",
    "    pq = MaxPriorityQueue(n)\n",
    "    for i in range(n):\n",
    "        pq.insert(P[i] / W[i], i)\n",
    "    # Take elements of the maximum profit/weight ratio till there is still\n",
    "    # some space remaining in the knapsack\n",
    "    w = MaxW\n",
    "    p = 0\n",
    "    items = []\n",
    "    while w > 0 and pq:\n",
    "        ratio, i = pq.remove_first()\n",
    "        # Take the whole item if we can do so\n",
    "        if W[i] <= w:\n",
    "            p += P[i]\n",
    "            w -= W[i]\n",
    "            items.append((i, 1))\n",
    "        # ELse, take only a part of an item which can fit in a knapsack\n",
    "        else:\n",
    "            p += ratio * w\n",
    "            items.append((i, w / W[i]))\n",
    "            break\n",
    "            \n",
    "    # Return a final profit\n",
    "    return p, items"
   ]
  },
  {
   "cell_type": "markdown",
   "metadata": {},
   "source": [
    "###### Kilka testów"
   ]
  },
  {
   "cell_type": "code",
   "execution_count": 6,
   "metadata": {},
   "outputs": [
    {
     "name": "stdout",
     "output_type": "stream",
     "text": [
      "Profit gained: 23.0\n",
      "Items taken:\n",
      "[3] Profit: 10  Weight: 3   - took the entire item\n",
      "[0] Profit: 7   Weight: 3   - took the entire item\n",
      "[1] Profit: 2   Weight: 1   - took the entire item\n",
      "[4] Profit: 8   Weight: 6   - took 50.00% of the item\n"
     ]
    }
   ],
   "source": [
    "P = [7, 2, 5, 10, 8, 1, 2]\n",
    "W = [3, 1, 6, 3, 6, 10, 2]\n",
    "MaxW = 10\n",
    "\n",
    "profit, items = knapsack(P, W, MaxW)\n",
    "print('Profit gained:', profit)\n",
    "print('Items taken:')\n",
    "for i, perc in items:\n",
    "    print(f'{[i]} Profit: {P[i]:<3} Weight: {W[i]:<3} - {\"took the entire item\" if perc == 1 else \"took {:.2f}% of the item\".format(perc * 100)}')"
   ]
  },
  {
   "cell_type": "markdown",
   "metadata": {},
   "source": [
    "### Implementacja #2\n",
    "##### Z użyciem sortowania"
   ]
  },
  {
   "cell_type": "code",
   "execution_count": 7,
   "metadata": {},
   "outputs": [],
   "source": [
    "def knapsack(P: 'array of profits', W: 'array of weights', MaxW: 'max weight of knapsack'):\n",
    "    n = len(P)\n",
    "    # Create an array which we will sort by a profit/weight ratio\n",
    "    items = [()] * n\n",
    "    for i in range(n):\n",
    "        items[i] = (P[i] / W[i], i)\n",
    "    items.sort(key=lambda x: x[0], reverse=True)\n",
    "    # Take elements of the maximum profit/weight ratio till there is still\n",
    "    # some space remaining in the knapsack\n",
    "    w = MaxW\n",
    "    p = 0\n",
    "    i = 0\n",
    "    contents = []\n",
    "    while w > 0 and i < n:\n",
    "        j = items[i][1]\n",
    "        # Take the whole item if we can do so\n",
    "        if W[j] <= w:\n",
    "            p += P[j]\n",
    "            w -= W[j]\n",
    "            contents.append((j, 1))\n",
    "        # ELse, take only a part of an item which can fit in a knapsack\n",
    "        else:\n",
    "            ratio = items[i][0]\n",
    "            p += ratio * w\n",
    "            contents.append((j, w / W[j]))\n",
    "            break\n",
    "        # Go to the next most profitable item\n",
    "        i += 1\n",
    "            \n",
    "    # Return a final profit\n",
    "    return p, contents"
   ]
  },
  {
   "cell_type": "markdown",
   "metadata": {},
   "source": [
    "###### Kilka testów"
   ]
  },
  {
   "cell_type": "code",
   "execution_count": 8,
   "metadata": {},
   "outputs": [
    {
     "name": "stdout",
     "output_type": "stream",
     "text": [
      "Profit gained: 23.0\n",
      "Items taken:\n",
      "[3] Profit: 10  Weight: 3   - took the entire item\n",
      "[0] Profit: 7   Weight: 3   - took the entire item\n",
      "[1] Profit: 2   Weight: 1   - took the entire item\n",
      "[4] Profit: 8   Weight: 6   - took 50.00% of the item\n"
     ]
    }
   ],
   "source": [
    "P = [7, 2, 5, 10, 8, 1, 2]\n",
    "W = [3, 1, 6, 3, 6, 10, 2]\n",
    "MaxW = 10\n",
    "\n",
    "profit, items = knapsack(P, W, MaxW)\n",
    "print('Profit gained:', profit)\n",
    "print('Items taken:')\n",
    "for i, perc in items:\n",
    "    print(f'{[i]} Profit: {P[i]:<3} Weight: {W[i]:<3} - {\"took the entire item\" if perc == 1 else \"took {:.2f}% of the item\".format(perc * 100)}')"
   ]
  }
 ],
 "metadata": {
  "kernelspec": {
   "display_name": "Python 3 (ipykernel)",
   "language": "python",
   "name": "python3"
  },
  "language_info": {
   "codemirror_mode": {
    "name": "ipython",
    "version": 3
   },
   "file_extension": ".py",
   "mimetype": "text/x-python",
   "name": "python",
   "nbconvert_exporter": "python",
   "pygments_lexer": "ipython3",
   "version": "3.10.0"
  }
 },
 "nbformat": 4,
 "nbformat_minor": 4
}
