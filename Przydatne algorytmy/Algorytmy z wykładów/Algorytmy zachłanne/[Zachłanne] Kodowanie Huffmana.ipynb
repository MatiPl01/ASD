{
 "cells": [
  {
   "cell_type": "markdown",
   "metadata": {},
   "source": [
    "## Tworzenie drzewa kodującego"
   ]
  },
  {
   "cell_type": "markdown",
   "metadata": {},
   "source": [
    "### Implementacja algorytmu"
   ]
  },
  {
   "cell_type": "code",
   "execution_count": 1,
   "metadata": {},
   "outputs": [],
   "source": [
    "class MinPriorityQueue:\n",
    "    def __init__(self, maxsize=128):\n",
    "        if not isinstance(maxsize, int):\n",
    "            raise TypeError(f\"expected 'int', got {str(type(maxsize))[7:-1]}\")\n",
    "        if maxsize <= 0:\n",
    "            raise ValueError(f\"cannot create a {self.__class__.__name__} of a max size {maxsize}\")\n",
    "        self.heap = [None] * maxsize  # Allocate a constant memory space\n",
    "        self._free_idx = 0\n",
    "\n",
    "    def __bool__(self):\n",
    "        return bool(self._free_idx)\n",
    "    \n",
    "    def __len__(self):\n",
    "        return self._free_idx\n",
    "    \n",
    "    @property\n",
    "    def heap_size(self):\n",
    "        return len(self.heap)\n",
    "    \n",
    "    @staticmethod\n",
    "    def parent_idx(curr_idx):\n",
    "        return (curr_idx - 1) // 2\n",
    "    \n",
    "    @staticmethod\n",
    "    def left_child_idx(curr_idx):\n",
    "        return curr_idx * 2 + 1\n",
    "    \n",
    "    @staticmethod\n",
    "    def right_child_idx(curr_idx):\n",
    "        return curr_idx * 2 + 2\n",
    "    \n",
    "    def insert(self, priority: int, obj: object):\n",
    "        if len(self) == self.heap_size:\n",
    "            raise OverflowError(f'insert in a completely filled {self.__class__.__name__}')\n",
    "        # Add a value as the last node of our Complete Binary Tree\n",
    "        self.heap[self._free_idx] = (priority, obj)\n",
    "        # Fix heap in order to satisfy a min-heap property\n",
    "        self._free_idx += 1\n",
    "        self._heapify_up(len(self) - 1)\n",
    "        \n",
    "    def peek(self) -> object:\n",
    "        return None if not self.heap else self.heap[0]  # Return a priority-element pair\n",
    "        \n",
    "    def poll(self) -> object:\n",
    "        if len(self) == 0:\n",
    "            raise IndexError(f'remove_min from an empty {self.__class__.__name__}')\n",
    "        # Store a value to be returned\n",
    "        removed = self.heap[0]\n",
    "        # Place the last leaf in the root position\n",
    "        last_idx = self._free_idx - 1\n",
    "        last = self.heap[last_idx]\n",
    "        self.heap[last_idx] = None\n",
    "        self._free_idx -= 1\n",
    "        if len(self) > 0:\n",
    "            self.heap[0] = last\n",
    "            # Fix a heap in order to stisfy a min-heap property\n",
    "            self._heapify_down(0, len(self))\n",
    "        return removed  # Return a priority-element pair\n",
    "    \n",
    "    def _swap(self, i, j):\n",
    "        self.heap[i], self.heap[j] = self.heap[j], self.heap[i]\n",
    "        \n",
    "    def _heapify_up(self, curr_idx, end_idx=0):\n",
    "        while curr_idx > end_idx:\n",
    "            parent_idx = self.parent_idx(curr_idx)\n",
    "            # Compare the priority of elements and move up the element\n",
    "            # of a lower priority (if it is below an element of a higher priority)\n",
    "            if self.heap[curr_idx][0] < self.heap[parent_idx][0]:\n",
    "                self._swap(curr_idx, parent_idx)\n",
    "            curr_idx = parent_idx\n",
    "        \n",
    "    def _heapify_down(self, curr_idx, end_idx):\n",
    "        # Loop till the current node has a child of a smaller priority than \n",
    "        # itself. We assume that when we enter a node which both children \n",
    "        # have larger priority than this node, a subtree which a current node \n",
    "        # is a root of must fulfill a min-heap property\n",
    "        while True:\n",
    "            l = self.left_child_idx(curr_idx)\n",
    "            r = self.right_child_idx(curr_idx)\n",
    "            smallest_idx = curr_idx\n",
    "\n",
    "            if l < end_idx:\n",
    "                if self.heap[l][0] < self.heap[curr_idx][0]: \n",
    "                    smallest_idx = l\n",
    "                if r < end_idx and self.heap[r][0] < self.heap[smallest_idx][0]:\n",
    "                    smallest_idx = r\n",
    "\n",
    "            if smallest_idx != curr_idx:\n",
    "                self._swap(curr_idx, smallest_idx)\n",
    "                curr_idx = smallest_idx\n",
    "            else:\n",
    "                break\n",
    "\n",
    "\n",
    "class Node:\n",
    "    def __init__(self):\n",
    "        self.left = None\n",
    "        self.right = None\n",
    "        \n",
    "                \n",
    "def create_coding_tree(freqs: 'array of char-frequency pairs') -> Node:\n",
    "    n = len(freqs)\n",
    "    # Create a priority queue of the max size equal to the number\n",
    "    # of characters to encode\n",
    "    pq = MinPriorityQueue(n)\n",
    "\n",
    "    # Add all char-frequency pairs to the queue as Node objects\n",
    "    for i in range(n):\n",
    "        node = Node()\n",
    "        # Add a char property (only leaf nodes will have this property)\n",
    "        node.char = freqs[i][0]\n",
    "        # Insert a node with its priority (frequency of a character)\n",
    "        pq.insert(freqs[i][1], node)\n",
    "\n",
    "    # Create a coding tree\n",
    "    while True:\n",
    "        # Take a pair of two entries of the lowest priority (frequency)\n",
    "        x_priority, x_node = pq.poll()\n",
    "        y_priority, y_node = pq.poll()\n",
    "        # Create a new node and link two nodes from above to this node\n",
    "        node = Node()\n",
    "        node.left  = y_node\n",
    "        node.right = x_node\n",
    "        # Insert this node to the priority queue only if a priority queue\n",
    "        # hasn't been exhausted yet\n",
    "        if pq:\n",
    "            pq.insert(x_priority + y_priority, node)\n",
    "        # Else, return a resulting root node of the encoding tree\n",
    "        else:\n",
    "            return node"
   ]
  },
  {
   "cell_type": "markdown",
   "metadata": {},
   "source": [
    "###### Kilka testów"
   ]
  },
  {
   "cell_type": "code",
   "execution_count": 2,
   "metadata": {},
   "outputs": [
    {
     "name": "stdout",
     "output_type": "stream",
     "text": [
      "<__main__.Node object at 0x000001F044AEB220>\n"
     ]
    }
   ],
   "source": [
    "freqs = [('a', 700), ('b', 200), ('c', 180), ('d', 120), ('e', 70), ('f', 30)]\n",
    "\n",
    "ct = create_coding_tree(freqs)\n",
    "print(ct)"
   ]
  },
  {
   "cell_type": "markdown",
   "metadata": {},
   "source": [
    "##### Pomocnicze"
   ]
  },
  {
   "cell_type": "code",
   "execution_count": 3,
   "metadata": {},
   "outputs": [],
   "source": [
    "def complete_tree_string(values):\n",
    "    if values:\n",
    "        just = 0\n",
    "        data = []\n",
    "\n",
    "        limit = 1\n",
    "        values_row = []\n",
    "        branches_row = []\n",
    "        prev_nodes = 0\n",
    "\n",
    "        for i in range(1, len(values) + 1):\n",
    "            curr_nodes = i - prev_nodes\n",
    "            val_str = str(values[i-1])\n",
    "            just = max(just, len(val_str))\n",
    "            values_row.append(val_str)\n",
    "            right_child_idx = 2 * i\n",
    "            left_child_idx = right_child_idx - 1\n",
    "            if left_child_idx < len(values):\n",
    "                branches_row.append('/')\n",
    "            if right_child_idx < len(values):\n",
    "                branches_row.append('\\\\')\n",
    "\n",
    "            if curr_nodes == limit: \n",
    "                prev_nodes = i\n",
    "                limit *= 2\n",
    "                data.append([values_row, branches_row])\n",
    "                values_row = []\n",
    "                branches_row = []\n",
    "\n",
    "        if values_row:\n",
    "            data.append([values_row, branches_row])\n",
    "\n",
    "        begin_sep = sep = 3 if just % 2 else 2\n",
    "        data_iter = iter(data[::-1])\n",
    "        result = [''] * (len(data) * 2 - 1)\n",
    "        result[-1] = (' ' * sep).join(val.center(just) for val in next(data_iter)[0])\n",
    "\n",
    "        # Format the tree string\n",
    "        for i, (values, branches) in enumerate(data_iter):\n",
    "            mul = 2 * i + 1\n",
    "            # Values\n",
    "            indent = (2 ** (i + 1) - 1) * (just + begin_sep) // 2\n",
    "            sep = 2 * sep + just\n",
    "            result[-(mul + 2)] = f\"{' ' * indent}{(' ' * sep).join(val.center(just) for val in values)}\"\n",
    "            # Branches\n",
    "            branch_indent = (3 * indent + just) // 4\n",
    "            branches_row = []\n",
    "            d_indent = indent - branch_indent\n",
    "            branches_sep = ' ' * (2 * (d_indent - 1) + just)\n",
    "            for i in range(0, len(branches), 2):\n",
    "                branches_row.append(f\"{branches[i]}{branches_sep}{branches[i + 1] if i + 1 < len(branches) else ''}\")\n",
    "            result[-(mul + 1)] = f\"{' ' * branch_indent}{(' ' * (sep - 2 * d_indent)).join(branches_row)}\"\n",
    "\n",
    "        return '\\n'.join(result)\n",
    "    else:\n",
    "        return ''"
   ]
  },
  {
   "cell_type": "code",
   "execution_count": 4,
   "metadata": {},
   "outputs": [],
   "source": [
    "def binary_tree_string(tree_root, *, fn: 'function to get a value of a node' = lambda node: str(node.val)):\n",
    "    if not tree_root: return ''\n",
    "\n",
    "    # Store data from a tree\n",
    "    data = []\n",
    "    lvl_nodes = [tree_root]\n",
    "    just = 1\n",
    "\n",
    "    while True:\n",
    "        if not lvl_nodes: break\n",
    "\n",
    "        curr_row = []\n",
    "        branches = []\n",
    "        next_nodes = []\n",
    "\n",
    "        if not any(lvl_nodes):\n",
    "            break\n",
    "\n",
    "        for node in lvl_nodes:\n",
    "            if not node:\n",
    "                curr_row.append('')\n",
    "                branches.extend([' ', ' '])\n",
    "                next_nodes.extend([None, None])\n",
    "            else:\n",
    "                val = fn(node)\n",
    "                just = max(len(val), just)\n",
    "                curr_row.append(val)\n",
    "\n",
    "                if node.left:\n",
    "                    next_nodes.append(node.left)\n",
    "                    branches.append('/')\n",
    "                else:\n",
    "                    next_nodes.append(None)\n",
    "                    branches.append(' ')\n",
    "\n",
    "                if node.right:\n",
    "                    next_nodes.append(node.right)\n",
    "                    branches.append('\\\\')\n",
    "                else:\n",
    "                    next_nodes.append(None)\n",
    "                    branches.append(' ')\n",
    "\n",
    "        data.append((curr_row, branches))\n",
    "        lvl_nodes = next_nodes\n",
    "\n",
    "    begin_sep = sep = 3 if just % 2 else 2\n",
    "    data_iter = iter(data[::-1])\n",
    "    result = [''] * (len(data) * 2 - 1)\n",
    "    result[-1] = (' ' * sep).join(val.center(just) for val in next(data_iter)[0])\n",
    "\n",
    "    # Format the tree string\n",
    "    for i, (values, branches) in enumerate(data_iter):\n",
    "        mul = 2 * i + 1\n",
    "        # Values\n",
    "        indent = (2 ** (i + 1) - 1) * (just + begin_sep) // 2\n",
    "        sep = 2 * sep + just\n",
    "        result[-(mul + 2)] = f\"{' ' * indent}{(' ' * sep).join(val.center(just) for val in values)}\"\n",
    "        # Branches\n",
    "        branch_indent = (3 * indent + just) // 4\n",
    "        branches_row = []\n",
    "        d_indent = indent - branch_indent\n",
    "        branches_sep = ' ' * (2 * (d_indent - 1) + just)\n",
    "        for i in range(0, len(branches), 2):\n",
    "            branches_row.append(f\"{branches[i]}{branches_sep}{branches[i + 1]}\")\n",
    "        result[-(mul + 1)] = f\"{' ' * branch_indent}{(' ' * (sep - 2 * d_indent)).join(branches_row)}\"\n",
    "\n",
    "    return '\\n'.join(result)"
   ]
  },
  {
   "cell_type": "markdown",
   "metadata": {},
   "source": [
    "###### Kilka testów"
   ]
  },
  {
   "cell_type": "code",
   "execution_count": 5,
   "metadata": {},
   "outputs": [
    {
     "name": "stdout",
     "output_type": "stream",
     "text": [
      "                  (30, 'f') \n",
      "                /            \\\n",
      "      (120, 'd')              (70, 'e') \n",
      "       /      \\                /      \n",
      "(700, 'a')  (180, 'c')  (200, 'b')\n",
      "\n",
      "\n",
      "Removed: (30, 'f')\n",
      "Heap:    [(70, 'e'), (120, 'd'), (200, 'b'), (700, 'a'), (180, 'c'), None]\n",
      "\n",
      "Tree representation:\n",
      "                  (70, 'e') \n",
      "                /            \\\n",
      "      (120, 'd')              (200, 'b')\n",
      "       /      \\\n",
      "(700, 'a')  (180, 'c')\n",
      "\n",
      "\n",
      "Removed: (70, 'e')\n",
      "Heap:    [(120, 'd'), (180, 'c'), (200, 'b'), (700, 'a'), None, None]\n",
      "\n",
      "Tree representation:\n",
      "                  (120, 'd')\n",
      "                /            \\\n",
      "      (180, 'c')              (200, 'b')\n",
      "       /      \n",
      "(700, 'a')\n",
      "\n",
      "\n",
      "Removed: (120, 'd')\n",
      "Heap:    [(180, 'c'), (700, 'a'), (200, 'b'), None, None, None]\n",
      "\n",
      "Tree representation:\n",
      "      (180, 'c')\n",
      "       /      \\\n",
      "(700, 'a')  (200, 'b')\n",
      "\n",
      "\n",
      "Removed: (180, 'c')\n",
      "Heap:    [(200, 'b'), (700, 'a'), None, None, None, None]\n",
      "\n",
      "Tree representation:\n",
      "      (200, 'b')\n",
      "       /      \n",
      "(700, 'a')\n",
      "\n",
      "\n",
      "Removed: (200, 'b')\n",
      "Heap:    [(700, 'a'), None, None, None, None, None]\n",
      "\n",
      "Tree representation:\n",
      "(700, 'a')\n",
      "\n",
      "\n",
      "Removed: (700, 'a')\n",
      "Heap:    [None, None, None, None, None, None]\n",
      "\n",
      "Tree representation:\n",
      "\n"
     ]
    }
   ],
   "source": [
    "freqs = [('a', 700), ('b', 200), ('c', 180), ('d', 120), ('e', 70), ('f', 30)]\n",
    "\n",
    "q = MinPriorityQueue(len(freqs))\n",
    "for freq in freqs:\n",
    "    q.insert(freq[1], freq[0])\n",
    "    \n",
    "print(complete_tree_string(q.heap))\n",
    "    \n",
    "while q:\n",
    "    print('\\n\\nRemoved:', q.poll())\n",
    "    print('Heap:   ', q.heap)\n",
    "    print('\\nTree representation:')\n",
    "    print(complete_tree_string([v for v in q.heap if v is not None]))"
   ]
  },
  {
   "attachments": {
    "image.png": {
     "image/png": "[encoded data removed]"
    }
   },
   "cell_type": "markdown",
   "metadata": {},
   "source": [
    "![image.png](attachment:image.png)"
   ]
  },
  {
   "cell_type": "code",
   "execution_count": 6,
   "metadata": {},
   "outputs": [
    {
     "name": "stdout",
     "output_type": "stream",
     "text": [
      "                              .\n",
      "                      /               \\\n",
      "              a                               .\n",
      "                                          /       \\\n",
      "                                      .               .\n",
      "                                    /   \\           /   \\\n",
      "                                  b       c       d       .\n",
      "                                                         / \\\n",
      "                                                        e   f\n"
     ]
    }
   ],
   "source": [
    "freqs = [('a', 700), ('b', 200), ('c', 180), ('d', 120), ('e', 70), ('f', 30)]\n",
    "\n",
    "ct = create_coding_tree(freqs)\n",
    "print(binary_tree_string(ct, fn=lambda node: str(node.char) if hasattr(node, 'char') else '.'))"
   ]
  },
  {
   "cell_type": "markdown",
   "metadata": {},
   "source": [
    "## Przypisywanie kodów znakom"
   ]
  },
  {
   "cell_type": "markdown",
   "metadata": {},
   "source": [
    "W poniższej implementacji wykorzystujemy zaimplementowany wyżej algorytm, który tworzy drzewo kodujące."
   ]
  },
  {
   "cell_type": "markdown",
   "metadata": {},
   "source": [
    "### Implementacja algorytmu"
   ]
  },
  {
   "cell_type": "code",
   "execution_count": 7,
   "metadata": {},
   "outputs": [],
   "source": [
    "def create_huffman_codes(ct: 'Huffman coding tree'):\n",
    "    # Traverse a tree using a DFS algorithm and create codes of characters\n",
    "    # (we assume that a left branch corresponds to the '0' code and a right\n",
    "    # one to the '1' code)\n",
    "    result = []\n",
    "    \n",
    "    # Create a temporary array in which a resulting code of a character will\n",
    "    # be temporarily stored (created by appending subsequent digits of a code)\n",
    "    code = []\n",
    "    \n",
    "    def encode(node):\n",
    "        # If we entered the last node, store a character and its code in\n",
    "        # a resulting array\n",
    "        if node.left is node.right is None:\n",
    "            return result.append((node.char, ''.join(code)))\n",
    "            \n",
    "        if node.left:\n",
    "            code.append('0')\n",
    "            encode(node.left)\n",
    "            code.pop()\n",
    "        if node.right:\n",
    "            code.append('1')\n",
    "            encode(node.right)\n",
    "            code.pop()\n",
    "        \n",
    "    encode(ct)\n",
    "    \n",
    "    return result"
   ]
  },
  {
   "cell_type": "markdown",
   "metadata": {},
   "source": [
    "###### Kilka testów"
   ]
  },
  {
   "attachments": {
    "image.png": {
     "image/png": "[encoded data removed]"
    }
   },
   "cell_type": "markdown",
   "metadata": {},
   "source": [
    "![image.png](attachment:image.png)"
   ]
  },
  {
   "cell_type": "code",
   "execution_count": 8,
   "metadata": {},
   "outputs": [
    {
     "name": "stdout",
     "output_type": "stream",
     "text": [
      "[('a', '0'), ('b', '100'), ('c', '101'), ('d', '110'), ('e', '1110'), ('f', '1111')]\n"
     ]
    }
   ],
   "source": [
    "freqs = [('a', 700), ('b', 200), ('c', 180), ('d', 120), ('e', 70), ('f', 30)]\n",
    "\n",
    "ct = create_coding_tree(freqs)\n",
    "print(create_huffman_codes(ct))"
   ]
  },
  {
   "cell_type": "code",
   "execution_count": 9,
   "metadata": {},
   "outputs": [
    {
     "name": "stdout",
     "output_type": "stream",
     "text": [
      "[('z', '0000000'), ('f', '0000001'), ('g', '000001'), ('i', '00001'), ('q', '00010'), ('j', '00011'), ('r', '0010'), ('h', '0011'), ('l', '0100'), ('y', '0101'), ('s', '01100'), ('e', '01101'), ('w', '0111'), ('d', '1000'), ('a', '1001'), ('o', '1010'), ('k', '10110'), ('b', '10111'), ('m', '1100'), ('c', '1101'), ('t', '11100'), ('p', '11101'), ('u', '1111')]\n"
     ]
    }
   ],
   "source": [
    "S = [\"a\", \"b\", \"c\", \"d\", \"e\", \"f\", \"g\", \"h\", \"i\", \"j\", \"k\", \"l\", \"m\", \"o\", \"p\", \"r\", \"s\", \"t\", \"u\", \"w\", \"y\", \"z\", \"q\"]\n",
    "F = [865, 395, 777, 912, 431, 42, 266, 989, 524, 498, 415, 941, 803, 850, 311, 992, 489, 367, 598, 914, 930, 224, 517]\n",
    "freqs = list(zip(S, F))\n",
    "\n",
    "ct = create_coding_tree(freqs)\n",
    "print(create_huffman_codes(ct))"
   ]
  },
  {
   "cell_type": "markdown",
   "metadata": {},
   "source": [
    "## Przywracanie początkowej kolejności znaków"
   ]
  },
  {
   "cell_type": "markdown",
   "metadata": {},
   "source": [
    "Poniższa funkcja służy do ustawienia par znak-kod w taki sposób, że każdy ze znaków wystąpi na tej pozycji, na której występował w tablicy wyjściowej."
   ]
  },
  {
   "cell_type": "code",
   "execution_count": 10,
   "metadata": {},
   "outputs": [],
   "source": [
    "def reorder_codes(C: 'array of character-code pairs', F: 'initial array of char-frequency pairs'):\n",
    "    n = len(C)\n",
    "    # Create an array of char-index pairs\n",
    "    A = [(F[i][0], i) for i in range(n)]\n",
    "\n",
    "    # Sort the array created above and the array of char-code pairs by Unicode\n",
    "    # codes of characters\n",
    "    A.sort(key=lambda pair: pair[0])\n",
    "    C.sort(key=lambda pair: pair[0])\n",
    "\n",
    "    # Create a temporary array to store information if the current entry was\n",
    "    # placed on its final position\n",
    "    T = [False] * n\n",
    "\n",
    "    # Reorder the array or char-code pairs so that all entries are stored\n",
    "    # in the same order they were stored in the S array\n",
    "    for i in range(n):\n",
    "        if not T[i]:\n",
    "            swap(C, i, A[i][1])\n",
    "            T[A[i][1]] = True\n",
    "\n",
    "\n",
    "def swap(A, i, j):\n",
    "    A[i], A[j] = A[j], A[i]"
   ]
  },
  {
   "cell_type": "markdown",
   "metadata": {},
   "source": [
    "##### Albo łatwiej (z wykorzystaniem sortowania logicznego):"
   ]
  },
  {
   "cell_type": "code",
   "execution_count": 11,
   "metadata": {},
   "outputs": [],
   "source": [
    "def get_reordered_codes(C: 'array of char-code pairs', F: 'initial array of char-frequency pairs'):\n",
    "    n = len(C)\n",
    "    ind_F = sorted(range(n), key=lambda i: F[i][0])\n",
    "    ind_C = sorted(range(n), key=lambda i: C[i][0])\n",
    "    return [C[ind_C[ind_F[i]]] for i in range(n)]"
   ]
  },
  {
   "cell_type": "markdown",
   "metadata": {},
   "source": [
    "###### Kilka testów"
   ]
  },
  {
   "cell_type": "code",
   "execution_count": 12,
   "metadata": {},
   "outputs": [
    {
     "name": "stdout",
     "output_type": "stream",
     "text": [
      "Freqs: [('c', 180), ('b', 200), ('e', 70), ('f', 30), ('a', 700), ('d', 120)]\n",
      "[('c', '101'), ('b', '100'), ('e', '1110'), ('f', '1111'), ('a', '0'), ('d', '110')]\n",
      "[('e', '1110'), ('b', '100'), ('a', '0'), ('f', '1111'), ('c', '101'), ('d', '110')]\n"
     ]
    }
   ],
   "source": [
    "import random\n",
    "\n",
    "freqs = [('a', 700), ('b', 200), ('c', 180), ('d', 120), ('e', 70), ('f', 30)]\n",
    "random.shuffle(freqs)\n",
    "print('Freqs:', freqs)\n",
    "\n",
    "ct = create_coding_tree(freqs)\n",
    "codes = create_huffman_codes(ct)\n",
    "reorder_codes(codes, freqs)\n",
    "print(codes)\n",
    "# LUB\n",
    "codes = get_reordered_codes(codes, freqs)\n",
    "print(codes)"
   ]
  },
  {
   "cell_type": "code",
   "execution_count": 13,
   "metadata": {},
   "outputs": [
    {
     "name": "stdout",
     "output_type": "stream",
     "text": [
      "[('a', '1001'), ('b', '10111'), ('c', '1101'), ('d', '1000'), ('e', '01101'), ('f', '0000001'), ('g', '000001'), ('h', '0011'), ('i', '00001'), ('j', '00011'), ('k', '10110'), ('l', '0100'), ('m', '1100'), ('o', '1010'), ('p', '11101'), ('r', '0010'), ('s', '01100'), ('t', '11100'), ('u', '1111'), ('w', '0111'), ('y', '0101'), ('z', '0000000'), ('q', '00010')]\n"
     ]
    }
   ],
   "source": [
    "S = [\"a\", \"b\", \"c\", \"d\", \"e\", \"f\", \"g\", \"h\", \"i\", \"j\", \"k\", \"l\", \"m\", \"o\", \"p\", \"r\", \"s\", \"t\", \"u\", \"w\", \"y\", \"z\", \"q\"]\n",
    "F = [865, 395, 777, 912, 431, 42, 266, 989, 524, 498, 415, 941, 803, 850, 311, 992, 489, 367, 598, 914, 930, 224, 517]\n",
    "freqs = list(zip(S, F))\n",
    "\n",
    "ct = create_coding_tree(freqs)\n",
    "codes = create_huffman_codes(ct)\n",
    "reorder_codes(codes, freqs)\n",
    "print(codes)"
   ]
  },
  {
   "cell_type": "markdown",
   "metadata": {},
   "source": [
    "## Zliczanie łącznej liczby bitów, potrzebnej do zakodowania"
   ]
  },
  {
   "cell_type": "markdown",
   "metadata": {},
   "source": [
    "Chodzi o zwrócenie sumarycznej liczby bitów (długości finalnego kodu) zakodowanej, przy pomocy kodu Huffmana, informacji. (Dodatkowo porównamy tę liczbę z liczbą bitów, jaka by była konieczna, przy kodowaniu informacji z użyciem kodów o stałej długości)."
   ]
  },
  {
   "cell_type": "code",
   "execution_count": 14,
   "metadata": {},
   "outputs": [],
   "source": [
    "def calc_huff_bits(C: 'array of char-code pairs', F: 'array of char-frequency pairs') -> int:\n",
    "    # Calculate total bits required by the huffman encoding\n",
    "    # (Notice that an array of codes (C array) must be ordered in\n",
    "    # the same way as the input array of frequencies and corresponding\n",
    "    # characters to encode)\n",
    "    total = 0\n",
    "    for i in range(len(F)):\n",
    "        total += F[i][1] * len(C[i][1])\n",
    "    return total"
   ]
  },
  {
   "cell_type": "code",
   "execution_count": 15,
   "metadata": {},
   "outputs": [],
   "source": [
    "import math\n",
    "\n",
    "# All codes will have the same lengths\n",
    "def count_const_bits(freqs):\n",
    "    n = len(freqs)\n",
    "    length = math.ceil(math.log(n, 2))\n",
    "    return sum(freq[1] for freq in freqs) * length"
   ]
  },
  {
   "cell_type": "markdown",
   "metadata": {},
   "source": [
    "###### Kilka testów"
   ]
  },
  {
   "attachments": {
    "image.png": {
     "image/png": "[encoded data removed]"
    }
   },
   "cell_type": "markdown",
   "metadata": {},
   "source": [
    "![image.png](attachment:image.png)"
   ]
  },
  {
   "cell_type": "code",
   "execution_count": 16,
   "metadata": {},
   "outputs": [
    {
     "name": "stdout",
     "output_type": "stream",
     "text": [
      "Total bits for Huffman encoding:\n",
      "2600\n",
      "Total bits for constant length encoding:\n",
      "3900\n"
     ]
    }
   ],
   "source": [
    "freqs = [('a', 700), ('b', 200), ('c', 180), ('d', 120), ('e', 70), ('f', 30)]\n",
    "\n",
    "ct = create_coding_tree(freqs)\n",
    "huff_codes = create_huffman_codes(ct)\n",
    "reorder_codes(huff_codes, freqs)\n",
    "print('Total bits for Huffman encoding:', calc_huff_bits(huff_codes, freqs), sep='\\n')\n",
    "print('Total bits for constant length encoding:', count_const_bits(freqs), sep='\\n')"
   ]
  },
  {
   "cell_type": "code",
   "execution_count": 17,
   "metadata": {},
   "outputs": [
    {
     "name": "stdout",
     "output_type": "stream",
     "text": [
      "Total bits for Huffman encoding:\n",
      "61477\n",
      "Total bits for constant length encoding:\n",
      "70250\n"
     ]
    }
   ],
   "source": [
    "S = [\"a\", \"b\", \"c\", \"d\", \"e\", \"f\", \"g\", \"h\", \"i\", \"j\", \"k\", \"l\", \"m\", \"o\", \"p\", \"r\", \"s\", \"t\", \"u\", \"w\", \"y\", \"z\", \"q\"]\n",
    "F = [865, 395, 777, 912, 431, 42, 266, 989, 524, 498, 415, 941, 803, 850, 311, 992, 489, 367, 598, 914, 930, 224, 517]\n",
    "freqs = list(zip(S, F))\n",
    "\n",
    "ct = create_coding_tree(freqs)\n",
    "huff_codes = create_huffman_codes(ct)\n",
    "reorder_codes(huff_codes, freqs)\n",
    "print('Total bits for Huffman encoding:', calc_huff_bits(huff_codes, freqs), sep='\\n')\n",
    "print('Total bits for constant length encoding:', count_const_bits(freqs), sep='\\n')"
   ]
  },
  {
   "cell_type": "markdown",
   "metadata": {},
   "source": [
    "## Kodowanie informacji, przy pomocy kodu Huffmana"
   ]
  },
  {
   "cell_type": "markdown",
   "metadata": {},
   "source": [
    "Oczywiście nie jesteśmy w stanie kodować informacji w Pythonie (w sensie, nie możemy zmienić sposobu zapisu danych w pamięci). Poniższy algorytm jedynie ma na celu utworzenie ciągu tekstowego, który będzie przedstawiał, jak wyglądałby dany tekst, otrzymany na wejściu, po zapisaniu go, przy pomocy kodu Huffmana."
   ]
  },
  {
   "cell_type": "markdown",
   "metadata": {},
   "source": [
    "### Implementacja #1\n",
    "##### Z użyciem słownika"
   ]
  },
  {
   "cell_type": "code",
   "execution_count": 18,
   "metadata": {},
   "outputs": [],
   "source": [
    "from collections import defaultdict\n",
    "\n",
    "\n",
    "def count_freqs(string):\n",
    "    # We will use a dictionary to store counts of chars\n",
    "    counts = defaultdict(int)\n",
    "    for char in string:\n",
    "        counts[char] += 1\n",
    "    return list(counts.items())\n",
    "        \n",
    "    \n",
    "def huffman_encode(string: 'input string to encode', *, codes: 'codes of characters' = None):\n",
    "    if not codes:\n",
    "        freqs = count_freqs(string)\n",
    "        ct    = create_coding_tree(freqs)\n",
    "        codes = {char: code for char, code in create_huffman_codes(ct)}\n",
    "    # Start encoding an input string\n",
    "    n = len(string)\n",
    "    res = [None] * n\n",
    "    for i in range(n):\n",
    "        res[i] = codes[string[i]]\n",
    "    \n",
    "    return ''.join(res)"
   ]
  },
  {
   "cell_type": "markdown",
   "metadata": {},
   "source": [
    "###### Kilka testów"
   ]
  },
  {
   "cell_type": "code",
   "execution_count": 19,
   "metadata": {},
   "outputs": [
    {
     "name": "stdout",
     "output_type": "stream",
     "text": [
      "0111010110001101101100000001110011000101000010001000001100011011000011111101\n"
     ]
    }
   ],
   "source": [
    "string = 'ala ma kota i nie ma psa'\n",
    "\n",
    "# If we already created a coding tree before, we can create a codes dictionary and pass it to a function\n",
    "freqs = count_freqs(string)\n",
    "ct = create_coding_tree(freqs)\n",
    "codes = {char: code for char, code in create_huffman_codes(ct)}\n",
    "print(huffman_encode(string, codes=codes))"
   ]
  },
  {
   "cell_type": "code",
   "execution_count": 20,
   "metadata": {},
   "outputs": [
    {
     "name": "stdout",
     "output_type": "stream",
     "text": [
      "1000100000100100000000001000110111110100001010101000010001111111111001001110101111000001001110100101000110111100011100111010111101010011001001010010110010000\n"
     ]
    }
   ],
   "source": [
    "string = 'Python programming language is so cool!'\n",
    "\n",
    "print(huffman_encode(string))"
   ]
  },
  {
   "cell_type": "markdown",
   "metadata": {},
   "source": [
    "### Implementacja #2\n",
    "##### Z użyciem tablicy"
   ]
  },
  {
   "cell_type": "code",
   "execution_count": 21,
   "metadata": {},
   "outputs": [],
   "source": [
    "def count_freqs(string, min_ord, max_ord):\n",
    "    # We will use a an array to store counts of chars\n",
    "    n = max_ord - min_ord + 1\n",
    "    counts = [0] * n\n",
    "    for char in string:\n",
    "        counts[ord(char) - min_ord] += 1\n",
    "    return [(chr(min_ord + i), counts[i]) for i in range(n) if counts[i]]\n",
    "        \n",
    "    \n",
    "def minmax_ord(S: 'string'):\n",
    "    n = len(S)\n",
    "    min_i = max_i = n - 1\n",
    "    for i in range(0, n, 2):\n",
    "        if S[i] > S[i - 1]:\n",
    "            if S[i] > S[max_i]:     max_i = i\n",
    "            if S[i - 1] < S[min_i]: min_i = i - 1\n",
    "        else:\n",
    "            if S[i - 1] > S[max_i]: max_i = i - 1\n",
    "            if S[i] < S[min_i]:     min_i = i\n",
    "    return ord(S[min_i]), ord(S[max_i])\n",
    "    \n",
    "    \n",
    "def create_codes(freqs: 'array of frequency-char pairs', min_ord=97, max_ord=122):\n",
    "    ct    = create_coding_tree(freqs)\n",
    "    codes = [''] * (max_ord - min_ord + 1)\n",
    "    for char, code in create_huffman_codes(ct):\n",
    "        codes[ord(char) - min_ord] = code\n",
    "    return codes\n",
    "    \n",
    "    \n",
    "def huffman_encode(string: 'input string to encode', *, codes: 'codes of characters' = None):\n",
    "    min_ord, max_ord = minmax_ord(string)\n",
    "    if not codes: codes = create_codes(count_freqs(string, min_ord, max_ord), min_ord, max_ord) \n",
    "    get_code = lambda char: codes[ord(char) - min_ord]\n",
    "    # Start encoding an input string\n",
    "    n = len(string)\n",
    "    res = [None] * n\n",
    "    for i in range(n):\n",
    "        res[i] = get_code(string[i])\n",
    "    \n",
    "    return ''.join(res)"
   ]
  },
  {
   "cell_type": "markdown",
   "metadata": {},
   "source": [
    "###### Kilka testów"
   ]
  },
  {
   "cell_type": "code",
   "execution_count": 22,
   "metadata": {},
   "outputs": [
    {
     "name": "stdout",
     "output_type": "stream",
     "text": [
      "[(' ', 6), ('a', 6), ('e', 1), ('i', 2), ('k', 1), ('l', 1), ('m', 2), ('n', 1), ('o', 1), ('p', 1), ('s', 1), ('t', 1)]\n",
      "0111010110111011000100000011100011000011000110000100101101110110000000011101\n"
     ]
    }
   ],
   "source": [
    "string = 'ala ma kota i nie ma psa'\n",
    "\n",
    "# If we already created a coding tree before, we can create a codes dictionary and pass it to a function\n",
    "min_ord, max_ord = minmax_ord(string)\n",
    "freqs = count_freqs(string, min_ord, max_ord)\n",
    "print(freqs)\n",
    "codes = create_codes(freqs, min_ord, max_ord)\n",
    "print(huffman_encode(string, codes=codes))"
   ]
  },
  {
   "cell_type": "code",
   "execution_count": 23,
   "metadata": {},
   "outputs": [
    {
     "name": "stdout",
     "output_type": "stream",
     "text": [
      "[(' ', 5), ('!', 1), ('P', 1), ('a', 3), ('c', 1), ('e', 1), ('g', 4), ('h', 1), ('i', 2), ('l', 2), ('m', 2), ('n', 3), ('o', 5), ('p', 1), ('r', 2), ('s', 2), ('t', 1), ('u', 1), ('y', 1)]\n",
      "0011010000001100110110010000101100111110101011111010010100010000000100011110111001001000011111100000101110011000110000110100111010010011101110100101001000001\n"
     ]
    }
   ],
   "source": [
    "string = 'Python programming language is so cool!'\n",
    "\n",
    "print(count_freqs(string, *minmax_ord(string)))\n",
    "print(huffman_encode(string))"
   ]
  },
  {
   "cell_type": "markdown",
   "metadata": {},
   "source": [
    "## Dekodowanie informacji zakodowanej kodem Huffmana"
   ]
  },
  {
   "cell_type": "markdown",
   "metadata": {},
   "source": [
    "W tej sytuacji potrzebne jest już nam drzewo kodujące, tzn. musimy wiedzieć, w jaki sposób (przy użyciu jakiego kodowania) została zakodowana informacja.\n",
    "###### UWAGA:\n",
    "Można by to rozwiązać, tworząc słownik (hashmapę), gdzie kluczami byłyby kody, a wartosciami, odpowiednie znaki (odwrotnie do słownika $ codes $ w funkcji kodującej). Takie podejście jest nieco łatwiejsze, ale wolniejsze, bo musielibyśmy za każdym razem tworzyć kopię fragmentu ciągu bitów (kodu) i sprawdzać, czy jest on kluczem słownika. Najlepiej jest zatem skorzystać z drzewa kodującego."
   ]
  },
  {
   "cell_type": "markdown",
   "metadata": {},
   "source": [
    "### Implementacja algorytmu"
   ]
  },
  {
   "cell_type": "code",
   "execution_count": 24,
   "metadata": {},
   "outputs": [],
   "source": [
    "def decode_char(encoded: 'encoded string', i: 'code begin index', ct: 'coding tree'):\n",
    "    node = ct\n",
    "\n",
    "    while i < len(encoded):\n",
    "        if encoded[i] == '0' and node.left:\n",
    "            node = node.left\n",
    "        elif encoded[i] == '1' and node.right:\n",
    "            node = node.right\n",
    "        else:\n",
    "            break\n",
    "        i += 1\n",
    "        \n",
    "    return node.char, i\n",
    "    \n",
    "\n",
    "def huffman_decode(encoded: 'encoded string', ct: 'coding tree used to encode a string'):\n",
    "    res = []\n",
    "    n = len(encoded)\n",
    "    i = 0\n",
    "    \n",
    "    while i < n:\n",
    "        char, i = decode_char(encoded, i, ct)\n",
    "        res.append(char)\n",
    "        \n",
    "    return ''.join(res)"
   ]
  },
  {
   "cell_type": "markdown",
   "metadata": {},
   "source": [
    "###### Kilka testów\n",
    "(Testy dla kodowania z użyciem słownika)"
   ]
  },
  {
   "cell_type": "markdown",
   "metadata": {},
   "source": [
    "##### Pomocnicze (przekopiowałem jedną z powyższych implementacji):"
   ]
  },
  {
   "cell_type": "code",
   "execution_count": 25,
   "metadata": {},
   "outputs": [],
   "source": [
    "from collections import defaultdict\n",
    "\n",
    "\n",
    "def count_freqs(string):\n",
    "    # We will use a dictionary to store counts of chars\n",
    "    counts = defaultdict(int)\n",
    "    for char in string:\n",
    "        counts[char] += 1\n",
    "    return list(counts.items())\n",
    "        \n",
    "    \n",
    "def huffman_encode(string: 'input string to encode', *, codes: 'codes of characters' = None):\n",
    "    if not codes:\n",
    "        freqs = count_freqs(string)\n",
    "        ct    = create_coding_tree(freqs)\n",
    "        codes = {char: code for char, code in create_huffman_codes(ct)}\n",
    "    # Start encoding an input string\n",
    "    n = len(string)\n",
    "    res = [None] * n\n",
    "    for i in range(n):\n",
    "        res[i] = codes[string[i]]\n",
    "    \n",
    "    return ''.join(res)"
   ]
  },
  {
   "cell_type": "markdown",
   "metadata": {},
   "source": [
    "##### Testy:"
   ]
  },
  {
   "cell_type": "code",
   "execution_count": 26,
   "metadata": {},
   "outputs": [
    {
     "name": "stdout",
     "output_type": "stream",
     "text": [
      "Input string:\n",
      "ala ma kota i nie ma psa\n",
      "Encoded string:\n",
      "0111010110001101101100000001110011000101000010001000001100011011000011111101\n",
      "Decoded string:\n",
      "ala ma kota i nie ma psa\n",
      "\n",
      "Is decoded the same as input? True\n"
     ]
    }
   ],
   "source": [
    "string = 'ala ma kota i nie ma psa'\n",
    "\n",
    "freqs = count_freqs(string)\n",
    "ct = create_coding_tree(freqs)\n",
    "codes = {char: code for char, code in create_huffman_codes(ct)}\n",
    "encoded = huffman_encode(string, codes=codes)\n",
    "\n",
    "# Assume we get encoded string and a coding tree (without having to run a code above)\n",
    "decoded = huffman_decode(encoded, ct)\n",
    "print('Input string:')\n",
    "print(string)\n",
    "print('Encoded string:')\n",
    "print(encoded)\n",
    "print('Decoded string:')\n",
    "print(decoded)\n",
    "print('\\nIs decoded the same as input?', string == decoded)"
   ]
  },
  {
   "cell_type": "code",
   "execution_count": 27,
   "metadata": {},
   "outputs": [
    {
     "name": "stdout",
     "output_type": "stream",
     "text": [
      "Input string:\n",
      "Python programming language is so cool!\n",
      "Encoded string:\n",
      "1000100000100100000000001000110111110100001010101000010001111111111001001110101111000001001110100101000110111100011100111010111101010011001001010010110010000\n",
      "Decoded string:\n",
      "Python programming language is so cool!\n",
      "\n",
      "Is decoded the same as input? True\n"
     ]
    }
   ],
   "source": [
    "string = 'Python programming language is so cool!'\n",
    "\n",
    "freqs = count_freqs(string)\n",
    "ct = create_coding_tree(freqs)\n",
    "codes = {char: code for char, code in create_huffman_codes(ct)}\n",
    "encoded = huffman_encode(string, codes=codes)\n",
    "decoded = huffman_decode(encoded, ct)\n",
    "\n",
    "# Assume we get encoded string and a coding tree (without having to run a code above)\n",
    "decoded = huffman_decode(encoded, ct)\n",
    "print('Input string:')\n",
    "print(string)\n",
    "print('Encoded string:')\n",
    "print(encoded)\n",
    "print('Decoded string:')\n",
    "print(decoded)\n",
    "print('\\nIs decoded the same as input?', string == decoded)"
   ]
  },
  {
   "cell_type": "markdown",
   "metadata": {},
   "source": [
    "###### Kilka testów\n",
    "(Testy dla kodowania z użyciem tablicy)"
   ]
  },
  {
   "cell_type": "markdown",
   "metadata": {},
   "source": [
    "##### Pomocnicze (przekopiowałem jedną z powyższych implementacji):"
   ]
  },
  {
   "cell_type": "code",
   "execution_count": 28,
   "metadata": {},
   "outputs": [],
   "source": [
    "def count_freqs(string, min_ord, max_ord):\n",
    "    # We will use a an array to store counts of chars\n",
    "    n = max_ord - min_ord + 1\n",
    "    counts = [0] * n\n",
    "    for char in string:\n",
    "        counts[ord(char) - min_ord] += 1\n",
    "    return [(chr(min_ord + i), counts[i]) for i in range(n) if counts[i]]\n",
    "        \n",
    "    \n",
    "def minmax_ord(S: 'string'):\n",
    "    n = len(S)\n",
    "    min_i = max_i = n - 1\n",
    "    for i in range(0, n, 2):\n",
    "        if S[i] > S[i - 1]:\n",
    "            if S[i] > S[max_i]:     max_i = i\n",
    "            if S[i - 1] < S[min_i]: min_i = i - 1\n",
    "        else:\n",
    "            if S[i - 1] > S[max_i]: max_i = i - 1\n",
    "            if S[i] < S[min_i]:     min_i = i\n",
    "    return ord(S[min_i]), ord(S[max_i])\n",
    "    \n",
    "    \n",
    "def create_codes(freqs: 'array of frequency-char pairs', min_ord=97, max_ord=122):\n",
    "    ct    = create_coding_tree(freqs)\n",
    "    codes = [''] * (max_ord - min_ord + 1)\n",
    "    for char, code in create_huffman_codes(ct):\n",
    "        codes[ord(char) - min_ord] = code\n",
    "    return codes\n",
    "    \n",
    "    \n",
    "def huffman_encode(string: 'input string to encode', *, codes: 'codes of characters' = None):\n",
    "    min_ord, max_ord = minmax_ord(string)\n",
    "    if not codes: codes = create_codes(count_freqs(string, min_ord, max_ord), min_ord, max_ord) \n",
    "    get_code = lambda char: codes[ord(char) - min_ord]\n",
    "    # Start encoding an input string\n",
    "    n = len(string)\n",
    "    res = [None] * n\n",
    "    for i in range(n):\n",
    "        print(i, string[i], ord(string[i]), min_ord, max_ord)\n",
    "        res[i] = get_code(string[i])\n",
    "    \n",
    "    return ''.join(res)"
   ]
  },
  {
   "cell_type": "markdown",
   "metadata": {},
   "source": [
    "##### Testy:"
   ]
  },
  {
   "cell_type": "code",
   "execution_count": 29,
   "metadata": {},
   "outputs": [
    {
     "name": "stdout",
     "output_type": "stream",
     "text": [
      "0 a 97 32 116\n",
      "1 l 108 32 116\n",
      "2 a 97 32 116\n",
      "3   32 32 116\n",
      "4 m 109 32 116\n",
      "5 a 97 32 116\n",
      "6   32 32 116\n",
      "7 k 107 32 116\n",
      "8 o 111 32 116\n",
      "9 t 116 32 116\n",
      "10 a 97 32 116\n",
      "11   32 32 116\n",
      "12 i 105 32 116\n",
      "13   32 32 116\n",
      "14 n 110 32 116\n",
      "15 i 105 32 116\n",
      "16 e 101 32 116\n",
      "17   32 32 116\n",
      "18 m 109 32 116\n",
      "19 a 97 32 116\n",
      "20   32 32 116\n",
      "21 p 112 32 116\n",
      "22 s 115 32 116\n",
      "23 a 97 32 116\n",
      "Input string:\n",
      "ala ma kota i nie ma psa\n",
      "Encoded string:\n",
      "0111010110111011000100000011100011000011000110000100101101110110000000011101\n",
      "Decoded string:\n",
      "ala ma kota i nie ma psa\n",
      "\n",
      "Is decoded the same as input? True\n"
     ]
    }
   ],
   "source": [
    "string = 'ala ma kota i nie ma psa'\n",
    "\n",
    "min_ord, max_ord = minmax_ord(string)\n",
    "freqs = count_freqs(string, min_ord, max_ord)\n",
    "codes = create_codes(freqs, min_ord, max_ord)\n",
    "ct = create_coding_tree(freqs)\n",
    "encoded = huffman_encode(string, codes=codes)\n",
    "\n",
    "# Assume we get encoded string and a coding tree (without having to run a code above)\n",
    "decoded = huffman_decode(encoded, ct)\n",
    "print('Input string:')\n",
    "print(string)\n",
    "print('Encoded string:')\n",
    "print(encoded)\n",
    "print('Decoded string:')\n",
    "print(decoded)\n",
    "print('\\nIs decoded the same as input?', string == decoded)"
   ]
  },
  {
   "cell_type": "code",
   "execution_count": 30,
   "metadata": {},
   "outputs": [
    {
     "name": "stdout",
     "output_type": "stream",
     "text": [
      "0 P 80 32 121\n",
      "1 y 121 32 121\n",
      "2 t 116 32 121\n",
      "3 h 104 32 121\n",
      "4 o 111 32 121\n",
      "5 n 110 32 121\n",
      "6   32 32 121\n",
      "7 p 112 32 121\n",
      "8 r 114 32 121\n",
      "9 o 111 32 121\n",
      "10 g 103 32 121\n",
      "11 r 114 32 121\n",
      "12 a 97 32 121\n",
      "13 m 109 32 121\n",
      "14 m 109 32 121\n",
      "15 i 105 32 121\n",
      "16 n 110 32 121\n",
      "17 g 103 32 121\n",
      "18   32 32 121\n",
      "19 l 108 32 121\n",
      "20 a 97 32 121\n",
      "21 n 110 32 121\n",
      "22 g 103 32 121\n",
      "23 u 117 32 121\n",
      "24 a 97 32 121\n",
      "25 g 103 32 121\n",
      "26 e 101 32 121\n",
      "27   32 32 121\n",
      "28 i 105 32 121\n",
      "29 s 115 32 121\n",
      "30   32 32 121\n",
      "31 s 115 32 121\n",
      "32 o 111 32 121\n",
      "33   32 32 121\n",
      "34 c 99 32 121\n",
      "35 o 111 32 121\n",
      "36 o 111 32 121\n",
      "37 l 108 32 121\n",
      "38 ! 33 32 121\n",
      "Input string:\n",
      "Python programming language is so cool!\n",
      "Encoded string:\n",
      "0011010000001100110110010000101100111110101011111010010100010000000100011110111001001000011111100000101110011000110000110100111010010011101110100101001000001\n",
      "Decoded string:\n",
      "Python programming language is so cool!\n",
      "\n",
      "Is decoded the same as input? True\n"
     ]
    }
   ],
   "source": [
    "string = 'Python programming language is so cool!'\n",
    "\n",
    "min_ord, max_ord = minmax_ord(string)\n",
    "freqs = count_freqs(string, min_ord, max_ord)\n",
    "codes = create_codes(freqs, min_ord, max_ord)\n",
    "ct = create_coding_tree(freqs)\n",
    "encoded = huffman_encode(string, codes=codes)\n",
    "\n",
    "# Assume we get encoded string and a coding tree (without having to run a code above)\n",
    "decoded = huffman_decode(encoded, ct)\n",
    "print('Input string:')\n",
    "print(string)\n",
    "print('Encoded string:')\n",
    "print(encoded)\n",
    "print('Decoded string:')\n",
    "print(decoded)\n",
    "print('\\nIs decoded the same as input?', string == decoded)"
   ]
  },
  {
   "cell_type": "code",
   "execution_count": 31,
   "metadata": {},
   "outputs": [
    {
     "name": "stdout",
     "output_type": "stream",
     "text": [
      "Frequencies: [('\\n', 1), ('🌶', 1), ('🌽', 1), ('🍅', 1), ('🍆', 1), ('🍈', 1), ('🍉', 12), ('🍊', 1), ('🍋', 1), ('🍌', 5), ('🍎', 9), ('🍓', 1), ('🎁', 5), ('🎶', 1), ('👀', 5), ('👌', 1), ('👍', 1), ('👏', 1), ('💕', 1), ('😉', 1), ('😎', 1), ('🙌', 1), ('🤢', 1), ('🤣', 1), ('🥐', 1), ('🥑', 1), ('🥘', 1), ('🥟', 1), ('🥦', 1), ('🥭', 1), ('🧀', 1), ('🧆', 1), ('🧇', 1)]\n",
      "0 🤢 129314 10 129479\n",
      "1 👀 128064 10 129479\n",
      "2 🍌 127820 10 129479\n",
      "3 😉 128521 10 129479\n",
      "4 🍉 127817 10 129479\n",
      "5 🍉 127817 10 129479\n",
      "6 🍉 127817 10 129479\n",
      "7 🤣 129315 10 129479\n",
      "8 🍎 127822 10 129479\n",
      "9 😎 128526 10 129479\n",
      "10 🍉 127817 10 129479\n",
      "11 🍉 127817 10 129479\n",
      "12 🍉 127817 10 129479\n",
      "13 🍉 127817 10 129479\n",
      "14 🍌 127820 10 129479\n",
      "15 🎶 127926 10 129479\n",
      "16 🍉 127817 10 129479\n",
      "17 👀 128064 10 129479\n",
      "18 👏 128079 10 129479\n",
      "19 🍉 127817 10 129479\n",
      "20 🎁 127873 10 129479\n",
      "21 👌 128076 10 129479\n",
      "22 🍎 127822 10 129479\n",
      "23 💕 128149 10 129479\n",
      "24 👍 128077 10 129479\n",
      "25 🙌 128588 10 129479\n",
      "26 👀 128064 10 129479\n",
      "27 🍎 127822 10 129479\n",
      "28 🧇 129479 10 129479\n",
      "29 🍌 127820 10 129479\n",
      "30 🥐 129360 10 129479\n",
      "31 🍎 127822 10 129479\n",
      "32 🥟 129375 10 129479\n",
      "33 🧀 129472 10 129479\n",
      "34 🍎 127822 10 129479\n",
      "35 🥘 129368 10 129479\n",
      "36 \n",
      " 10 10 129479\n",
      "37 🍎 127822 10 129479\n",
      "38 🧆 129478 10 129479\n",
      "39 👀 128064 10 129479\n",
      "40 🍌 127820 10 129479\n",
      "41 🍋 127819 10 129479\n",
      "42 🥑 129361 10 129479\n",
      "43 🌶 127798 10 129479\n",
      "44 🎁 127873 10 129479\n",
      "45 🍎 127822 10 129479\n",
      "46 🍈 127816 10 129479\n",
      "47 🎁 127873 10 129479\n",
      "48 🍊 127818 10 129479\n",
      "49 🍉 127817 10 129479\n",
      "50 🍎 127822 10 129479\n",
      "51 🍌 127820 10 129479\n",
      "52 🎁 127873 10 129479\n",
      "53 🍉 127817 10 129479\n",
      "54 🥭 129389 10 129479\n",
      "55 👀 128064 10 129479\n",
      "56 🍎 127822 10 129479\n",
      "57 🍉 127817 10 129479\n",
      "58 🌽 127805 10 129479\n",
      "59 🍆 127814 10 129479\n",
      "60 🍅 127813 10 129479\n",
      "61 🍓 127827 10 129479\n",
      "62 🥦 129382 10 129479\n",
      "63 🎁 127873 10 129479\n",
      "Input string:\n",
      "🤢👀🍌😉🍉🍉🍉🤣🍎😎🍉🍉🍉🍉🍌🎶🍉👀👏🍉🎁👌🍎💕👍🙌👀🍎🧇🍌🥐🍎🥟🧀🍎🥘\n",
      "🍎🧆👀🍌🍋🥑🌶🎁🍎🍈🎁🍊🍉🍎🍌🎁🍉🥭👀🍎🍉🌽🍆🍅🍓🥦🎁\n",
      "Encoded string:\n",
      "101001000001000101001111111000110011001001111111101001010101100000101101100010110100010111100111001000100000001101110010010010100101100110011100101111110111100110110100000100010111101011101100000100110000100010110111100101000001110110000000001111010000101011001101000000111010001\n",
      "Decoded string:\n",
      "🤢👀🍌😉🍉🍉🍉🤣🍎😎🍉🍉🍉🍉🍌🎶🍉👀👏🍉🎁👌🍎💕👍🙌👀🍎🧇🍌🥐🍎🥟🧀🍎🥘\n",
      "🍎🧆👀🍌🍋🥑🌶🎁🍎🍈🎁🍊🍉🍎🍌🎁🍉🥭👀🍎🍉🌽🍆🍅🍓🥦🎁\n",
      "\n",
      "Is decoded the same as input? True\n"
     ]
    }
   ],
   "source": [
    "string = '''🤢👀🍌😉🍉🍉🍉🤣🍎😎🍉🍉🍉🍉🍌🎶🍉👀👏🍉🎁👌🍎💕👍🙌👀🍎🧇🍌🥐🍎🥟🧀🍎🥘\n",
    "🍎🧆👀🍌🍋🥑🌶🎁🍎🍈🎁🍊🍉🍎🍌🎁🍉🥭👀🍎🍉🌽🍆🍅🍓🥦🎁'''\n",
    "\n",
    "min_ord, max_ord = minmax_ord(string)\n",
    "freqs = count_freqs(string, min_ord, max_ord)\n",
    "codes = create_codes(freqs, min_ord, max_ord)\n",
    "print('Frequencies:', freqs)\n",
    "ct = create_coding_tree(freqs)\n",
    "encoded = huffman_encode(string, codes=codes)\n",
    "\n",
    "# Assume we get encoded string and a coding tree (without having to run a code above)\n",
    "decoded = huffman_decode(encoded, ct)\n",
    "print('Input string:')\n",
    "print(string)\n",
    "print('Encoded string:')\n",
    "print(encoded)\n",
    "print('Decoded string:')\n",
    "print(decoded)\n",
    "print('\\nIs decoded the same as input?', string == decoded)"
   ]
  },
  {
   "cell_type": "markdown",
   "metadata": {},
   "source": [
    "# Pozostałe"
   ]
  },
  {
   "cell_type": "markdown",
   "metadata": {},
   "source": [
    "Możemy również zakodować i odkodować dowolny ciąg tekstowy, którego wszystkie znaki znajdują się w drzewie kodującym, przy pomocy dowolnego drzewa kodującego, które zawiera wszystkie znaki z ciągu tekstowego. Kodowanie wtedy zazwyczaj będzie nieoptymalne, bo długości kodów nie są powiązane z częstością występowania danego znaku, ale takie kodowanie wciąż działa (choć nie powinniśmy go używać, bo tracimy wszystkie pozytywy, wynikające z kodowania Huffmana)."
   ]
  },
  {
   "cell_type": "markdown",
   "metadata": {},
   "source": [
    "##### Pomocnicze (przekopiowałem jedną z powyższych implementacji):"
   ]
  },
  {
   "cell_type": "code",
   "execution_count": 32,
   "metadata": {},
   "outputs": [],
   "source": [
    "from collections import defaultdict\n",
    "\n",
    "\n",
    "def count_freqs(string):\n",
    "    # We will use a dictionary to store counts of chars\n",
    "    counts = defaultdict(int)\n",
    "    for char in string:\n",
    "        counts[char] += 1\n",
    "    return list(counts.items())\n",
    "        \n",
    "    \n",
    "def huffman_encode(string: 'input string to encode', *, codes: 'codes of characters' = None):\n",
    "    if not codes:\n",
    "        freqs = count_freqs(string)\n",
    "        ct    = create_coding_tree(freqs)\n",
    "        codes = {char: code for char, code in create_huffman_codes(ct)}\n",
    "    # Start encoding an input string\n",
    "    n = len(string)\n",
    "    res = [None] * n\n",
    "    for i in range(n):\n",
    "        res[i] = codes[string[i]]\n",
    "    \n",
    "    return ''.join(res)"
   ]
  },
  {
   "cell_type": "markdown",
   "metadata": {},
   "source": [
    "###### Kilka testów"
   ]
  },
  {
   "cell_type": "code",
   "execution_count": 33,
   "metadata": {},
   "outputs": [
    {
     "name": "stdout",
     "output_type": "stream",
     "text": [
      "\n",
      "Frequencies:\n",
      "[('a', 180), ('b', 270), ('c', 690), ('d', 580), ('e', 640), ('f', 680), ('g', 950), ('h', 490), ('i', 620), ('j', 440), ('k', 0), ('l', 960), ('m', 810), ('n', 610), ('o', 590), ('p', 110), ('q', 620), ('r', 490), ('s', 400), ('t', 0), ('u', 530), ('v', 790), ('w', 530), ('x', 370), ('y', 60), ('z', 810), ('A', 25), ('B', 57), ('C', 28), ('D', 70), ('E', 99), ('F', 57), ('G', 87), ('H', 51), ('I', 48), ('J', 59), ('K', 0), ('L', 38), ('M', 41), ('N', 90), ('O', 78), ('P', 77), ('Q', 55), ('R', 38), ('S', 63), ('T', 94), ('U', 70), ('V', 9), ('W', 59), ('X', 29), ('Y', 38), ('Z', 96), (' ', 180)]\n",
      "\n",
      "Codes:\n",
      "{'e': '00000', 'i': '00001', 'q': '00010', 'n': '00011', 'G': '00100000', 'O': '00100001', 'P': '00100010', 'Y': '001000110', 'R': '001000111', 'L': '001001000', 'A': '0010010010', 'V': '00100100110', 't': '0010010011100', 'k': '0010010011101', 'K': '001001001111', 'D': '00100101', 'U': '00100110', 'S': '00100111', 'o': '00101', 'd': '00110', 'u': '00111', 'w': '01000', 'b': '010010', 'y': '01001100', 'W': '01001101', 'J': '01001110', 'B': '01001111', 'r': '01010', 'h': '01011', 'l': '0110', 'g': '0111', 'j': '10000', 'X': '100010000', 'C': '100010001', 'F': '10001001', 'p': '1000101', 'Q': '10001100', 'H': '10001101', 'E': '1000111', 'm': '1001', 'z': '1010', 'v': '1011', 's': '11000', 'x': '11001', 'Z': '1101000', 'T': '1101001', ' ': '110101', 'a': '110110', 'N': '1101110', 'I': '11011110', 'M': '11011111', 'c': '1110', 'f': '1111'}\n"
     ]
    }
   ],
   "source": [
    "from string import ascii_letters\n",
    "import random\n",
    "\n",
    "# Generate a random frequencies array with all the English alphabet letters\n",
    "freqs = [(char, random.randint(0, 100) * (1 if char.isupper() else 10)) for char in ascii_letters + ' ']\n",
    "ct = create_coding_tree(freqs)\n",
    "codes = {char: code for char, code in create_huffman_codes(ct)}\n",
    "print('\\nFrequencies:')\n",
    "print(freqs)\n",
    "print('\\nCodes:')\n",
    "print(codes)"
   ]
  },
  {
   "cell_type": "code",
   "execution_count": 34,
   "metadata": {},
   "outputs": [
    {
     "name": "stdout",
     "output_type": "stream",
     "text": [
      "Input string:\n",
      "ala ma kota i nie ma psa\n",
      "Encoded string:\n",
      "110110011011011011010110011101101101010010010011101001010010010011100110110110101000011101010001100001000001101011001110110110101100010111000110110\n",
      "Decoded string:\n",
      "ala ma kota i nie ma psa\n",
      "\n",
      "Is decoded the same as input? True\n"
     ]
    }
   ],
   "source": [
    "string = 'ala ma kota i nie ma psa'\n",
    "\n",
    "encoded = huffman_encode(string, codes=codes)\n",
    "decoded = huffman_decode(encoded, ct)\n",
    "print('Input string:')\n",
    "print(string)\n",
    "print('Encoded string:')\n",
    "print(encoded)\n",
    "print('Decoded string:')\n",
    "print(decoded)\n",
    "print('\\nIs decoded the same as input?', string == decoded)"
   ]
  },
  {
   "cell_type": "code",
   "execution_count": 35,
   "metadata": {},
   "outputs": [
    {
     "name": "stdout",
     "output_type": "stream",
     "text": [
      "Input string:\n",
      "Python programming language is so cool\n",
      "Encoded string:\n",
      "0010001001001100001001001110001011001010001111010110001010101000101011101010110110100110010000100011011111010101101101100001101110011111011001110000011010100001110001101011100000101110101111000101001010110\n",
      "Decoded string:\n",
      "Python programming language is so cool\n",
      "\n",
      "Is decoded the same as input? True\n"
     ]
    }
   ],
   "source": [
    "string = 'Python programming language is so cool'\n",
    "\n",
    "encoded = huffman_encode(string, codes=codes)\n",
    "decoded = huffman_decode(encoded, ct)\n",
    "print('Input string:')\n",
    "print(string)\n",
    "print('Encoded string:')\n",
    "print(encoded)\n",
    "print('Decoded string:')\n",
    "print(decoded)\n",
    "print('\\nIs decoded the same as input?', string == decoded)"
   ]
  },
  {
   "cell_type": "markdown",
   "metadata": {},
   "source": [
    "##### Troubleshooting"
   ]
  },
  {
   "cell_type": "code",
   "execution_count": 36,
   "metadata": {},
   "outputs": [],
   "source": [
    "from queue import PriorityQueue\n",
    "\n",
    "\n",
    "class Node:\n",
    "    def __init__(self):\n",
    "        self.left  = None\n",
    "        self.right = None\n",
    "\n",
    "    # This method is only to allow PriorityQueue comparisons when elements\n",
    "    # have the same priority\n",
    "    def __gt__(self, other):\n",
    "        return 0\n",
    "\n",
    "\n",
    "def create_coding_tree(S: 'array of chars to encode', F: 'array of their frequencies') -> Node:\n",
    "    n = len(S)\n",
    "    # Create a priority queue of the max size equal to the number\n",
    "    # of characters to encode\n",
    "    pq = PriorityQueue(n)\n",
    "\n",
    "    # Add all char-frequency pairs to the queue as Node objects\n",
    "    for i in range(n):\n",
    "        node = Node()\n",
    "        # Add a char property (only leaf nodes will have this property)\n",
    "        node.char = S[i]\n",
    "        # Insert a node with its priority (frequency of a character)\n",
    "        pq.put((F[i], node))\n",
    "\n",
    "    # Create a coding tree\n",
    "    while True:\n",
    "        # Take a pair of two entries of the lowest priority (frequency)\n",
    "        x_priority, x_node = pq.get()\n",
    "        y_priority, y_node = pq.get()\n",
    "        # Create a new node and link two nodes from above to this node\n",
    "        node = Node()\n",
    "        node.left  = y_node\n",
    "        node.right = x_node\n",
    "        # Insert this node to the priority queue only if a priority queue\n",
    "        # hasn't been exhausted yet\n",
    "        if not pq.empty():\n",
    "            pq.put((x_priority + y_priority, node))\n",
    "        # Else, return a resulting root node of the encoding tree\n",
    "        else:\n",
    "            return node\n",
    "\n",
    "\n",
    "def create_huffman_codes(ct: 'Huffman coding tree', n: 'number of characters to encode') -> list:\n",
    "    # Traverse a tree using a DFS algorithm and create codes of characters\n",
    "    # (we assume that a left branch corresponds to the '0' code and a right\n",
    "    # one to the '1' code)\n",
    "    result = [None] * n\n",
    "\n",
    "    # Create a temporary array in which a resulting code of a character will\n",
    "    # be temporarily stored (created by appending subsequent digits of a code)\n",
    "    code = []\n",
    "    i = 0\n",
    "\n",
    "    def encode(node):\n",
    "        # If we entered the last node, store a character and its code in\n",
    "        # a resulting array\n",
    "        if node.left is node.right is None:\n",
    "            nonlocal i\n",
    "            result[i] = (node.char, ''.join(code))\n",
    "            i += 1\n",
    "            return\n",
    "\n",
    "        if node.left:\n",
    "            code.append('0')\n",
    "            encode(node.left)\n",
    "            code.pop()\n",
    "        if node.right:\n",
    "            code.append('1')\n",
    "            encode(node.right)\n",
    "            code.pop()\n",
    "\n",
    "    encode(ct)\n",
    "\n",
    "    return result\n",
    "\n",
    "\n",
    "def reorder_codes(C: 'array of character-code pairs', S: 'initial array of characters'):\n",
    "    n = len(S)\n",
    "    # Create an array of char-index pairs\n",
    "    A = [(S[i], i) for i in range(n)]\n",
    "\n",
    "    # Sort the array created above and the array of char-code pairs by Unicode\n",
    "    # codes of characters\n",
    "    A.sort(key=lambda pair: pair[0])\n",
    "    C.sort(key=lambda pair: pair[0])\n",
    "\n",
    "    # Reorder the array or char-code pairs so that all entries are stored\n",
    "    # in the same order they were stored in the S array\n",
    "    for i in range(n):\n",
    "        swap(C, i, A[i][1])\n",
    "\n",
    "\n",
    "def swap(A, i, j):\n",
    "    A[i], A[j] = A[j], A[i]\n",
    "\n",
    "\n",
    "def calc_required_bits(C: 'array of char-code pairs', F: 'array of frequencies of characters') -> int:\n",
    "    # Calculate total bits required by the huffman encoding\n",
    "    # (Notice that an array of codes (C array) must be ordered in\n",
    "    # the same way as the input array of frequencies and corresponding\n",
    "    # characters to encode)\n",
    "    total = 0\n",
    "    for i in range(len(F)):\n",
    "        total += F[i] * len(C[i][1])\n",
    "    return total\n",
    "\n",
    "\n",
    "def print_codes(C: 'array of char-code pairs'):\n",
    "    for char, code in C:\n",
    "        print(f'{char} : {code}')\n",
    "\n",
    "\n",
    "def huffman(S, F):\n",
    "    n = len(S)\n",
    "    # Create a coding tree\n",
    "    ct = create_coding_tree(S, F)\n",
    "    # Get Huffman codes of the characters\n",
    "    C = create_huffman_codes(ct, n)\n",
    "    # Restore the initial order of encoded characters\n",
    "    reorder_codes(C, S)\n",
    "    # Count total bits required to encode a string using a Huffman encoding\n",
    "    bits_count = calc_required_bits(C, F)\n",
    "    # Print all the codes and a total number of bits required\n",
    "    print_codes(C)\n",
    "    print(f'Długość napisu: {bits_count}')\n",
    "    # Return the results\n",
    "    return C, bits_count, ct"
   ]
  },
  {
   "cell_type": "code",
   "execution_count": 37,
   "metadata": {},
   "outputs": [],
   "source": [
    "def test(string):\n",
    "    freqs = count_freqs(string)\n",
    "    F = []\n",
    "    S = []\n",
    "    for s, f in freqs:\n",
    "        F.append(f)\n",
    "        S.append(s)\n",
    "\n",
    "    print(S, F)\n",
    "    codes, count, ct = huffman(S, F)\n",
    "\n",
    "    print(binary_tree_string(ct, fn=lambda node: node.char if hasattr(node, 'char') else '.'))\n",
    "\n",
    "    encoded = huffman_encode(string, codes=dict(codes))\n",
    "    decoded = huffman_decode(encoded, ct)\n",
    "    print('Encoded string:')\n",
    "    print(encoded)\n",
    "    print('Decoded string:')\n",
    "    print(decoded)\n",
    "    print('\\nIs decoded the same as input?', decoded == string)"
   ]
  },
  {
   "cell_type": "code",
   "execution_count": 38,
   "metadata": {},
   "outputs": [
    {
     "name": "stdout",
     "output_type": "stream",
     "text": [
      "['P', 'y', 't', 'h', 'o', 'n', ' ', 'i', 's', 'e', 'c', 'l', 'p', 'r', 'g', 'a', 'm', 'u'] [1, 1, 3, 2, 4, 3, 5, 2, 2, 3, 1, 2, 1, 2, 4, 3, 2, 1]\n",
      "P : 11001\n",
      "e : 0011\n",
      "a : 0010\n",
      "  : 011\n",
      "l : 1011\n",
      "c : 11100\n",
      "n : 0100\n",
      "i : 1001\n",
      "g : 0000\n",
      "u : 10001\n",
      "s : 1111\n",
      "m : 1010\n",
      "p : 11000\n",
      "r : 10000\n",
      "o : 0001\n",
      "t : 0101\n",
      "y : 11101\n",
      "h : 1101\n",
      "Długość napisu: 178\n",
      "                                                              .\n",
      "                                              /                               \\\n",
      "                              .                                                               .\n",
      "                      /               \\                                               /               \\\n",
      "              .                               .                               .                               .\n",
      "          /       \\                       /       \\                       /       \\                       /       \\\n",
      "      .               .               .                               .               .               .               .\n",
      "    /   \\           /   \\           /   \\                           /   \\           /   \\           /   \\           /   \\\n",
      "  g       o       a       e       n       t                       .       i       m       l       .       h       .       s\n",
      "                                                                 / \\                             / \\             / \\        \n",
      "                                                                r   u                           p   P           c   y        \n",
      "Encoded string:\n",
      "11001111010101110100010100011100111110110101110100110111110000010001101100111111010101111000100000001000010000001010101010100101000000011101100100100000010001001000000011\n",
      "Decoded string:\n",
      "Python is the coolest programming language\n",
      "\n",
      "Is decoded the same as input? True\n"
     ]
    }
   ],
   "source": [
    "test('Python is the coolest programming language')"
   ]
  },
  {
   "cell_type": "code",
   "execution_count": 39,
   "metadata": {},
   "outputs": [
    {
     "name": "stdout",
     "output_type": "stream",
     "text": [
      "['a', 'b', 'r', 'k', 'd'] [5, 2, 2, 1, 1]\n",
      "a : 1\n",
      "b : 000\n",
      "d : 010\n",
      "k : 011\n",
      "r : 001\n",
      "Długość napisu: 23\n",
      "              .\n",
      "          /       \\\n",
      "      .               a\n",
      "    /   \\                \n",
      "  .       .                \n",
      " / \\     / \\                \n",
      "b   r   d   k                \n",
      "Encoded string:\n",
      "10000011011101010000011\n",
      "Decoded string:\n",
      "abrakadabra\n",
      "\n",
      "Is decoded the same as input? True\n"
     ]
    }
   ],
   "source": [
    "test('abrakadabra')"
   ]
  },
  {
   "cell_type": "code",
   "execution_count": 40,
   "metadata": {},
   "outputs": [
    {
     "name": "stdout",
     "output_type": "stream",
     "text": [
      "['s', 'o', 'm', 'e', ' ', 'u', 'n', 'i', 't', 'r', 'g', 'a'] [5, 1, 2, 6, 3, 1, 3, 2, 4, 1, 2, 1]\n",
      "r : 01010\n",
      "  : 101\n",
      "m : 0111\n",
      "t : 100\n",
      "o : 00011\n",
      "a : 01011\n",
      "n : 0000\n",
      "u : 00010\n",
      "e : 11\n",
      "i : 0100\n",
      "s : 001\n",
      "g : 0110\n",
      "Długość napisu: 118\n",
      "                                                              .\n",
      "                                              /                               \\\n",
      "                              .                                                               .\n",
      "                      /               \\                                               /               \\\n",
      "              .                               .                               .                               e\n",
      "          /       \\                       /       \\                       /       \\                                \n",
      "      .               s               .               .               t                                                \n",
      "    /   \\                           /   \\           /   \\                                                                \n",
      "  n       .                       i       .       g       m                                                                \n",
      "         / \\                             / \\                                                                                \n",
      "        u   o                           r   a                                                                                \n",
      "Encoded string:\n",
      "00100011011111101000100000010000001001101010110011000100000001101011001100110010101111100100101011011011\n",
      "Decoded string:\n",
      "some uninteresting test message\n",
      "\n",
      "Is decoded the same as input? True\n"
     ]
    }
   ],
   "source": [
    "test('some uninteresting test message')"
   ]
  }
 ],
 "metadata": {
  "kernelspec": {
   "display_name": "Python 3 (ipykernel)",
   "language": "python",
   "name": "python3"
  },
  "language_info": {
   "codemirror_mode": {
    "name": "ipython",
    "version": 3
   },
   "file_extension": ".py",
   "mimetype": "text/x-python",
   "name": "python",
   "nbconvert_exporter": "python",
   "pygments_lexer": "ipython3",
   "version": "3.10.0"
  }
 },
 "nbformat": 4,
 "nbformat_minor": 4
}
