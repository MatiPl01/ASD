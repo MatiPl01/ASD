{
 "cells": [
  {
   "cell_type": "markdown",
   "metadata": {},
   "source": [
    "## Implementacja #1\n",
    "#### Działa w czasie $ O(n^2) $"
   ]
  },
  {
   "cell_type": "markdown",
   "metadata": {},
   "source": [
    "### Znajdowanie długości"
   ]
  },
  {
   "cell_type": "code",
   "execution_count": 1,
   "metadata": {},
   "outputs": [],
   "source": [
    "def lis(arr):\n",
    "    n = len(arr)\n",
    "    f_vals = [1] * n\n",
    "    for i in range(1, n):\n",
    "        for j in range(i):\n",
    "            if arr[j] < arr[i] and f_vals[j] + 1 > f_vals[i]:\n",
    "                f_vals[i] = f_vals[j] + 1\n",
    "    print(f_vals)\n",
    "    return max(f_vals)"
   ]
  },
  {
   "cell_type": "markdown",
   "metadata": {},
   "source": [
    "###### Kilka testów"
   ]
  },
  {
   "cell_type": "code",
   "execution_count": 2,
   "metadata": {},
   "outputs": [
    {
     "name": "stdout",
     "output_type": "stream",
     "text": [
      "[1, 1, 2, 3, 2, 3, 4, 3, 5, 3]\n",
      "5\n"
     ]
    }
   ],
   "source": [
    "a = [3, 1, 5, 7, 2, 4, 9, 3, 17, 3]\n",
    "print(lis(a))"
   ]
  },
  {
   "cell_type": "markdown",
   "metadata": {},
   "source": [
    "### Wypisywanie podciągu"
   ]
  },
  {
   "cell_type": "markdown",
   "metadata": {},
   "source": [
    "###### UWAGA\n",
    "Konieczne jest zmodyfikowanie funkcji, w której poszukujemy najdłuższego podciągu rosnącego, w taki sposób, aby zapamiętywać w drugiej tablicy indeksy, na których znajdują się elementy poprzednie w podciągu do danych. Szczegółowe wyjaśnienie powyżej."
   ]
  },
  {
   "cell_type": "code",
   "execution_count": 3,
   "metadata": {},
   "outputs": [],
   "source": [
    "def lis(arr):\n",
    "    n = len(arr)\n",
    "    f_vals = [1] * n\n",
    "    parents = [-1] * n\n",
    "    for i in range(1, n):\n",
    "        for j in range(i):\n",
    "            if arr[j] < arr[i] and f_vals[j] + 1 > f_vals[i]:\n",
    "                f_vals[i] = f_vals[j] + 1\n",
    "                parents[i] = j\n",
    "\n",
    "    return max(range(n), key=arr.__getitem__), f_vals, parents\n",
    "\n",
    "\n",
    "\"\"\" Tylko printowanie \"\"\"\n",
    "def print_lis(arr):\n",
    "    idx, _, parents = lis(arr)\n",
    "    \n",
    "    def recur(i):\n",
    "        if parents[i] >= 0:\n",
    "            recur(parents[i])\n",
    "        print(arr[i], end=' ')\n",
    "    \n",
    "    recur(idx)\n",
    "    print()\n",
    "\n",
    "    \n",
    "\"\"\" Tutaj pobieranie tablicy wartości \"\"\"\n",
    "def get_lis(arr):\n",
    "    idx, _, parents = lis(arr)\n",
    "    result = []\n",
    "    \n",
    "    def recur(i):\n",
    "        # If an element still has some parent elements (previous in the sequence),\n",
    "        # look for its predecessors recursively\n",
    "        if parents[i] >= 0:\n",
    "            result.append(recur(parents[i]))\n",
    "        return arr[i]\n",
    "        \n",
    "    recur(idx)\n",
    "    result.append(arr[idx])\n",
    "        \n",
    "    return result\n",
    "\n",
    "\n",
    "\"\"\" Tutaj iteracyjne pobieranie tablicy wartości (niepotrzebna tablica rodziców) \"\"\"\n",
    "def get_lis_iter(arr):\n",
    "    _, F, _ = lis(arr)\n",
    "    n = len(F)\n",
    "    start = 0\n",
    "    res = []\n",
    "    for i in range(1, n):\n",
    "        if F[i] > F[start]: start = i\n",
    "            \n",
    "    j = start\n",
    "    res.append(arr[j])\n",
    "    for i in range(start, -1, -1):\n",
    "        if F[i] == F[j] - 1 and arr[i] < arr[j]:\n",
    "            res.append(arr[i])\n",
    "            j = i\n",
    "            \n",
    "    res.reverse()\n",
    "    return res"
   ]
  },
  {
   "cell_type": "markdown",
   "metadata": {},
   "source": [
    "###### Kilka testów"
   ]
  },
  {
   "cell_type": "code",
   "execution_count": 4,
   "metadata": {},
   "outputs": [
    {
     "name": "stdout",
     "output_type": "stream",
     "text": [
      "[3, 5, 7, 9, 17]\n",
      "3 5 7 9 17 \n",
      "[1, 2, 4, 9, 17]\n"
     ]
    }
   ],
   "source": [
    "a = [3, 1, 5, 7, 2, 4, 9, 3, 17, 3]\n",
    "print(get_lis(a))\n",
    "print_lis(a)\n",
    "print(get_lis_iter(a))"
   ]
  },
  {
   "cell_type": "markdown",
   "metadata": {},
   "source": [
    "## II Sposób\n",
    "#### Działa w czasie $ O(n^2) $, jednakże jest ok. $ 12x $ szybszy niż powyższy"
   ]
  },
  {
   "cell_type": "markdown",
   "metadata": {},
   "source": [
    "### Omówienie"
   ]
  },
  {
   "cell_type": "markdown",
   "metadata": {},
   "source": [
    "Idea polega na stworzeniu tablicy tymczasowej, w której będzimy przechowywać tablice wartości. Na każdym kolejnym indeksie będą się znajdowały wartości, które są ostatnimi wartościami ciągów rosnących, składających się z $ i + 1 $ elementów, gdzie $ i $- indeks tablicy. Wyjaśnimy to lepiej na poniższym przykładzie:"
   ]
  },
  {
   "cell_type": "markdown",
   "metadata": {},
   "source": [
    "    # Dla tablicy wyjściowej:\n",
    "    arr = [3, 1, 5, 7, 2, 4, 9, 3, 17, 3]\n",
    "    # Inicjalizujemy tablicę temp, zapisując w niej koniec pierwszego podciągu:\n",
    "    temp = [[arr[0]]]  -->  temp: [[3]]\n",
    "    # Kolejne kroki:\n",
    "    1) arr:  [3, 1, 5, 7, 2, 4, 9, 3, 17, 3]\n",
    "                 ^\n",
    "       temp: [[3, 1]]  <--  1 <= 3, więc 1 kończy ciąg 1-elementowy\n",
    "       \n",
    "    2) arr:  [3, 1, 5, 7, 2, 4, 9, 3, 17, 3]\n",
    "                    ^\n",
    "       temp: [[3, 1], [5]]  <--  5 > 1, więc 5 kończy ciąg 2-elementowy\n",
    "       \n",
    "    3) arr:  [3, 1, 5, 7, 2, 4, 9, 3, 17, 3]\n",
    "                       ^\n",
    "       temp: [[3, 1], [5], [7]]  <--  7 > 5, więc 7 kończy ciąg 3-elementowy\n",
    "       \n",
    "    4) arr:  [3, 1, 5, 7, 2, 4, 9, 3, 17, 3]\n",
    "                          ^\n",
    "       temp: [[3, 1], [5, 2], [7]]  <--  2 > 1, więc 2 kończy ciąg 2-elementowy    \n",
    "       \n",
    "    5) arr:  [3, 1, 5, 7, 2, 4, 9, 3, 17, 3]\n",
    "                             ^\n",
    "       temp: [[3, 1], [5, 2], [7, 4]]  <--  4 > 2, więc 4 kończy ciąg 3-elementowy  \n",
    "       \n",
    "    5) arr:  [3, 1, 5, 7, 2, 4, 9, 3, 17, 3]\n",
    "                                ^\n",
    "       temp: [[3, 1], [5, 2], [7, 4], [9]]  <--  9 > 4, więc 9 kończy ciąg 4-elementowy\n",
    "       \n",
    "    6) arr:  [3, 1, 5, 7, 2, 4, 9, 3, 17, 3]\n",
    "                                   ^\n",
    "       temp: [[3, 1], [5, 2], [7, 4, 3], [9]]  <--  3 > 2, więc 3 kończy ciąg 3-elementowy\n",
    "       \n",
    "    6) arr:  [3, 1, 5, 7, 2, 4, 9, 3, 17, 3]\n",
    "                                       ^\n",
    "       temp: [[3, 1], [5, 2], [7, 4, 3], [9], [17]]  <--  17 > 9, więc 17 kończy \n",
    "                                                          ciąg 5-elementowy \n",
    "    7) arr:  [3, 1, 5, 7, 2, 4, 9, 3, 17, 3]\n",
    "                                          ^\n",
    "       temp: [[3, 1], [5, 2], [7, 4, 3, 3], [9], [17]]  <--  3 > 2, więc 3 kończy \n",
    "                                                           ciąg 3-elementowy "
   ]
  },
  {
   "cell_type": "markdown",
   "metadata": {},
   "source": [
    "### Znajdowanie długości\n",
    "##### Z wyznaczaniem minimum za każdym razem"
   ]
  },
  {
   "cell_type": "code",
   "execution_count": 5,
   "metadata": {},
   "outputs": [],
   "source": [
    "def lis(arr):\n",
    "    if len(arr) < 2: return len(arr)\n",
    "    \n",
    "    temp = [[arr[0]]]\n",
    "    \n",
    "    for i in range(1, len(arr)):\n",
    "        j = len(temp) - 1\n",
    "        while j >= 0 and arr[i] <= min(temp[j]):\n",
    "            j -= 1\n",
    "        \n",
    "        if j == len(temp) - 1:\n",
    "            temp.append([arr[i]])\n",
    "        else:\n",
    "            temp[j + 1].append(arr[i])\n",
    "            \n",
    "    print(temp)\n",
    "            \n",
    "    return len(temp)"
   ]
  },
  {
   "cell_type": "markdown",
   "metadata": {},
   "source": [
    "###### Kilka testów"
   ]
  },
  {
   "cell_type": "code",
   "execution_count": 6,
   "metadata": {},
   "outputs": [
    {
     "name": "stdout",
     "output_type": "stream",
     "text": [
      "[[3, 1], [5, 2], [7, 4, 3, 3], [9], [17]]\n",
      "5\n"
     ]
    }
   ],
   "source": [
    "a = [3, 1, 5, 7, 2, 4, 9, 3, 17, 3]\n",
    "print(lis(a))"
   ]
  },
  {
   "cell_type": "markdown",
   "metadata": {},
   "source": [
    "## III Sposób\n",
    "#### Działa w czasie $ O(n \\cdot log(n)) $ (z użyciem kopca Min Heap i Binary Searcha)\n",
    "##### (Mimo to, nie jest to najszybsze rozwiązanie, ponieważ IV Sposób przedstawia lepsze)"
   ]
  },
  {
   "cell_type": "code",
   "execution_count": 7,
   "metadata": {},
   "outputs": [],
   "source": [
    "_left = lambda i: 2 * i + 1\n",
    "_right = lambda i: 2 * i + 2\n",
    "_parent = lambda i: (i - 1) // 2\n",
    "        \n",
    "    \n",
    "def insert_to_min_heap(heap: list, val: object):\n",
    "    # Add a value as the last node of our Complete Binary Tree\n",
    "    heap.append(val)\n",
    "    # Fix heap in order to satisfy a min-heap property\n",
    "    _heapify_up(heap, len(heap) - 1)\n",
    "    \n",
    "    \n",
    "def get_min_in_heap(heap: list) -> object:\n",
    "    return None if not heap else heap[0]\n",
    "    \n",
    "    \n",
    "def _swap(heap: list, i, j):\n",
    "    heap[i], heap[j] = heap[j], heap[i]\n",
    "    \n",
    "    \n",
    "def _heapify_up(heap: list, curr_idx: 'heapify begin index', end_idx: 'heapify end index' = 0):\n",
    "    while curr_idx > end_idx:\n",
    "        parent_idx = _parent(curr_idx)\n",
    "        if heap[curr_idx] < heap[parent_idx]:\n",
    "            _swap(heap, curr_idx, parent_idx)\n",
    "        curr_idx = parent_idx\n",
    "            \n",
    "    \n",
    "def _heapify_down(heap: list, curr_idx: 'heapify begin index', end_idx: 'heapify end index'):\n",
    "    # Loop till the current node has a child smaller than itself\n",
    "    # We assume that when we enter a node which both children are\n",
    "    # larger than this node, a subtree which a current node is a\n",
    "    # root of must fulfill a min-heap property\n",
    "    while True:\n",
    "        i = _left(curr_idx)\n",
    "        j = _right(curr_idx)\n",
    "        k = curr_idx\n",
    "        \n",
    "        if i < end_idx:\n",
    "            if heap[i] < heap[k]:\n",
    "                k = i\n",
    "            if j < end_idx and heap[j] < heap[k]:\n",
    "                k = j\n",
    "                \n",
    "        if k == curr_idx: return\n",
    "        # Swap the current with the smallest child\n",
    "        heap[curr_idx], heap[k] = heap[k], heap[curr_idx]\n",
    "        curr_idx = k\n",
    "        \n",
    "\n",
    "def binary_search(arr: 'sorted sequence', el: 'searched element', fn) -> int:\n",
    "    left_idx = 0\n",
    "    right_idx = len(arr)-1\n",
    "    \n",
    "    while left_idx <= right_idx:\n",
    "        mid_idx = (left_idx + right_idx) // 2\n",
    "        if el > fn(arr[mid_idx]):\n",
    "            left_idx = mid_idx + 1\n",
    "        else:\n",
    "            right_idx = mid_idx - 1\n",
    "\n",
    "    return left_idx if left_idx >= 0 else -1\n",
    "\n",
    "\n",
    "def lis(arr):\n",
    "    if len(arr) < 2: return len(arr)\n",
    "    \n",
    "    temp = [[arr[0]]]\n",
    "    \n",
    "    for i in range(1, len(arr)):\n",
    "        idx = binary_search(temp, arr[i], get_min_in_heap)\n",
    "\n",
    "        if idx == len(temp):\n",
    "            temp.append([arr[i]])\n",
    "        else:\n",
    "            insert_to_min_heap(temp[idx], arr[i])\n",
    "            \n",
    "    return len(temp)"
   ]
  },
  {
   "cell_type": "markdown",
   "metadata": {},
   "source": [
    "###### Kilka testów"
   ]
  },
  {
   "cell_type": "code",
   "execution_count": 8,
   "metadata": {},
   "outputs": [
    {
     "data": {
      "text/plain": [
       "5"
      ]
     },
     "execution_count": 8,
     "metadata": {},
     "output_type": "execute_result"
    }
   ],
   "source": [
    "a = [3, 1, 5, 7, 2, 4, 9, 3, 17, 3]\n",
    "lis(a)"
   ]
  },
  {
   "cell_type": "markdown",
   "metadata": {},
   "source": [
    "## IV Sposób\n",
    "#### Działa w czasie $ O(n \\cdot log(n)) $ (z użyciem Binary Searcha - najszybszy)"
   ]
  },
  {
   "cell_type": "markdown",
   "metadata": {},
   "source": [
    "### Omówienie (wstępne)"
   ]
  },
  {
   "cell_type": "markdown",
   "metadata": {},
   "source": [
    "###### Szczegółowe omówienie tutaj: <br>\n",
    "LINK: https://cp-algorithms.com/sequences/longest_increasing_subsequence.html <br><br>\n",
    "W poniższym algorytmie wykorzystujemy nieco inne podejście. Zamiast przechowywać długość najdłuższego podciągu, który kończy się wartością $ A[i] $, gdzie $ A $ - tablica wyjściowa, w tym przypadku przechowujemy w pomocniczej tablicy wartości końcowe ciągów. Dokładniej, to w pomocniczej tablicy pod indeksem $ i $ znajdzie się zawsze ostatni wyraz podciągu rosnącego, którego długość wynosi dokładnie $ i $. Z tego powodu pod zerowym indeksem umieszczamy wartość $ -\\infty $, ponieważ ciąg o długości $ 0 $ nie może się kończyć żadną wartością, bo jest to ciąg pusty. Dlaczego akurat $ -\\infty $? Aby to wyjaśnić, musimy omówić najpierw, w jaki sposób jest aktualizowana tablica pomocnicza. \n",
    "###### Zastosowanie tablicy pomocniczej:\n",
    "Interesuje nas jedynie jeden ciąg, który jest najdłuższym podciagiem rosnącym. Może być wiele podciągów o tej samej długości, ale nas one nie obchodzą w tym zadaniu (tzn. chcemy znaleźć długość najdłuższego podciągu lub sam podciąg o największej długości, nieważne który, jeżeli jest ich kilka). Musimy sobie również zdać sprawę, że w tym rozwiązaniu nie jest możliwe odtworzenie właściwego podciągu, w taki sposób, jak mogliśmy to zrobić wyżej (sposób, jaki wymyśliłem na pozyskanie rozwiązania w przypadku algorytmu o złożoności $ O(n \\cdot log(n)) $ został przedstawiony niżej). Jest to efektem tego, że na bieżąco modyfikowana jest tablica tymczasowych wartości końcowych w taki sposób, że dana wartość zostaje zastąpiona nową tylko wtedy, gdy później w tablicy (którą otrzymaliśmy na wejściu, traktowanej jako ciąg, w którym szukamy najdłuższego podciągu) znaleźliśmy wartość od niej mniejszą i równocześnie poprzednia wartość do zamienianej (w tymczasowej tablicy) jest od niej mniejsza oraz następna jest od niej większa. Chodzi o to, że jeżeli uda nam się znaleźć taką wartość, którą da się umieścić między dwoma końcami znalezionych wcześniej podciągów rosnących, to możemy większą wartość końcową zastąpić tą nową wartością (możemy przedłużyć jeden z podciągów, którego koniec mamy zapisany w tymczasowej tablicy). Robimy tak, bo nowo znaleziona wartość utworzy podciąg rosnący o takiej samej długości jak zastępowana większa wartość i jednocześnie wciąż mamy pewność, że wszystkie zapisane dalej w tablicy pomocniczej wartości są od niej większe, więc są końcami DŁUŻSZYCH podciągów rosnących (innymi słowy, ta zamiana wartości nam nic nie psuje, jeżeli chodzi o wyznaczone końce pozostałych podciągów).\n",
    "###### A dlaczego w ogóle zamieniamy tę wartość?\n",
    "Powód jest jeden, mniejsza wartość, zapisana jako wartość końcowa podciągu o pewnej długości $ i $, w przypadku, gdy istnieje kilka podciągów o długości $ i $, które mogą kończyć się różnymi wartościami, daje nam większą szansę na znalezienie podciągu dłuższego niż obecnie najdłuższy, ponieważ w momencie znalezienia wartości większej od tej, którą ostatnio zapisaliśmy wewnątrz tablicy pomocniczej, która jest jednocześnie mniejsza od wartości zapisanej pod następnym indeksem (tj. $ i + 1 $), możemy wówczas zamienić wartość pod indeksem $ i + 1 $ na tę nową wartość, dzięki czemu niejako przedłużymy podciąg, którego ostatnim elementem była wartość z pola o indeksie $ i $ (a stała się nią nowa wartość z pola o indeksie $ i + 1 $). W ten sposób zwiększamy szansę na znalezienie kolejnej wartości, która jest większa od końcowej, w celu przedłużenia tego podciągu (w skrócie: jeżeli mamy kilka podciągów rosnących o tej samej długości, lepiej jest trzymać w pamięci koniec tego, który kończy się najmniejszą wartością, ponieważ dla niego najszybciej znajdziemy wartość, która będzie w stanie go przedłużyć).\n",
    "###### A jak w takim razie przedłużamy najdłuższy pociąg?\n",
    "Tutaj rozwiązanie jest już proste. Jeżeli znajdziemy wartość, która jest wartością większą od wartości końcowej obecnie najdłuższego podciągu rosnącego, możemy tę wartość dołączyć do tego podciągu."
   ]
  },
  {
   "cell_type": "markdown",
   "metadata": {},
   "source": [
    "### Implementacja wstępna\n",
    "#### (Aby zauważyć sposób działania - złożoność $ O(n^2) $)"
   ]
  },
  {
   "cell_type": "code",
   "execution_count": 9,
   "metadata": {},
   "outputs": [],
   "source": [
    "def lis(arr):\n",
    "    if len(arr) < 2: return len(arr)\n",
    "    \n",
    "    n = len(arr)\n",
    "    inf = float('inf')\n",
    "    last = [inf] * (n + 1)\n",
    "    last[0] = -inf\n",
    "    \n",
    "    for i in range(n):\n",
    "        for j in range(1, n + 1):\n",
    "            if last[j - 1] < arr[i] < last[j]:\n",
    "                last[j] = arr[i]\n",
    "    \n",
    "    print(last)\n",
    "    \n",
    "    for i in range(n, 0, -1):\n",
    "        if last[i] < inf:\n",
    "            return i\n",
    "    return 0"
   ]
  },
  {
   "cell_type": "markdown",
   "metadata": {},
   "source": [
    "###### Kilka testów"
   ]
  },
  {
   "cell_type": "code",
   "execution_count": 10,
   "metadata": {},
   "outputs": [
    {
     "name": "stdout",
     "output_type": "stream",
     "text": [
      "[-inf, 1, 2, 3, 9, 17, inf, inf, inf, inf, inf]\n"
     ]
    },
    {
     "data": {
      "text/plain": [
       "5"
      ]
     },
     "execution_count": 10,
     "metadata": {},
     "output_type": "execute_result"
    }
   ],
   "source": [
    "a = [3, 1, 5, 7, 2, 4, 9, 3, 17, 3]\n",
    "lis(a)"
   ]
  },
  {
   "cell_type": "markdown",
   "metadata": {},
   "source": [
    "### Omówienie (usprawnienia)"
   ]
  },
  {
   "cell_type": "markdown",
   "metadata": {},
   "source": [
    "Po analizie tego, w jaki sposób zapisujemy w pomocniczej tablicy wartości, łatwo dojdziemy do wniosku, że tablica końcowych wartości znalezionych podciągów rosnących zawsze zawiera wartości posortowane w sposób rosnący (bo aby ciąg był dłuższy, musi się kończyć większą wartością - logiczne). Z tego porządku wynika fakt, iż nie musimy przeglądać tej tablicy liniowo. W każdym algorytmie, gdzie modyfikacji ma zostać poddana tylko jedna wartość w danym momencie z posortowanej tablicy i mamy pewność, że jest to wartość unikalna (tu wszystkie są unikalne - nie ma powtórek), możemy znaleźć indeks tej wartości, przy pomocy <ins>**wyszukiwania binarnego**</ins>. Dzięki temu czas działania algorytmu schodzi do $ O(n \\cdot log(n)) $.\n",
    "<br><br>\n",
    "Kolejne usprawnienia dotyczą pamięci. Jak można zauważyć, niepotrzebnie zawsze trzymamy w tablicy $ n $ wartości, gdy tak naprawdę zazwyczaj istnieje podciąg, którego długość jest znacznie mniejsza od długości ciągu wejściowego. Jeżeli zależy nam na pamięci, wystarczy przedłużać tablicę tylko wtedy, gdy natrafimy na wartość, która jest obecnie największa."
   ]
  },
  {
   "cell_type": "code",
   "execution_count": 11,
   "metadata": {},
   "outputs": [],
   "source": [
    "def binary_search(arr, val):\n",
    "    left_idx = 0\n",
    "    right_idx = len(arr) - 1\n",
    "    \n",
    "    while left_idx <= right_idx:\n",
    "        mid_idx = (left_idx + right_idx) // 2\n",
    "        if val > arr[mid_idx]:\n",
    "            left_idx = mid_idx + 1\n",
    "        else:\n",
    "            right_idx = mid_idx - 1\n",
    "\n",
    "    return left_idx  # It will never exceed the left side of an array\n",
    "\n",
    "\n",
    "def lis(arr):\n",
    "    if len(arr) < 2: return len(arr)\n",
    "    \n",
    "    n = len(arr)\n",
    "    last = []\n",
    "    \n",
    "    for i in range(n):\n",
    "        j = binary_search(last, arr[i])\n",
    "        if j == len(last): last.append(arr[i])\n",
    "        else: last[j] = arr[i]\n",
    "    \n",
    "    print(last)\n",
    "    \n",
    "    return len(last)"
   ]
  },
  {
   "cell_type": "markdown",
   "metadata": {},
   "source": [
    "###### Kilka testów"
   ]
  },
  {
   "cell_type": "code",
   "execution_count": 12,
   "metadata": {},
   "outputs": [
    {
     "name": "stdout",
     "output_type": "stream",
     "text": [
      "[1, 2, 3, 9, 17]\n"
     ]
    },
    {
     "data": {
      "text/plain": [
       "5"
      ]
     },
     "execution_count": 12,
     "metadata": {},
     "output_type": "execute_result"
    }
   ],
   "source": [
    "a = [3, 1, 5, 7, 2, 4, 9, 3, 17, 3]\n",
    "lis(a)"
   ]
  },
  {
   "cell_type": "markdown",
   "metadata": {},
   "source": [
    "### Odtwarzanie rozwiązania"
   ]
  },
  {
   "cell_type": "markdown",
   "metadata": {},
   "source": [
    "Ponieważ tablica, w której przechowujemy końce najdłuższych podciągów, nie zawiera w żaden sposób informacji o ciągu, którego szukamy. Konieczne jest więc utworzenie tablicy rodziców elementów, które umieszczamy w tymczasowej tablicy. Nie jest to jednak takie proste ponieważ tablica tymczasowa nie przechowuje indeksów elementów, więc podczas jej modyfikacji tak naprawdę nie wiemy, jaki ciąg przedłużamy, ale wiemy tylko to, że poprzedni element występuje wcześniej w tablicy wyjściowej. Musimy więc również utworzyć jeszcze jedną tablicę tymczasową, w której równolegle z dodawanymi wartościami do tymczasowego podciągu, będziemy zapisywać odpowiadające im indesky."
   ]
  },
  {
   "cell_type": "code",
   "execution_count": 13,
   "metadata": {},
   "outputs": [],
   "source": [
    "def binary_search(arr, val):\n",
    "    left_idx = 0\n",
    "    right_idx = len(arr) - 1\n",
    "    \n",
    "    while left_idx <= right_idx:\n",
    "        mid_idx = (left_idx + right_idx) // 2\n",
    "        if val > arr[mid_idx]:\n",
    "            left_idx = mid_idx + 1\n",
    "        else:\n",
    "            right_idx = mid_idx - 1\n",
    "\n",
    "    return left_idx  # It will never exceed the left side of an array\n",
    "\n",
    "\n",
    "def lis(arr):\n",
    "    if len(arr) < 2: return len(arr)\n",
    "    \n",
    "    n = len(arr)\n",
    "    last = []\n",
    "    ind  = []\n",
    "    parents = [-1] * n\n",
    "    \n",
    "    for i in range(n):\n",
    "        j = binary_search(last, arr[i])\n",
    "        if j == len(last): \n",
    "            if j > 0: parents[i] = ind[j - 1]\n",
    "            ind.append(i)\n",
    "            last.append(arr[i])\n",
    "        else: \n",
    "            ind[j] = i\n",
    "            last[j] = arr[i]\n",
    "            if j > 0: parents[i] = ind[j - 1]\n",
    "            \n",
    "    # Get result\n",
    "    result = [-1] * len(last)\n",
    "    j = ind[-1]\n",
    "    for i in range(len(last) - 1, -1, -1):\n",
    "        result[i] = arr[j]\n",
    "        j = parents[j]\n",
    "    \n",
    "    return result"
   ]
  },
  {
   "cell_type": "markdown",
   "metadata": {},
   "source": [
    "###### Kilka testów"
   ]
  },
  {
   "cell_type": "code",
   "execution_count": 14,
   "metadata": {},
   "outputs": [
    {
     "data": {
      "text/plain": [
       "[1, 2, 4, 9, 17]"
      ]
     },
     "execution_count": 14,
     "metadata": {},
     "output_type": "execute_result"
    }
   ],
   "source": [
    "a = [3, 1, 5, 7, 2, 4, 9, 3, 17, 3]\n",
    "lis(a)"
   ]
  }
 ],
 "metadata": {
  "kernelspec": {
   "display_name": "Python 3 (ipykernel)",
   "language": "python",
   "name": "python3"
  },
  "language_info": {
   "codemirror_mode": {
    "name": "ipython",
    "version": 3
   },
   "file_extension": ".py",
   "mimetype": "text/x-python",
   "name": "python",
   "nbconvert_exporter": "python",
   "pygments_lexer": "ipython3",
   "version": "3.10.0"
  }
 },
 "nbformat": 4,
 "nbformat_minor": 4
}
