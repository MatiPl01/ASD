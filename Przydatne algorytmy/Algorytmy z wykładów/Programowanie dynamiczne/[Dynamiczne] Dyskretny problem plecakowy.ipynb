{
 "cells": [
  {
   "cell_type": "markdown",
   "metadata": {},
   "source": [
    "# Znajdowanie maksymalnego profitu"
   ]
  },
  {
   "cell_type": "markdown",
   "metadata": {},
   "source": [
    "##### Dodatkowe wyjaśnienia\n",
    "LINK: https://www.youtube.com/watch?v=xCbYmUPvc2Q"
   ]
  },
  {
   "cell_type": "markdown",
   "metadata": {},
   "source": [
    "### Implementacja"
   ]
  },
  {
   "cell_type": "code",
   "execution_count": 1,
   "metadata": {},
   "outputs": [],
   "source": [
    "def knapsack(W: 'wagi przedmiotów', P: 'profity', MaxW: 'maksymalna waga plecaka'):\n",
    "    n = len(W)\n",
    "    # Create a 2-dimensional array to cache solutions for <index, weight> pairs. We will\n",
    "    # treat this array as a table where columns correspond to the actual weight of a knapsack\n",
    "    # and rows for indices of items which were taken to the knapsack.\n",
    "    F = [[0] * (MaxW + 1) for _ in range(n)]\n",
    "    # Fill the first row using values which will be a result of function when we choose only\n",
    "    # the first item (this of index 0)\n",
    "    for i in range(W[0], MaxW + 1):\n",
    "        F[0][i] = P[0]\n",
    "    \n",
    "    for i in range(1, n):\n",
    "        for w in range(1, MaxW + 1):\n",
    "            F[i][w] = F[i - 1][w]\n",
    "            if w >= W[i]:\n",
    "                F[i][w] = max(F[i][w], F[i - 1][w - W[i]] + P[i])\n",
    "            \n",
    "    print(*F, sep='\\n')\n",
    "        \n",
    "    return F[n-1][MaxW]"
   ]
  },
  {
   "cell_type": "markdown",
   "metadata": {},
   "source": [
    "###### Kilka testów"
   ]
  },
  {
   "cell_type": "code",
   "execution_count": 2,
   "metadata": {},
   "outputs": [
    {
     "name": "stdout",
     "output_type": "stream",
     "text": [
      "[0, 0, 0, 0, 7, 7, 7, 7, 7, 7, 7]\n",
      "[0, 3, 3, 3, 7, 10, 10, 10, 10, 10, 10]\n",
      "[0, 3, 3, 5, 7, 10, 10, 12, 12, 12, 12]\n",
      "[0, 3, 3, 5, 10, 13, 13, 15, 17, 20, 20]\n",
      "[0, 3, 3, 5, 10, 13, 13, 15, 17, 20, 20]\n",
      "[0, 3, 3, 5, 10, 13, 13, 15, 17, 20, 20]\n",
      "[0, 3, 3, 5, 10, 13, 13, 15, 17, 20, 20]\n",
      "[0, 3, 3, 5, 10, 13, 13, 15, 17, 20, 20]\n",
      "20\n"
     ]
    }
   ],
   "source": [
    "W = [4, 1, 2, 4, 3, 5, 10, 3]\n",
    "P = [7, 3, 2, 10, 4, 1, 7, 2]\n",
    "MaxW = 10\n",
    "\n",
    "print(knapsack(W, P, MaxW))"
   ]
  },
  {
   "cell_type": "code",
   "execution_count": 3,
   "metadata": {},
   "outputs": [
    {
     "name": "stdout",
     "output_type": "stream",
     "text": [
      "[0, 0, 0, 0, 0, 60]\n",
      "[0, 0, 0, 50, 50, 60]\n",
      "[0, 0, 0, 50, 70, 70]\n",
      "[0, 0, 30, 50, 70, 80]\n",
      "80\n"
     ]
    }
   ],
   "source": [
    "W = [5, 3, 4, 2]\n",
    "P = [60, 50, 70, 30]\n",
    "MaxW = 5\n",
    "\n",
    "print(knapsack(W, P, MaxW))"
   ]
  },
  {
   "cell_type": "markdown",
   "metadata": {},
   "source": [
    "# Odtwarzanie zawartości plecaka"
   ]
  },
  {
   "cell_type": "markdown",
   "metadata": {},
   "source": [
    "### Implementacja #1 (rekurencyjna)"
   ]
  },
  {
   "cell_type": "markdown",
   "metadata": {},
   "source": [
    "Wymagana jest modyfikacja powyższego algorytmu - jedynie dodanie tablicy, w której zapisywaliśmy wyniki, do zwracanych wartości."
   ]
  },
  {
   "cell_type": "code",
   "execution_count": 4,
   "metadata": {},
   "outputs": [],
   "source": [
    "def knapsack(W: 'wagi przedmiotów', P: 'profity', MaxW: 'maksymalna waga plecaka'):\n",
    "    n = len(W)\n",
    "    # Create a 2-dimensional array to cache solutions for <index, weight> pairs. We will\n",
    "    # treat this array as a table where columns correspond to the actual weight of a knapsack\n",
    "    # and rows for indices of items which were taken to the knapsack.\n",
    "    F = [[0] * (MaxW + 1) for _ in range(n)]\n",
    "    # Fill the first row using values which will be a result of function when we choose only\n",
    "    # the first item (this of index 0)\n",
    "    for i in range(W[0], MaxW + 1):\n",
    "        F[0][i] = P[0]\n",
    "    \n",
    "    for i in range(1, n):\n",
    "        for w in range(1, MaxW + 1):\n",
    "            F[i][w] = F[i - 1][w]\n",
    "            if w >= W[i]:\n",
    "                F[i][w] = max(F[i][w], F[i - 1][w - W[i]] + P[i])\n",
    "        \n",
    "    return F[n-1][MaxW], F\n",
    "\n",
    "\n",
    "def _get_knapsack(F, W, P, i, w):\n",
    "    if i < 0: return []\n",
    "    if i == 0: return [0] if W[0] <= w else []\n",
    "    if W[i] <= w and F[i][w] == F[i - 1][w - W[i]] + P[i]:\n",
    "        return _get_knapsack(F, W, P, i - 1, w - W[i]) + [i]\n",
    "    return _get_knapsack(F, W, P, i - 1, w)\n",
    "\n",
    "\n",
    "def get_knapsack(F, W, P):\n",
    "    return _get_knapsack(F, W, P, len(F) - 1, len(F[0]) - 1)"
   ]
  },
  {
   "cell_type": "markdown",
   "metadata": {},
   "source": [
    "###### Kilka testów"
   ]
  },
  {
   "cell_type": "code",
   "execution_count": 5,
   "metadata": {},
   "outputs": [
    {
     "name": "stdout",
     "output_type": "stream",
     "text": [
      "Profit: 20\n",
      "Contents: [0, 1, 3]\n"
     ]
    }
   ],
   "source": [
    "W = [4, 1, 2, 4, 3, 5, 10, 3]\n",
    "P = [7, 3, 2, 10, 4, 1, 7, 2]\n",
    "MaxW = 10\n",
    "\n",
    "profit, F = knapsack(W, P, MaxW)\n",
    "print('Profit:', profit)\n",
    "print('Contents:', get_knapsack(F, W, P))"
   ]
  },
  {
   "cell_type": "code",
   "execution_count": 6,
   "metadata": {
    "scrolled": true
   },
   "outputs": [
    {
     "name": "stdout",
     "output_type": "stream",
     "text": [
      "Profit: 80\n",
      "Contents: [1, 3]\n"
     ]
    }
   ],
   "source": [
    "W = [5, 3, 4, 2]\n",
    "P = [60, 50, 70, 30]\n",
    "MaxW = 5\n",
    "\n",
    "profit, F = knapsack(W, P, MaxW)\n",
    "print('Profit:', profit)\n",
    "print('Contents:', get_knapsack(F, W, P))"
   ]
  },
  {
   "cell_type": "markdown",
   "metadata": {},
   "source": [
    "### Implementacja #2 (iteracyjna)"
   ]
  },
  {
   "cell_type": "code",
   "execution_count": 7,
   "metadata": {},
   "outputs": [],
   "source": [
    "def knapsack(W: 'wagi przedmiotów', P: 'profity', MaxW: 'maksymalna waga plecaka'):\n",
    "    n = len(W)\n",
    "    # Create a 2-dimensional array to cache solutions for <index, weight> pairs. We will\n",
    "    # treat this array as a table where columns correspond to the actual weight of a knapsack\n",
    "    # and rows for indices of items which were taken to the knapsack.\n",
    "    F = [[0] * (MaxW + 1) for _ in range(n)]\n",
    "    # Fill the first row using values which will be a result of function when we choose only\n",
    "    # the first item (this of index 0)\n",
    "    for i in range(W[0], MaxW + 1):\n",
    "        F[0][i] = P[0]\n",
    "    \n",
    "    for i in range(1, n):\n",
    "        for w in range(1, MaxW + 1):\n",
    "            F[i][w] = F[i - 1][w]\n",
    "            if w >= W[i]:\n",
    "                F[i][w] = max(F[i][w], F[i - 1][w - W[i]] + P[i])\n",
    "        \n",
    "    return F[n-1][MaxW], F\n",
    "\n",
    "\n",
    "def get_knapsack(F, W):\n",
    "    contents = []\n",
    "    w = len(F[0]) - 1\n",
    "    for i in range(len(F)-1, 0, -1):\n",
    "        # If we have taken an item from the 'i'th row, a profit stored\n",
    "        # in this row will be different than a profit in a row above\n",
    "        if F[i][w] != F[i - 1][w]:\n",
    "            # We take this item to the knapsack and reduce its remaining\n",
    "            # capacity so we have to decrease a value of a column pointer 'w'\n",
    "            contents.append(i)\n",
    "            w -= W[i]\n",
    "    # As we will never check the first row in a loop above, we have\n",
    "    # to asses whether the item from the first row was taken separately\n",
    "    # We decide to take the first element only if the remaining weight\n",
    "    # which can be used is no lower than a weight of this element\n",
    "    if w >= W[0]: contents.append(0)\n",
    "    \n",
    "    # Reverse the result array as we get indices in a reversed order\n",
    "    for i in range(len(contents) // 2):\n",
    "        swap(contents, i, -i-1)\n",
    "    \n",
    "    return contents\n",
    "\n",
    "\n",
    "def swap(arr, i, j):\n",
    "    arr[i], arr[j] = arr[j], arr[i]"
   ]
  },
  {
   "cell_type": "markdown",
   "metadata": {},
   "source": [
    "###### Kilka testów"
   ]
  },
  {
   "cell_type": "code",
   "execution_count": 8,
   "metadata": {},
   "outputs": [
    {
     "name": "stdout",
     "output_type": "stream",
     "text": [
      "Profit: 80\n",
      "Contents: [1, 3]\n"
     ]
    }
   ],
   "source": [
    "W = [5, 3, 4, 2]\n",
    "P = [60, 50, 70, 30]\n",
    "MaxW = 5\n",
    "\n",
    "profit, F = knapsack(W, P, MaxW)\n",
    "print('Profit:', profit)\n",
    "print('Contents:', get_knapsack(F, W))"
   ]
  },
  {
   "cell_type": "code",
   "execution_count": 9,
   "metadata": {},
   "outputs": [
    {
     "name": "stdout",
     "output_type": "stream",
     "text": [
      "Profit: 20\n",
      "Contents: [0, 1, 3]\n"
     ]
    }
   ],
   "source": [
    "W = [4, 1, 2, 4, 3, 5, 10, 3]\n",
    "P = [7, 3, 2, 10, 4, 1, 7, 2]\n",
    "MaxW = 10\n",
    "\n",
    "profit, F = knapsack(W, P, MaxW)\n",
    "print('Profit:', profit)\n",
    "print('Contents:', get_knapsack(F, W))"
   ]
  }
 ],
 "metadata": {
  "kernelspec": {
   "display_name": "Python 3 (ipykernel)",
   "language": "python",
   "name": "python3"
  },
  "language_info": {
   "codemirror_mode": {
    "name": "ipython",
    "version": 3
   },
   "file_extension": ".py",
   "mimetype": "text/x-python",
   "name": "python",
   "nbconvert_exporter": "python",
   "pygments_lexer": "ipython3",
   "version": "3.10.0"
  }
 },
 "nbformat": 4,
 "nbformat_minor": 4
}
