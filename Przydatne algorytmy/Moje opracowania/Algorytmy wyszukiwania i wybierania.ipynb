{
 "cells": [
  {
   "cell_type": "markdown",
   "metadata": {},
   "source": [
    "##### Funkcja testująca poprawność algorytmu wyszukiwania wskazanej wartości"
   ]
  },
  {
   "cell_type": "code",
   "execution_count": 2,
   "metadata": {},
   "outputs": [],
   "source": [
    "import random\n",
    "\n",
    "\n",
    "def test_search(searching_fn, *, \n",
    "                samples=20, \n",
    "                search_first=True, \n",
    "                search_last=False, \n",
    "                sorted_input=False, \n",
    "                failed_only=False\n",
    "               ):\n",
    "    # search_first and search_last cannot be set to True at the same time\n",
    "    if search_first and search_last:\n",
    "        raise ValueError('Cannot search the first and the last element at the same time')\n",
    "    \n",
    "    passed = 0\n",
    "    for i in range(samples):\n",
    "        random_lst = [random.randint(-100, 100) for _ in range(random.randint(0, 40))]\n",
    "        searched_val = random.choice(random_lst) if random.random() > .5 and random_lst else random.randint(-100, 100)\n",
    "        if sorted_input: random_lst.sort()\n",
    "        result = searching_fn(random_lst, searched_val)\n",
    "        \n",
    "        is_correct = False\n",
    "        if search_first is search_last is False:\n",
    "            searched_occurrence = \"NOT SPECIFIED\"\n",
    "            if searched_val not in random_lst:\n",
    "                is_correct = result == -1\n",
    "            else:\n",
    "                is_correct = random_lst[result] == searched_val\n",
    "        else:\n",
    "            searched_occurrence = \"FIRST\"\n",
    "            if searched_val not in random_lst:\n",
    "                expected_result = -1\n",
    "            elif search_last:\n",
    "                searched_occurrence = \"LAST\"\n",
    "                for j in range(len(random_lst)-1, -1, -1):\n",
    "                    if random_lst[j] == searched_val:\n",
    "                        expected_result = j\n",
    "                        break\n",
    "            else:\n",
    "                expected_result = random_lst.index(searched_val)\n",
    "            is_correct = expected_result == result\n",
    "            \n",
    "        passed += is_correct\n",
    "        \n",
    "        if not failed_only or (failed_only and not is_correct):\n",
    "            print(f'TEST #{i+1}:')\n",
    "            print('Input:', random_lst)\n",
    "            print('Searched value:', searched_val)\n",
    "            print('Searched occurrence:', searched_occurrence)\n",
    "            print('Result:', result)\n",
    "            print('Expected result:', expected_result)\n",
    "            print(f'Test {\"PASSED\" if is_correct else \"FAILED\"}')\n",
    "            print(f'Current passed-to-tested ratio: {passed}/{i+1}')\n",
    "            print()\n",
    "        \n",
    "    print(f'Total tests passed {passed}/{samples}')\n",
    "    print(f'An algorithm is {\"CORRECT\" if passed == samples else \"WRONG\"}')"
   ]
  },
  {
   "cell_type": "markdown",
   "metadata": {},
   "source": [
    "##### Funkcja testująca poprawność algorytmu wskazywania wartości na danej pozycji posortowanej tablicy (dla tablic)"
   ]
  },
  {
   "cell_type": "code",
   "execution_count": 3,
   "metadata": {},
   "outputs": [],
   "source": [
    "import random\n",
    "\n",
    "\n",
    "def test_select(select_fn, *, \n",
    "                samples=20, \n",
    "                values_count=(1, 100), \n",
    "                range_=(-100, 100), \n",
    "                unique_only=False, \n",
    "                failed_only=False\n",
    "               ):\n",
    "    passed = 0\n",
    "    for i in range(1, samples + 1):\n",
    "        random_lst = [random.randint(*range_) for _ in range(random.randint(*values_count))]\n",
    "        if unique_only:\n",
    "            random_lst = list(set(random_lst))\n",
    "        k = random.randint(0, len(random_lst)-1)\n",
    "        sorted_lst = sorted(random_lst)\n",
    "        expected = sorted_lst[k]\n",
    "        result = select_fn(random_lst, k)\n",
    "        is_correct = expected == result\n",
    "        passed += is_correct\n",
    "        if not failed_only or (failed_only and not is_correct):\n",
    "            print(f'TEST #{i}:')\n",
    "            print('k:', k)\n",
    "            print('Input arr: ', random_lst)\n",
    "            print('Sorted arr:', sorted_lst)\n",
    "            print('Expected:', expected)\n",
    "            print('Result:', result)\n",
    "            print(f'Test {\"PASSED\" if is_correct else \"FAILED\"}')\n",
    "            print(f'Passed-to-tested ratio: {passed}/{i}')\n",
    "            print()\n",
    "    print(f'===== Final results: =====')\n",
    "    print(f'Final passed-to-tested ratio: {passed}/{samples}')\n",
    "    print(f'An algorithm is {\"CORRECT\" if passed == samples else \"WRONG\"}')"
   ]
  },
  {
   "cell_type": "markdown",
   "metadata": {},
   "source": [
    "##### Funkcja testująca poprawność algorytmu wskazywania wartości na danej pozycji posortowanej tablicy (dla list odsyłaczowych)"
   ]
  },
  {
   "cell_type": "code",
   "execution_count": 4,
   "metadata": {},
   "outputs": [],
   "source": [
    "import random\n",
    "\n",
    "\n",
    "def test_select_ll(select_fn, ll_creation, print_fn, *, \n",
    "                   samples=20, \n",
    "                   values_count=(1, 100), \n",
    "                   range_=(-100, 100),\n",
    "                   unique_only=False, \n",
    "                   failed_only=False\n",
    "                  ):\n",
    "    passed = 0\n",
    "    for i in range(1, samples + 1):\n",
    "        random_lst = [random.randint(*range_) for _ in range(random.randint(*values_count))]\n",
    "        if unique_only:\n",
    "            random_lst = list(set(random_lst))\n",
    "        k = random.randint(0, len(random_lst)-1)\n",
    "        sorted_lst = sorted(random_lst)\n",
    "        expected = sorted_lst[k]\n",
    "        ll = ll_creation(random_lst)\n",
    "        result = select_fn(ll, k)\n",
    "        is_correct = expected == result\n",
    "        passed += is_correct\n",
    "        if not failed_only or (failed_only and not is_correct):\n",
    "            print(f'TEST #{i}:')\n",
    "            print('k:', k)\n",
    "            print('Input arr: ', random_lst)\n",
    "            print('Sorted arr:', sorted_lst)\n",
    "            print('linked list after:', end=' ')\n",
    "            print_fn(ll)\n",
    "            print('Expected:', expected)\n",
    "            print('Result:', result)\n",
    "            print(f'Test {\"PASSED\" if is_correct else \"FAILED\"}')\n",
    "            print(f'Passed-to-tested ratio: {passed}/{i}')\n",
    "            print()\n",
    "    print(f'===== Final results: =====')\n",
    "    print(f'Final passed-to-tested ratio: {passed}/{samples}')\n",
    "    print(f'An algorithm is {\"CORRECT\" if passed == samples else \"WRONG\"}')"
   ]
  },
  {
   "cell_type": "markdown",
   "metadata": {},
   "source": [
    "#  » Wyszukiwanie połówkowe (binarne) \n",
    "## wskazanej wartości"
   ]
  },
  {
   "cell_type": "markdown",
   "metadata": {},
   "source": [
    "### › Złożoność wyszukiwania"
   ]
  },
  {
   "cell_type": "markdown",
   "metadata": {},
   "source": [
    "#### Złożoność czasowa"
   ]
  },
  {
   "cell_type": "markdown",
   "metadata": {},
   "source": [
    "###### Najgorszy przypadek\n",
    "##### $O(log (n))$"
   ]
  },
  {
   "cell_type": "markdown",
   "metadata": {},
   "source": [
    "###### Najlepszy przypadek\n",
    "##### $ O(log(n)) $"
   ]
  },
  {
   "cell_type": "markdown",
   "metadata": {},
   "source": [
    "#### Złożoność pamięciowa"
   ]
  },
  {
   "cell_type": "markdown",
   "metadata": {},
   "source": [
    "###### Najgorszy przypadek\n",
    "##### $O(1)$"
   ]
  },
  {
   "cell_type": "markdown",
   "metadata": {},
   "source": [
    "###### Najlepszy przypadek\n",
    "##### $O(1)$"
   ]
  },
  {
   "cell_type": "markdown",
   "metadata": {},
   "source": [
    "### › Implementacja algorytmu #1 (zwraca pierwsze wystąpienie)"
   ]
  },
  {
   "cell_type": "markdown",
   "metadata": {},
   "source": [
    "###### !!! UWAGA !!!\n",
    "Ten algorytm może zostać użyty jedynie dla indeksowalnej sekwencji posortowanej niemalejąco. Zwracaną wartością jest nieujemna liczba całkowita, oznaczająca indeks znalezionego elementu. Jeżeli dany element nie występuje w przeszukiwanej sekwencji, zwrócona zostanie wartość -1."
   ]
  },
  {
   "cell_type": "markdown",
   "metadata": {},
   "source": [
    "#### Wersja z poszukiwaniem wartości na całym zakresie tablicy"
   ]
  },
  {
   "cell_type": "code",
   "execution_count": 5,
   "metadata": {},
   "outputs": [],
   "source": [
    "def binary_search_first(arr: 'sorted sequence', el: 'searched element') -> int:\n",
    "    left_idx = 0\n",
    "    right_idx = len(arr)-1\n",
    "    \n",
    "    while left_idx <= right_idx:\n",
    "        mid_idx = (left_idx + right_idx) // 2\n",
    "        if el > arr[mid_idx]:\n",
    "            left_idx = mid_idx + 1\n",
    "        else:\n",
    "            right_idx = mid_idx - 1\n",
    "            \n",
    "    return left_idx if left_idx < len(arr) and arr[left_idx] == el else -1"
   ]
  },
  {
   "cell_type": "markdown",
   "metadata": {},
   "source": [
    "Kilka testów"
   ]
  },
  {
   "cell_type": "code",
   "execution_count": 6,
   "metadata": {},
   "outputs": [
    {
     "name": "stdout",
     "output_type": "stream",
     "text": [
      "Total tests passed 100/100\n",
      "An algorithm is CORRECT\n"
     ]
    }
   ],
   "source": [
    "test_search(binary_search_first, sorted_input=True, samples=100, failed_only=True)"
   ]
  },
  {
   "cell_type": "markdown",
   "metadata": {},
   "source": [
    "#### Wersja z poszukiwaniem wartości na wyszczególnionym zakresie tablicy"
   ]
  },
  {
   "cell_type": "code",
   "execution_count": 7,
   "metadata": {},
   "outputs": [],
   "source": [
    "def binary_search_first(arr, begin_idx, end_idx, val):\n",
    "    l = begin_idx\n",
    "    r = end_idx\n",
    "    \n",
    "    while l <= r:\n",
    "        mid = (l + r) // 2\n",
    "        if val <= arr[mid]:\n",
    "            r = mid - 1\n",
    "        else:\n",
    "            l = mid + 1\n",
    "            \n",
    "    return l if l < end_idx and arr[l] == val else -1"
   ]
  },
  {
   "cell_type": "markdown",
   "metadata": {},
   "source": [
    "### › Implementacja algorytmu #2 (zwraca ostatnie wystąpienie)"
   ]
  },
  {
   "cell_type": "markdown",
   "metadata": {},
   "source": [
    "###### !!! UWAGA !!!\n",
    "Ten algorytm może zostać użyty jedynie dla indeksowalnej sekwencji posortowanej niemalejąco. Zwracaną wartością jest nieujemna liczba całkowita, oznaczająca indeks znalezionego elementu. Jeżeli dany element nie występuje w przeszukiwanej sekwencji, zwrócona zostanie wartość -1."
   ]
  },
  {
   "cell_type": "code",
   "execution_count": 14,
   "metadata": {},
   "outputs": [],
   "source": [
    "def binary_search_last(arr: 'sorted sequence', el: 'searched element') -> int:\n",
    "    left_idx = 0\n",
    "    right_idx = len(arr)-1\n",
    "    \n",
    "    while left_idx <= right_idx:\n",
    "        mid_idx = (left_idx + right_idx) // 2\n",
    "        if el < arr[mid_idx]:\n",
    "            right_idx = mid_idx - 1\n",
    "        else:\n",
    "            left_idx = mid_idx + 1\n",
    "            \n",
    "    return right_idx if right_idx >= 0 and arr[right_idx] == el else -1"
   ]
  },
  {
   "cell_type": "markdown",
   "metadata": {},
   "source": [
    "Kilka testów"
   ]
  },
  {
   "cell_type": "code",
   "execution_count": 15,
   "metadata": {},
   "outputs": [
    {
     "name": "stdout",
     "output_type": "stream",
     "text": [
      "Total tests passed 100/100\n",
      "An algorithm is CORRECT\n"
     ]
    }
   ],
   "source": [
    "test_search(binary_search_last, samples=100, sorted_input=True, search_last=True, search_first=False, failed_only=True)"
   ]
  },
  {
   "cell_type": "markdown",
   "metadata": {},
   "source": [
    "#### Wersja z poszukiwaniem wartości na wyszczególnionym zakresie tablicy"
   ]
  },
  {
   "cell_type": "code",
   "execution_count": 10,
   "metadata": {},
   "outputs": [],
   "source": [
    "def binary_search_last(arr, begin_idx, end_idx, val):\n",
    "    l = begin_idx\n",
    "    r = end_idx\n",
    "\n",
    "    while l <= r:\n",
    "        mid = (l + r) // 2\n",
    "        if val < arr[mid]:\n",
    "            r = mid - 1\n",
    "        else:\n",
    "            l = mid + 1\n",
    "            \n",
    "    return r if r >= begin_idx and arr[r] == val else -1"
   ]
  },
  {
   "cell_type": "markdown",
   "metadata": {},
   "source": [
    "### › Zastosowania algorytmu"
   ]
  },
  {
   "cell_type": "markdown",
   "metadata": {},
   "source": [
    "#### ⁃ Liczba wystąpień wskazanej wartości w posortowanej tablicy"
   ]
  },
  {
   "cell_type": "markdown",
   "metadata": {},
   "source": [
    "Oczywiście możliwe jest zaimplementowanie funkcji działającej w czasie liniowym $ O(n) $. Ponadto, taka funkcja działałaby również na nieposortowanych sekwencjach, a nie tylko na tych, które są posortowane niemalejąco. Mimo wszystko, czasem mamy posortowane dane, wiec można znaleźć szukaną wartość w czasie $ O(log(n)) $ (przydatne jest to szczególnie w przypadku dużych sekwencji danych, które są posortowane)."
   ]
  },
  {
   "cell_type": "markdown",
   "metadata": {},
   "source": [
    "W poniższej implementacji korzystamy z obu powyżej zadeklarowanych funkcji (działających na całych tablicach)"
   ]
  },
  {
   "cell_type": "markdown",
   "metadata": {},
   "source": [
    "##### Implementacja algorytmu"
   ]
  },
  {
   "cell_type": "code",
   "execution_count": 18,
   "metadata": {},
   "outputs": [],
   "source": [
    "def binary_search_first(arr: 'sorted sequence', el: 'searched element') -> int:\n",
    "    left_idx = 0\n",
    "    right_idx = len(arr)-1\n",
    "    \n",
    "    while left_idx <= right_idx:\n",
    "        mid_idx = (left_idx + right_idx) // 2\n",
    "        if el > arr[mid_idx]:\n",
    "            left_idx = mid_idx + 1\n",
    "        else:\n",
    "            right_idx = mid_idx - 1\n",
    "            \n",
    "    return left_idx if left_idx < len(arr) and arr[left_idx] == el else -1\n",
    "\n",
    "\n",
    "def binary_search_last(arr: 'sorted sequence', el: 'searched element') -> int:\n",
    "    left_idx = 0\n",
    "    right_idx = len(arr)-1\n",
    "    \n",
    "    while left_idx <= right_idx:\n",
    "        mid_idx = (left_idx + right_idx) // 2\n",
    "        if el < arr[mid_idx]:\n",
    "            right_idx = mid_idx - 1\n",
    "        else:\n",
    "            left_idx = mid_idx + 1\n",
    "            \n",
    "    return right_idx if right_idx >= 0 and arr[right_idx] == el else -1\n",
    "\n",
    "\n",
    "def count_occurrences(arr: 'sorted sequence', el: 'element to count occurrences of') -> int:\n",
    "    if arr:\n",
    "        begin_idx = binary_search_first(arr, el)\n",
    "        if begin_idx >= 0:  # That means there is at least one occurrence of the specified element\n",
    "            end_idx = binary_search_last(arr, el)    \n",
    "            return end_idx - begin_idx + 1\n",
    "    return 0"
   ]
  },
  {
   "cell_type": "markdown",
   "metadata": {},
   "source": [
    "Kilka testów"
   ]
  },
  {
   "cell_type": "code",
   "execution_count": 21,
   "metadata": {
    "scrolled": true
   },
   "outputs": [
    {
     "name": "stdout",
     "output_type": "stream",
     "text": [
      "Input: [-6, -3, -3, -3, 0, 2, 3, 3, 5, 6]\n",
      "Value to count: 2\n",
      "Expected result: 1\n",
      "Result: 1\n",
      "\n",
      "Input: [-7, -6, -6, -6, -5, -5, -5, -5, -5, -5, -4, -3, -3, -3, -3, -1, 0, 0, 0, 1, 1, 1, 2, 2, 2, 2, 3, 3, 3, 4, 4, 4, 4, 5, 5, 6, 7, 7]\n",
      "Value to count: -3\n",
      "Expected result: 4\n",
      "Result: 4\n",
      "\n",
      "Input: [-3, 2, 6]\n",
      "Value to count: -2\n",
      "Expected result: 0\n",
      "Result: 0\n",
      "\n",
      "Input: [-7, -7, -7, -7, -6, -6, -5, -5, -5, -5, -5, -4, -2, -2, -2, -2, -2, -2, -1, 0, 1, 1, 1, 1, 2, 2, 2, 2, 4, 4, 4, 4, 4, 5, 6, 6, 6, 7]\n",
      "Value to count: 4\n",
      "Expected result: 5\n",
      "Result: 5\n",
      "\n",
      "Input: [-7, -7, -6, -6, -6, -5, -5, -4, -3, -3, -3, -2, -2, -1, -1, -1, 2, 3, 4, 4, 5, 5, 7, 7]\n",
      "Value to count: 1\n",
      "Expected result: 0\n",
      "Result: 0\n",
      "\n"
     ]
    }
   ],
   "source": [
    "for _ in range(5):\n",
    "    random_lst = sorted(random.randint(-7, 7) for _ in range(random.randint(0, 40)))\n",
    "    to_count = random.randint(-7, 7)\n",
    "    expected = random_lst.count(to_count)\n",
    "    result = count_occurrences(random_lst, to_count)\n",
    "    print('Input:', random_lst)\n",
    "    print('Value to count:', to_count)\n",
    "    print('Expected result:', expected)\n",
    "    print('Result:', result)\n",
    "    print()"
   ]
  },
  {
   "cell_type": "markdown",
   "metadata": {},
   "source": [
    "#  » Quick Select \n",
    "## Zwraca wskazaną w kolejności wartość (liczbę, która znajdowała by się na wskazanej pozycji posortowanej tablicy)"
   ]
  },
  {
   "cell_type": "markdown",
   "metadata": {},
   "source": [
    "Ten algorytm bazuje na zmodyfikowanej funkcji partition z algorytmu sortowania Quick Sort (w wersji Lomuto, ponieważ istotne jest to, aby pivot został umieszczony na swojej końcowej pozycji). Zatem wszelkie wady i korzyści, jakie ma ta funkcja, mają odzwierciedlenie w przypadku tego algorytmu. Takie wyszukiwanie jest niestabilne, więc jeżeli istnieje kilka wartości o tym samym kluczu, według którego sortujemy, nie mamy pewności, że uzyskana przy pomocy tej funkcji wartość będzie taka sama, jaka stałaby na wskazanej pozycji po przesortowaniu tablicy stabilnym algorytmem sortowania (wynika to bezpośrednio z faktu, iż algorytm ten jest podobny do Quick Sorta, lecz sortowanie ogranicza się do fragmentów tablicy, które musimy przesortować, aby otrzymać szukaną wartość)."
   ]
  },
  {
   "cell_type": "markdown",
   "metadata": {},
   "source": [
    "###### UWAGA"
   ]
  },
  {
   "cell_type": "markdown",
   "metadata": {},
   "source": [
    "Konieczne jest użycie funkcji partition Lomuto. Funkcja Hoare'a nie zwraca finalnej pozycji pivota, a jedynie indeks, który dzieli tablicę na wartości mniejsze lub równe od pivota oraz wartości od niego większe lub równe."
   ]
  },
  {
   "cell_type": "markdown",
   "metadata": {},
   "source": [
    "### › Złożoność wyszukiwania"
   ]
  },
  {
   "cell_type": "markdown",
   "metadata": {},
   "source": [
    "#### Złożoność czasowa"
   ]
  },
  {
   "cell_type": "markdown",
   "metadata": {},
   "source": [
    "###### Najgorszy przypadek\n",
    "##### $O(n^2)$\n",
    "Aby zminimalizować ryzyko wystąpienia najgorszego przypadku, należy wybierać losowo pivota."
   ]
  },
  {
   "cell_type": "markdown",
   "metadata": {},
   "source": [
    "###### Najlepszy przypadek\n",
    "##### $O(n)$"
   ]
  },
  {
   "cell_type": "markdown",
   "metadata": {},
   "source": [
    "#### Złożoność pamięciowa"
   ]
  },
  {
   "cell_type": "markdown",
   "metadata": {},
   "source": [
    "###### Najgorszy przypadek\n",
    "##### $O(1)$"
   ]
  },
  {
   "cell_type": "markdown",
   "metadata": {},
   "source": [
    "###### Najlepszy przypadek\n",
    "##### $O(1)$"
   ]
  },
  {
   "cell_type": "markdown",
   "metadata": {},
   "source": [
    "## Algorytm dla tablic"
   ]
  },
  {
   "cell_type": "markdown",
   "metadata": {},
   "source": [
    "### › Implementacja algorytmu #1 (rekurencyjna)\n",
    "#### (Ze sztywno ustalonym pivotem)"
   ]
  },
  {
   "cell_type": "code",
   "execution_count": 22,
   "metadata": {},
   "outputs": [],
   "source": [
    "def quick_select(arr, k: 'index of a value'):\n",
    "    if not 0 <= k < len(arr):\n",
    "        raise IndexError(f'index too {\"small\" if k < 0 else \"large\"}')\n",
    "    if len(arr) == 1:\n",
    "        return arr[0]\n",
    "    return _quick_select(arr, k, 0, len(arr)-1)\n",
    "    \n",
    "    \n",
    "def _quick_select(arr, k, left_idx, right_idx):\n",
    "    pivot_position = _partition(arr, left_idx, right_idx)\n",
    "    \n",
    "    if pivot_position > k:\n",
    "        return _quick_select(arr, k, left_idx, pivot_position - 1)\n",
    "    elif pivot_position < k:\n",
    "        return _quick_select(arr, k, pivot_position + 1, right_idx)\n",
    "    else:\n",
    "        return arr[pivot_position]\n",
    "        \n",
    "        \n",
    "def _partition(arr, left_idx, right_idx):\n",
    "    pivot = arr[right_idx]\n",
    "    \n",
    "    # Partition an array into 2 subarrays of elements lower than or\n",
    "    # equal to a pivot and of elements greater than a pivot\n",
    "    i = left_idx\n",
    "    for j in range(left_idx, right_idx):\n",
    "        if arr[j] < pivot:\n",
    "            swap(arr, i, j)\n",
    "            i += 1\n",
    "    \n",
    "    # Place a pivot element on its destination index\n",
    "    swap(arr, i, right_idx)\n",
    "    \n",
    "    return i  # Return a pivot position after the last swap\n",
    "\n",
    "\"\"\" Modified lomuto partition function (choosing left element as a pivot) below: \"\"\"\n",
    "# def _partition(arr, left_idx, right_idx):\n",
    "#     pivot = arr[left_idx]\n",
    "    \n",
    "#     # Partition an array into 2 subarrays of elements lower than or\n",
    "#     # equal to a pivot and of elements greater than a pivot\n",
    "#     i = left_idx + 1\n",
    "#     for j in range(left_idx + 1, right_idx + 1):\n",
    "#         if arr[j] <= pivot:\n",
    "#             swap(arr, i, j)\n",
    "#             i += 1\n",
    "    \n",
    "#     # Place a pivot element on its destination index\n",
    "#     swap(arr, i - 1, left_idx)\n",
    "    \n",
    "#     return i - 1  # Return a pivot position after the last swap\n",
    "\"\"\" End of a partition function \"\"\"\n",
    "    \n",
    "def swap(arr, i, j):\n",
    "    arr[i], arr[j] = arr[j], arr[i]"
   ]
  },
  {
   "cell_type": "markdown",
   "metadata": {},
   "source": [
    "Kilka testów"
   ]
  },
  {
   "cell_type": "code",
   "execution_count": 23,
   "metadata": {},
   "outputs": [
    {
     "name": "stdout",
     "output_type": "stream",
     "text": [
      "===== Final results: =====\n",
      "Final passed-to-tested ratio: 1000/1000\n",
      "An algorithm is CORRECT\n"
     ]
    }
   ],
   "source": [
    "test_select(quick_select, samples=1000, values_count=(100, 1000), range_=(-1000, 1000), failed_only=True)"
   ]
  },
  {
   "cell_type": "markdown",
   "metadata": {},
   "source": [
    "### › Implementacja algorytmu #2 (rekurencyjna)\n",
    "#### (Z losowo wybieranym pivotem)"
   ]
  },
  {
   "cell_type": "code",
   "execution_count": 24,
   "metadata": {},
   "outputs": [],
   "source": [
    "import random\n",
    "\n",
    "\n",
    "def quick_select(arr, k: 'index of a value'):\n",
    "    if not 0 <= k < len(arr):\n",
    "        raise IndexError(f'index too {\"small\" if k < 0 else \"large\"}')\n",
    "    if len(arr) == 1:\n",
    "        return arr[0]\n",
    "    return _quick_select(arr, k, 0, len(arr)-1)\n",
    "    \n",
    "    \n",
    "def _quick_select(arr, k, left_idx, right_idx):\n",
    "    pivot_position = _partition(arr, left_idx, right_idx)\n",
    "        \n",
    "    if pivot_position > k:\n",
    "        return _quick_select(arr, k, left_idx, pivot_position - 1)\n",
    "    elif pivot_position < k:\n",
    "        return _quick_select(arr, k, pivot_position + 1, right_idx)\n",
    "    else:\n",
    "        return arr[pivot_position]\n",
    "        \n",
    "        \n",
    "def _partition(arr, left_idx, right_idx):\n",
    "    pivot_idx = random.randint(left_idx, right_idx)\n",
    "    pivot = arr[pivot_idx]\n",
    "    \n",
    "    # Swap a pivot with the last element\n",
    "    swap(arr, right_idx, pivot_idx)\n",
    "    \n",
    "    # Partition an array into 2 subarrays of elements lower than or\n",
    "    # equal to a pivot and of elements greater than a pivot\n",
    "    i = left_idx\n",
    "    for j in range(left_idx, right_idx):\n",
    "        if arr[j] < pivot:\n",
    "            swap(arr, i, j)\n",
    "            i += 1\n",
    "    \n",
    "    # Place a pivot element on its destination index\n",
    "    swap(arr, i, right_idx)\n",
    "    \n",
    "    return i  # Return a pivot position after the last swap\n",
    "\n",
    "    \n",
    "def swap(arr, i, j):\n",
    "    arr[i], arr[j] = arr[j], arr[i]"
   ]
  },
  {
   "cell_type": "markdown",
   "metadata": {},
   "source": [
    "Kilka testów"
   ]
  },
  {
   "cell_type": "code",
   "execution_count": 26,
   "metadata": {
    "scrolled": true
   },
   "outputs": [
    {
     "name": "stdout",
     "output_type": "stream",
     "text": [
      "===== Final results: =====\n",
      "Final passed-to-tested ratio: 1000/1000\n",
      "An algorithm is CORRECT\n"
     ]
    }
   ],
   "source": [
    "test_select(quick_select, samples=1000, values_count=(100, 1000), range_=(-1000, 1000), failed_only=True)"
   ]
  },
  {
   "cell_type": "markdown",
   "metadata": {},
   "source": [
    "### › Implementacja algorytmu #3 (iteracyjna) (NAJLEPSZA)\n",
    "#### (Z losowo wybieranym pivotem)"
   ]
  },
  {
   "cell_type": "code",
   "execution_count": 28,
   "metadata": {},
   "outputs": [],
   "source": [
    "import random\n",
    "\n",
    "\n",
    "def quick_select(arr, k: 'index of a value'):\n",
    "    if not 0 <= k < len(arr):\n",
    "        raise IndexError(f'index too {\"small\" if k < 0 else \"large\"}')\n",
    "    if len(arr) == 1:\n",
    "        return arr[0]\n",
    "    \n",
    "    left_idx = 0\n",
    "    right_idx = len(arr) - 1\n",
    "    pivot_position = -1\n",
    "    while k != pivot_position:\n",
    "        pivot_position = _partition(arr, left_idx, right_idx)\n",
    "        \n",
    "        if pivot_position > k:\n",
    "            right_idx = pivot_position - 1\n",
    "        else:\n",
    "            left_idx = pivot_position + 1\n",
    "            \n",
    "    return arr[k]\n",
    "        \n",
    "        \n",
    "def _partition(arr, left_idx, right_idx):\n",
    "    pivot_idx = random.randint(left_idx, right_idx)\n",
    "    pivot = arr[pivot_idx]\n",
    "    \n",
    "    # Swap a pivot with the last element\n",
    "    swap(arr, right_idx, pivot_idx)\n",
    "    \n",
    "    # Partition an array into 2 subarrays of elements lower than or\n",
    "    # equal to a pivot and of elements greater than a pivot\n",
    "    i = left_idx\n",
    "    for j in range(left_idx, right_idx):\n",
    "        if arr[j] < pivot:\n",
    "            swap(arr, i, j)\n",
    "            i += 1\n",
    "    \n",
    "    # Place a pivot element on its destination index\n",
    "    swap(arr, i, right_idx)\n",
    "    \n",
    "    return i  # Return a pivot position after the last swap\n",
    "\n",
    "    \n",
    "def swap(arr, i, j):\n",
    "    arr[i], arr[j] = arr[j], arr[i]"
   ]
  },
  {
   "cell_type": "markdown",
   "metadata": {},
   "source": [
    "Kilka testów"
   ]
  },
  {
   "cell_type": "code",
   "execution_count": 29,
   "metadata": {},
   "outputs": [
    {
     "name": "stdout",
     "output_type": "stream",
     "text": [
      "===== Final results: =====\n",
      "Final passed-to-tested ratio: 1000/1000\n",
      "An algorithm is CORRECT\n"
     ]
    }
   ],
   "source": [
    "test_select(quick_select, samples=1000, values_count=(100, 1000), range_=(-1000, 1000), failed_only=True)"
   ]
  },
  {
   "cell_type": "markdown",
   "metadata": {},
   "source": [
    "## Algorytm dla list odsyłaczowych jednokierunkowych"
   ]
  },
  {
   "cell_type": "markdown",
   "metadata": {},
   "source": [
    "##### Implementacja obiektowa listy odsyłaczowej"
   ]
  },
  {
   "cell_type": "code",
   "execution_count": 30,
   "metadata": {},
   "outputs": [],
   "source": [
    "class Node:\n",
    "    def __init__(self, val=None):\n",
    "        self.val = val\n",
    "        self.next = None\n",
    "        \n",
    "\n",
    "class LinkedList:\n",
    "    def __init__(self, values: 'iterable' = None):\n",
    "        self.head = self.tail = None\n",
    "        self.length = 0\n",
    "        values and self.extend(values) # The same as 'if values: self.extend(values)'\n",
    "        \n",
    "    def __iter__(self):\n",
    "        curr = self.head\n",
    "        while curr:\n",
    "            yield curr.val\n",
    "            curr = curr.next\n",
    "            \n",
    "    def __str__(self):\n",
    "        return ' -> '.join(map(str, self))\n",
    "    \n",
    "    def __len__(self):\n",
    "        return self.length\n",
    "    \n",
    "    def append(self, val: object):\n",
    "        node = Node(val)\n",
    "        if not self:\n",
    "            self.head = self.tail = node\n",
    "        else:\n",
    "            self.tail.next = node\n",
    "            self.tail = node\n",
    "        self.length += 1\n",
    "        \n",
    "    def extend(self, values: 'iterable'):\n",
    "        if values:\n",
    "            iterator = iter(values)\n",
    "            if not self:\n",
    "                self.head = self.tail = Node(next(iterator))\n",
    "            for val in iterator:\n",
    "                self.tail.next = Node(val)\n",
    "                self.tail = self.tail.next\n",
    "            self.length += len(values)"
   ]
  },
  {
   "cell_type": "markdown",
   "metadata": {},
   "source": [
    "##### Implementacja funkcyjna listy odsyłaczowej"
   ]
  },
  {
   "cell_type": "code",
   "execution_count": 31,
   "metadata": {},
   "outputs": [],
   "source": [
    "class Node:\n",
    "    def __init__(self, val=None):\n",
    "        self.val = val\n",
    "        self.next = None\n",
    "        \n",
    "\n",
    "def create_linked_list(values: 'iterable' = None) -> 'linked list head (sentinel)':\n",
    "    head = Node()  # A sentinel node\n",
    "    if not values: return head\n",
    "    head.next = curr = Node(values[0])\n",
    "    for i in range(1, len(values)):\n",
    "        curr.next = Node(values[i])\n",
    "        curr = curr.next\n",
    "    return head\n",
    "\n",
    "\n",
    "def print_linked_list(ll_head: 'linked list head (sentinel)'):\n",
    "    curr = ll_head.next\n",
    "    print(ll_head.val, end=' ')\n",
    "    while curr:\n",
    "        print('->', curr.val, end=' ')\n",
    "        curr = curr.next\n",
    "    print()\n",
    "    \n",
    "    \n",
    "def print_linked_list_part(begin_prev_node: 'previous node to the beginning of a part to print',\n",
    "                           end_node: 'last node of a sublist to print'):\n",
    "    prev = begin_prev_node.next\n",
    "    print(prev.val, end=' ')\n",
    "    while prev is not end_node.next:\n",
    "        print('->', prev.next.val, end=' ')\n",
    "        prev = prev.next\n",
    "    print()\n",
    "    \n",
    "        \n",
    "def linked_list_to_list(ll_head: 'linked list head (sentinel)') -> list:\n",
    "    values = []\n",
    "    curr = ll_head.next\n",
    "    while curr:\n",
    "        values.append(curr.val)\n",
    "        curr = curr.next\n",
    "    return values"
   ]
  },
  {
   "cell_type": "markdown",
   "metadata": {},
   "source": [
    "### › Implementacja algorytmu #1 (rekurencyjna) (dla implementacji obiektowej listy)"
   ]
  },
  {
   "cell_type": "code",
   "execution_count": 32,
   "metadata": {},
   "outputs": [],
   "source": [
    "def quick_select(ll: LinkedList, k: 'index of a value'):\n",
    "    if len(ll) > 1:\n",
    "        # Add a sentinel node to ease sorting\n",
    "        sentinel = Node()\n",
    "        sentinel.next = ll.head\n",
    "        ll.head = sentinel\n",
    "        # Perform sorting on a linked list\n",
    "        res = _quick_select(ll.head, None, 0, k)\n",
    "        # Remove a sentinel node which was added\n",
    "        ll.head = ll.head.next\n",
    "        return res\n",
    "    elif ll and k == 0:\n",
    "        return ll.head.val\n",
    "    else:\n",
    "        raise IndexError(f'index too {\"small\" if k < 0 else \"large\"}')\n",
    "\n",
    "\n",
    "def _quick_select(begin_prev_node, end_node, pivot_idx, k):\n",
    "    res = _partition(begin_prev_node, end_node, pivot_idx)\n",
    "    first_end_node, second_begin_prev_node, pivot_head_idx, pivot_tail_idx = res\n",
    "    \n",
    "    # If we placed a span of values equal to the pivot value on they final\n",
    "    # position and the k index is somewhere within the bounds of this span.\n",
    "    # we can return the last pivot value\n",
    "    if pivot_head_idx <= k <= pivot_tail_idx:\n",
    "        return second_begin_prev_node.val\n",
    "    # If the last pivot value was placed before the k index, we have\n",
    "    # to search a right part of a linked list for a desired value \n",
    "    if pivot_tail_idx < k:\n",
    "        return _quick_select(second_begin_prev_node, end_node, pivot_tail_idx + 1, k)\n",
    "    # Otherwise we have to search the left part\n",
    "    return _quick_select(begin_prev_node, first_end_node, pivot_idx, k)\n",
    "    \n",
    "        \n",
    "def _partition(begin_prev_node, end_node, begin_idx):\n",
    "    # Store a pivot node and a current node pointers in variables\n",
    "    pivot_node = begin_prev_node.next\n",
    "    curr_node = pivot_node.next\n",
    "    \n",
    "    # Store indices of the beginning and the end of values equal to pivot span\n",
    "    eq_pivot_head_idx = eq_pivot_tail_idx = begin_idx\n",
    "    \n",
    "    # Prepare sentinel nodes for sublists which will be created\n",
    "    lt_pivot_head = Node()\n",
    "    eq_pivot_head = pivot_node\n",
    "    gt_pivot_head = Node()\n",
    "\n",
    "    # Prepare pointers to the sublists\n",
    "    lt_pivot_curr = lt_pivot_head\n",
    "    eq_pivot_curr = eq_pivot_head\n",
    "    gt_pivot_curr = gt_pivot_head\n",
    "\n",
    "    # Distribute subsequent nodes of a linked list part to appropriate sublists\n",
    "    while curr_node is not end_node:\n",
    "        if curr_node.val < pivot_node.val:\n",
    "            lt_pivot_curr.next = curr_node\n",
    "            lt_pivot_curr = lt_pivot_curr.next\n",
    "            eq_pivot_head_idx += 1\n",
    "            eq_pivot_tail_idx += 1\n",
    "        elif curr_node.val > pivot_node.val:\n",
    "            gt_pivot_curr.next = curr_node\n",
    "            gt_pivot_curr = gt_pivot_curr.next\n",
    "        else:\n",
    "            eq_pivot_curr.next = curr_node\n",
    "            eq_pivot_curr = eq_pivot_curr.next\n",
    "            eq_pivot_tail_idx += 1\n",
    "        curr_node = curr_node.next\n",
    "\n",
    "    # Join created lists together\n",
    "    # Link a list of elements lower than pivot (lt_pivot) if is not empty\n",
    "    if lt_pivot_head.next:\n",
    "        begin_prev_node.next = lt_pivot_head.next\n",
    "        lt_pivot_curr.next = eq_pivot_head\n",
    "\n",
    "        if gt_pivot_head.next:\n",
    "            eq_pivot_curr.next = gt_pivot_head.next\n",
    "            gt_pivot_curr.next = end_node\n",
    "        else:\n",
    "            eq_pivot_curr.next = end_node\n",
    "    # Link a list of elements greater than pivot (gt_pivot) if is not empty\n",
    "    elif gt_pivot_head.next:\n",
    "        begin_prev_node.next = eq_pivot_head\n",
    "        eq_pivot_curr.next = gt_pivot_head.next\n",
    "        gt_pivot_curr.next = end_node\n",
    "    # Otherwise, there will be only eq_pivot linked list (all elements are equal to a pivot)\n",
    "    else:\n",
    "        begin_prev_node.next = eq_pivot_head\n",
    "        eq_pivot_curr.next = end_node\n",
    "\n",
    "    return eq_pivot_head, eq_pivot_curr, eq_pivot_head_idx, eq_pivot_tail_idx"
   ]
  },
  {
   "cell_type": "markdown",
   "metadata": {},
   "source": [
    "Kilka testów"
   ]
  },
  {
   "cell_type": "code",
   "execution_count": 36,
   "metadata": {
    "scrolled": false
   },
   "outputs": [
    {
     "name": "stdout",
     "output_type": "stream",
     "text": [
      "TEST #1:\n",
      "k: 16\n",
      "Input arr:  [92, 81, -71, 34, -78, -2, -11, 65, 27, -76, 21, -97, 31, 18, 99, 92, -50, 55, -57, 98, 38, 57, -94, 35, -44, 36, -55, 0, -49, -13, 59, 94, 63, 84, 90, -80, -45, -60, -74, -83, -73, 10, 11, -13, 9, -76, -78, -90, 66, 55, 34, -23, -58, -9, 8, 7, -98, -78, -12, 88, -13, 8, -8, -44, 67, -53, -99, -85, -84, -56, -28, 61, 13, 60, -79, 14, -84, 61, 11, -18, -94, 22, -55, 8]\n",
      "Sorted arr: [-99, -98, -97, -94, -94, -90, -85, -84, -84, -83, -80, -79, -78, -78, -78, -76, -76, -74, -73, -71, -60, -58, -57, -56, -55, -55, -53, -50, -49, -45, -44, -44, -28, -23, -18, -13, -13, -13, -12, -11, -9, -8, -2, 0, 7, 8, 8, 8, 9, 10, 11, 11, 13, 14, 18, 21, 22, 27, 31, 34, 34, 35, 36, 38, 55, 55, 57, 59, 60, 61, 61, 63, 65, 66, 67, 81, 84, 88, 90, 92, 92, 94, 98, 99]\n",
      "linked list after: -97 -> -94 -> -80 -> -83 -> -90 -> -98 -> -99 -> -85 -> -84 -> -79 -> -84 -> -94 -> -78 -> -78 -> -78 -> -76 -> -76 -> -74 -> -73 -> -71 -> 34 -> -2 -> -11 -> 65 -> 27 -> 21 -> 31 -> 18 -> -50 -> 55 -> -57 -> 38 -> 57 -> 35 -> -44 -> 36 -> -55 -> 0 -> -49 -> -13 -> 59 -> 63 -> -45 -> -60 -> 10 -> 11 -> -13 -> 9 -> 66 -> 55 -> 34 -> -23 -> -58 -> -9 -> 8 -> 7 -> -12 -> -13 -> 8 -> -8 -> -44 -> 67 -> -53 -> -56 -> -28 -> 61 -> 13 -> 60 -> 14 -> 61 -> 11 -> -18 -> 22 -> -55 -> 8 -> 81 -> 84 -> 90 -> 88 -> 92 -> 92 -> 99 -> 98 -> 94\n",
      "Expected: -76\n",
      "Result: -76\n",
      "Test PASSED\n",
      "Passed-to-tested ratio: 1/1\n",
      "\n",
      "TEST #2:\n",
      "k: 40\n",
      "Input arr:  [50, -50, -3, -68, -63, -56, 49, -97, 58, 99, -16, -30, -74, 82, 76, 92, 2, 90, 53, 83, 45, -5, 91, 37, -2, -74, 22, 67, 1, 87, 2, 75, 84, -38, 100, -17, -49, -15, 95, -26, -87, -60]\n",
      "Sorted arr: [-97, -87, -74, -74, -68, -63, -60, -56, -50, -49, -38, -30, -26, -17, -16, -15, -5, -3, -2, 1, 2, 2, 22, 37, 45, 49, 50, 53, 58, 67, 75, 76, 82, 83, 84, 87, 90, 91, 92, 95, 99, 100]\n",
      "linked list after: -50 -> -3 -> -68 -> -63 -> -56 -> 49 -> -97 -> -16 -> -30 -> -74 -> 2 -> 45 -> -5 -> 37 -> -2 -> -74 -> 22 -> 1 -> 2 -> -38 -> -17 -> -49 -> -15 -> -26 -> -87 -> -60 -> 50 -> 53 -> 58 -> 82 -> 76 -> 92 -> 90 -> 83 -> 91 -> 67 -> 87 -> 75 -> 84 -> 95 -> 99 -> 100\n",
      "Expected: 99\n",
      "Result: 99\n",
      "Test PASSED\n",
      "Passed-to-tested ratio: 2/2\n",
      "\n",
      "TEST #3:\n",
      "k: 12\n",
      "Input arr:  [25, 62, -2, -89, -88, 14, -37, -80, 94, -55, -2, 81, -11, -49, 63, 72, 81, 27, -68, 98, 39, 31, -55, 31, -14, 16, 66, -92]\n",
      "Sorted arr: [-92, -89, -88, -80, -68, -55, -55, -49, -37, -14, -11, -2, -2, 14, 16, 25, 27, 31, 31, 39, 62, 63, 66, 72, 81, 81, 94, 98]\n",
      "linked list after: -89 -> -88 -> -37 -> -80 -> -55 -> -11 -> -49 -> -68 -> -55 -> -14 -> -92 -> -2 -> -2 -> 14 -> 16 -> 25 -> 62 -> 94 -> 81 -> 63 -> 72 -> 81 -> 27 -> 98 -> 39 -> 31 -> 31 -> 66\n",
      "Expected: -2\n",
      "Result: -2\n",
      "Test PASSED\n",
      "Passed-to-tested ratio: 3/3\n",
      "\n",
      "===== Final results: =====\n",
      "Final passed-to-tested ratio: 3/3\n",
      "An algorithm is CORRECT\n"
     ]
    }
   ],
   "source": [
    "# test_select_ll(quick_select, LinkedList, print, \n",
    "#                samples=1000, values_count=(1, 10000), range_=(-1000, 1000), failed_only=True)\n",
    "test_select_ll(quick_select, LinkedList, print, samples=3)"
   ]
  },
  {
   "cell_type": "markdown",
   "metadata": {},
   "source": [
    "### › Implementacja algorytmu #2 (rekurencyjna) (dla implementacji funkcyjnej listy)"
   ]
  },
  {
   "cell_type": "markdown",
   "metadata": {},
   "source": [
    "Cały algorytm poza funkcją"
   ]
  },
  {
   "cell_type": "markdown",
   "metadata": {},
   "source": [
    "    def quick_select(ll_head: 'linked list head (sentinel)', k: 'index of a value'):"
   ]
  },
  {
   "cell_type": "markdown",
   "metadata": {},
   "source": [
    "jest identyczny do powyższego. Wynika to z faktu, iż, w przypadku takich algorytmów, listę obiektową traktujemy identycznie jak zwykły ciag węzłów (tzn. nie zwracamy uwagi na jej obiektowość, i zaimplementowane dla niej metody, ponieważ działamy tylko na węzłach)."
   ]
  },
  {
   "cell_type": "code",
   "execution_count": 37,
   "metadata": {},
   "outputs": [],
   "source": [
    "def quick_select(ll_head: 'linked list head (sentinel)', k: 'index of a value'):\n",
    "    # If a linked list is not empty\n",
    "    if ll_head.next and ll_head.next.next:\n",
    "        # Perform sorting on a linked list\n",
    "        return _quick_select(ll_head, None, 0, k)\n",
    "    # If has exactly one element and k is equal to 0\n",
    "    elif ll_head.next and k == 0:\n",
    "        return ll_head.next.val\n",
    "    # In other cases when wrong k value was passed\n",
    "    else:\n",
    "        raise IndexError(f'index too {\"small\" if k < 0 else \"large\"}')\n",
    "\n",
    "\n",
    "def _quick_select(begin_prev_node, end_node, pivot_idx, k):\n",
    "    res = _partition(begin_prev_node, end_node, pivot_idx)\n",
    "    first_end_node, second_begin_prev_node, pivot_head_idx, pivot_tail_idx = res\n",
    "    \n",
    "    # If we placed a span of values equal to the pivot value on they final\n",
    "    # position and the k index is somewhere within the bounds of this span.\n",
    "    # we can return the last pivot value\n",
    "    if pivot_head_idx <= k <= pivot_tail_idx:\n",
    "        return second_begin_prev_node.val\n",
    "    # If the last pivot value was placed before the k index, we have\n",
    "    # to search a right part of a linked list for a desired value \n",
    "    if pivot_tail_idx < k:\n",
    "        return _quick_select(second_begin_prev_node, end_node, pivot_tail_idx + 1, k)\n",
    "    # Otherwise we have to search the left part\n",
    "    return _quick_select(begin_prev_node, first_end_node, pivot_idx, k)\n",
    "    \n",
    "        \n",
    "def _partition(begin_prev_node, end_node, begin_idx):\n",
    "    # Store a pivot node and a current node pointers in variables\n",
    "    pivot_node = begin_prev_node.next\n",
    "    curr_node = pivot_node.next\n",
    "    \n",
    "    # Store indices of the beginning and the end of values equal to pivot span\n",
    "    eq_pivot_head_idx = eq_pivot_tail_idx = begin_idx\n",
    "    \n",
    "    # Prepare sentinel nodes for sublists which will be created\n",
    "    lt_pivot_head = Node()\n",
    "    eq_pivot_head = pivot_node\n",
    "    gt_pivot_head = Node()\n",
    "\n",
    "    # Prepare pointers to the sublists\n",
    "    lt_pivot_curr = lt_pivot_head\n",
    "    eq_pivot_curr = eq_pivot_head\n",
    "    gt_pivot_curr = gt_pivot_head\n",
    "\n",
    "    # Distribute subsequent nodes of a linked list part to appropriate sublists\n",
    "    while curr_node is not end_node:\n",
    "        if curr_node.val < pivot_node.val:\n",
    "            lt_pivot_curr.next = curr_node\n",
    "            lt_pivot_curr = lt_pivot_curr.next\n",
    "            eq_pivot_head_idx += 1\n",
    "            eq_pivot_tail_idx += 1\n",
    "        elif curr_node.val > pivot_node.val:\n",
    "            gt_pivot_curr.next = curr_node\n",
    "            gt_pivot_curr = gt_pivot_curr.next\n",
    "        else:\n",
    "            eq_pivot_curr.next = curr_node\n",
    "            eq_pivot_curr = eq_pivot_curr.next\n",
    "            eq_pivot_tail_idx += 1\n",
    "        curr_node = curr_node.next\n",
    "\n",
    "    # Join created lists together\n",
    "    # Link a list of elements lower than pivot (lt_pivot) if is not empty\n",
    "    if lt_pivot_head.next:\n",
    "        begin_prev_node.next = lt_pivot_head.next\n",
    "        lt_pivot_curr.next = eq_pivot_head\n",
    "\n",
    "        if gt_pivot_head.next:\n",
    "            eq_pivot_curr.next = gt_pivot_head.next\n",
    "            gt_pivot_curr.next = end_node\n",
    "        else:\n",
    "            eq_pivot_curr.next = end_node\n",
    "    # Link a list of elements greater than pivot (gt_pivot) if is not empty\n",
    "    elif gt_pivot_head.next:\n",
    "        begin_prev_node.next = eq_pivot_head\n",
    "        eq_pivot_curr.next = gt_pivot_head.next\n",
    "        gt_pivot_curr.next = end_node\n",
    "    # Otherwise, there will be only eq_pivot linked list (all elements are equal to a pivot)\n",
    "    else:\n",
    "        begin_prev_node.next = eq_pivot_head\n",
    "        eq_pivot_curr.next = end_node\n",
    "\n",
    "    return eq_pivot_head, eq_pivot_curr, eq_pivot_head_idx, eq_pivot_tail_idx"
   ]
  },
  {
   "cell_type": "markdown",
   "metadata": {},
   "source": [
    "Kilka testów"
   ]
  },
  {
   "cell_type": "code",
   "execution_count": 38,
   "metadata": {},
   "outputs": [
    {
     "name": "stdout",
     "output_type": "stream",
     "text": [
      "TEST #1:\n",
      "k: 3\n",
      "Input arr:  [-98, -12, 98, -46, 93]\n",
      "Sorted arr: [-98, -46, -12, 93, 98]\n",
      "linked list after: None -> -98 -> -46 -> -12 -> 93 -> 98 \n",
      "Expected: 93\n",
      "Result: 93\n",
      "Test PASSED\n",
      "Passed-to-tested ratio: 1/1\n",
      "\n",
      "TEST #2:\n",
      "k: 10\n",
      "Input arr:  [83, 8, 44, -82, -8, -63, 69, -37, -41, 42, 62, -64, 88, -78, -98, 28, -4, -39, -86, 88, 78, 73, 2, -65, -61, -6, 10, 66, 28, 44, 46, -93, -25, -94, 76, 68, -36, 72, -40, 60, 59, -76, 47, -30, -45, 45, -44, -60, -21, -13, 40, 31, -80]\n",
      "Sorted arr: [-98, -94, -93, -86, -82, -80, -78, -76, -65, -64, -63, -61, -60, -45, -44, -41, -40, -39, -37, -36, -30, -25, -21, -13, -8, -6, -4, 2, 8, 10, 28, 28, 31, 40, 42, 44, 44, 45, 46, 47, 59, 60, 62, 66, 68, 69, 72, 73, 76, 78, 83, 88, 88]\n",
      "linked list after: None -> -98 -> -86 -> -93 -> -94 -> -82 -> -64 -> -78 -> -65 -> -76 -> -80 -> -63 -> -37 -> -41 -> -39 -> -61 -> -25 -> -36 -> -40 -> -30 -> -45 -> -44 -> -60 -> -21 -> -13 -> -8 -> -4 -> 2 -> -6 -> 8 -> 44 -> 69 -> 42 -> 62 -> 28 -> 78 -> 73 -> 10 -> 66 -> 28 -> 44 -> 46 -> 76 -> 68 -> 72 -> 60 -> 59 -> 47 -> 45 -> 40 -> 31 -> 83 -> 88 -> 88 \n",
      "Expected: -63\n",
      "Result: -63\n",
      "Test PASSED\n",
      "Passed-to-tested ratio: 2/2\n",
      "\n",
      "TEST #3:\n",
      "k: 2\n",
      "Input arr:  [-7, 63, -80, 88, 23, 88, -15, -3, -82]\n",
      "Sorted arr: [-82, -80, -15, -7, -3, 23, 63, 88, 88]\n",
      "linked list after: None -> -82 -> -80 -> -15 -> -7 -> 63 -> 88 -> 23 -> 88 -> -3 \n",
      "Expected: -15\n",
      "Result: -15\n",
      "Test PASSED\n",
      "Passed-to-tested ratio: 3/3\n",
      "\n",
      "===== Final results: =====\n",
      "Final passed-to-tested ratio: 3/3\n",
      "An algorithm is CORRECT\n"
     ]
    }
   ],
   "source": [
    "# test_select_ll(quick_select, create_linked_list, print_linked_list, \n",
    "#                samples=1000, values_count=(1, 10000), range_=(-1000, 1000), failed_only=True)\n",
    "test_select_ll(quick_select, create_linked_list, print_linked_list, samples=3)"
   ]
  },
  {
   "cell_type": "markdown",
   "metadata": {},
   "source": [
    "#  » Median of Medians \n",
    "## Algorytm, który wyznacza w czasie liniowym przybliżoną medianę liczb z pewnego zbioru danych"
   ]
  },
  {
   "cell_type": "markdown",
   "metadata": {},
   "source": [
    "### › Złożoność algorytmu"
   ]
  },
  {
   "cell_type": "markdown",
   "metadata": {},
   "source": [
    "#### Złożoność czasowa"
   ]
  },
  {
   "cell_type": "markdown",
   "metadata": {},
   "source": [
    "###### Każdy przypadek\n",
    "##### $O(n)$"
   ]
  },
  {
   "cell_type": "markdown",
   "metadata": {},
   "source": [
    "#### Złożoność pamięciowa"
   ]
  },
  {
   "cell_type": "markdown",
   "metadata": {},
   "source": [
    "###### Każdy przypadek\n",
    "##### $O(1)$\n",
    "###### UWAGA: Taka złożoność pamięciowa dotyczy poniższej implementacji, gdzie wszystkie operacje odbywają się w miejscu. WIele implementacji dostępnych w Internecie wykorzystuje dodatkowe tablice do przechowywania median i wówczas taka złożoność wynosi zazwyczaj $ O(log(n)) $."
   ]
  },
  {
   "cell_type": "markdown",
   "metadata": {},
   "source": [
    "Ponieważ sam algorytm wyznaczania przybliżonej wartości mediany jest trochę bezużyteczny, przejdziemy od razu do jego praktycznych zastosowań niżej."
   ]
  },
  {
   "cell_type": "markdown",
   "metadata": {},
   "source": [
    "## › Quick Select\n",
    "#### Zwraca wskazaną w kolejności wartość (liczbę, która znajdowała by się na wskazanej pozycji posortowanej tablicy). Jest to udoskonalona wersja, która gwarantuje zadziałanie w czasie liniowym w każdym przypadku."
   ]
  },
  {
   "cell_type": "markdown",
   "metadata": {},
   "source": [
    "### Implementacje dla tablic"
   ]
  },
  {
   "cell_type": "markdown",
   "metadata": {},
   "source": [
    "### Implementacja algorytmu #1\n",
    "#### (iteracyjna z iteracyjnym wybieraniem pivota, bez tworzenia dodatkowych tablic)"
   ]
  },
  {
   "cell_type": "code",
   "execution_count": 39,
   "metadata": {},
   "outputs": [],
   "source": [
    "def linear_select(arr: list, k: 'index of element'):\n",
    "    if not 0 <= k < len(arr):\n",
    "        raise IndexError(f'array index too {\"small\" if k < 0 else \"large\"}')\n",
    "    if len(arr) == 1:\n",
    "        return arr[0]\n",
    "\n",
    "    # Prepare variables which indicate the bounds of the subarray searched\n",
    "    left_idx = 0\n",
    "    right_idx = len(arr) - 1\n",
    "\n",
    "    # Loop till the subarray is not empty\n",
    "    while left_idx <= right_idx:\n",
    "        # Calculate a median of medians and store this value on the left_idx\n",
    "        median_of_medians(arr, left_idx, right_idx)\n",
    "        # Partition the current subarray using a median calculated above\n",
    "        # as a pivot value\n",
    "        pivot_idx = _partition(arr, left_idx, right_idx)\n",
    "\n",
    "        # If a pivot was placed before the index desired, we have to look for\n",
    "        # a desired value int the right part of the current subarray\n",
    "        if pivot_idx < k:\n",
    "            left_idx = pivot_idx + 1\n",
    "        # If a pivot was placed after the index desired, we have to search\n",
    "        # for a value in the left part of the current subarray\n",
    "        elif pivot_idx > k:\n",
    "            right_idx = pivot_idx - 1\n",
    "        # Otherwise, (if k == pivot_idx) return a value which was searched\n",
    "        else:\n",
    "            return arr[k]\n",
    "\n",
    "\n",
    "def median_of_medians(arr: list, left_idx: int, right_idx: int, k: int = 5) -> 'median of medians':\n",
    "    # Store the position on which the next median will be stored\n",
    "    # (we will store each median of current k-element subarrays one\n",
    "    # after another at the beginning of the subarray which begins\n",
    "    # on the left_index and ends on the right_idx (inclusive)\n",
    "    next_swap_idx = left_idx\n",
    "\n",
    "    # Loop till the current subarray has more than k elements\n",
    "    while right_idx - left_idx >= k:\n",
    "        # Calculate and store a median of each full k-element subarray\n",
    "        for end_idx in range(left_idx + k-1, right_idx + 1, k):\n",
    "            # Store a median on the next index just after the last median stored\n",
    "            # (swap a median with a value placed after previously calculated medians)\n",
    "            _swap(arr, next_swap_idx, _select_median(arr, end_idx - k + 1, end_idx))\n",
    "            next_swap_idx += 1\n",
    "\n",
    "        # Calculate and store a median of the remaining subarray\n",
    "        # (which has less than k elements)\n",
    "        if end_idx < right_idx - 1:\n",
    "            _swap(arr, next_swap_idx, _select_median(arr, end_idx, right_idx))\n",
    "            next_swap_idx += 1\n",
    "\n",
    "        # Prepare variables for the next loop (we will calculate a median of\n",
    "        # the subarray of medians calculated above, so the right_idx will now\n",
    "        # be equal to the index of the last median previously determined)\n",
    "        right_idx = next_swap_idx - 1\n",
    "        next_swap_idx = left_idx\n",
    "\n",
    "    # Finally, swap a median of the subarray of medians (which has no more than\n",
    "    # k elements) with the first (leftmost) value of the subarray\n",
    "    _swap(arr, left_idx, _select_median(arr, left_idx, right_idx))\n",
    "    # Return a value of a median\n",
    "    return arr[left_idx]\n",
    "\n",
    "\n",
    "def _select_median(arr: list, left_idx: int, right_idx: int) -> int:\n",
    "    # Using the Selection Sort concept, sort only elements of the\n",
    "    # subarray which are placed up to the middle index (including\n",
    "    # the middle element)\n",
    "    mid_idx = (right_idx + left_idx) // 2\n",
    "    for i in range(left_idx, mid_idx + 1):\n",
    "        min_idx = i\n",
    "        for j in range(i + 1, right_idx + 1):\n",
    "            if arr[j] < arr[min_idx]:\n",
    "                min_idx = j\n",
    "        _swap(arr, min_idx, i)\n",
    "    # Return the middle index which is a position of the median\n",
    "    # after sorting a part of the subarray\n",
    "    return mid_idx\n",
    "\n",
    "\n",
    "def _swap(arr: list, i: int, j: int):\n",
    "    arr[i], arr[j] = arr[j], arr[i]\n",
    "\n",
    "\n",
    "def _partition(arr: list, left_idx: int, right_idx: int) -> int:\n",
    "    # After running the median of medians function a pivot (this median of medians)\n",
    "    # will be placed on the left_idx of the subarray\n",
    "    pivot = arr[left_idx]\n",
    "\n",
    "    # Partition an array into 2 subarrays: the first one of elements lower than\n",
    "    # a pivot and the second one of elements greater than or equal to a pivot\n",
    "    i = left_idx + 1\n",
    "    for j in range(left_idx, right_idx + 1):\n",
    "        if arr[j] < pivot:\n",
    "            _swap(arr, i, j)\n",
    "            i += 1\n",
    "\n",
    "    # Place a pivot element on its destination index\n",
    "    _swap(arr, i - 1, left_idx)\n",
    "\n",
    "    return i - 1  # Return a pivot position after the last swap"
   ]
  },
  {
   "cell_type": "markdown",
   "metadata": {},
   "source": [
    "Kilka testów"
   ]
  },
  {
   "cell_type": "code",
   "execution_count": 40,
   "metadata": {},
   "outputs": [
    {
     "name": "stdout",
     "output_type": "stream",
     "text": [
      "===== Final results: =====\n",
      "Final passed-to-tested ratio: 25/25\n",
      "An algorithm is CORRECT\n"
     ]
    }
   ],
   "source": [
    "# test_select(linear_select, range_=(-10_000, 10_000), values_count=(1, 10_000), samples=10000, failed_only=True)\n",
    "test_select(linear_select, range_=(-10_000, 10_000), values_count=(1, 100), samples=25, failed_only=True)"
   ]
  },
  {
   "cell_type": "markdown",
   "metadata": {},
   "source": [
    "### Implementacja algorytmu #2\n",
    "#### (rekurencyjna z rekurencyjnym wybieraniem pivota, bez tworzenia dodatkowych tablic)"
   ]
  },
  {
   "cell_type": "code",
   "execution_count": 41,
   "metadata": {},
   "outputs": [],
   "source": [
    "def linear_select(arr: list, k: 'index of element'):\n",
    "    if not 0 <= k < len(arr):\n",
    "        raise IndexError(f'array index too {\"small\" if k < 0 else \"large\"}')\n",
    "    if len(arr) == 1:\n",
    "        return arr[0]\n",
    "    return _linear_select(arr, k, 0, len(arr) - 1)\n",
    "\n",
    "\n",
    "def _linear_select(arr, k, left_idx, right_idx):\n",
    "    # Calculate a median of medians and store this value on the left_idx\n",
    "    median_of_medians(arr, left_idx, right_idx)\n",
    "    # Partition the current subarray using a median calculated above\n",
    "    # as a pivot value\n",
    "    pivot_idx = _partition(arr, left_idx, right_idx)\n",
    "\n",
    "    # Return a value selected if pivot_idx is equal to the desired position\n",
    "    if pivot_idx == k: return arr[k]\n",
    "    # If a pivot was placed before the index desired, we have to look for\n",
    "    # a desired value int the right part of the current subarray\n",
    "    elif pivot_idx < k:\n",
    "        return _linear_select(arr, k, pivot_idx + 1, right_idx)\n",
    "    # If a pivot was placed after the index desired, we have to search\n",
    "    # for a value in the left part of the current subarray\n",
    "    else:\n",
    "        return _linear_select(arr, k, left_idx, pivot_idx - 1)    \n",
    "    \n",
    "\n",
    "def median_of_medians(arr: list, left_idx: int, right_idx: int, k: int = 5) -> 'median of medians':\n",
    "    if right_idx - left_idx < k:\n",
    "        # Finally, swap a median of the subarray of medians (which has no more than\n",
    "        # k elements) with the first (leftmost) value of the subarray\n",
    "        _swap(arr, left_idx, _select_median(arr, left_idx, right_idx))\n",
    "        # Return a value of a median\n",
    "        return arr[left_idx]\n",
    "    else:\n",
    "        # Store the position on which the next median will be stored\n",
    "        # (we will store each median of current k-element subarrays one\n",
    "        # after another at the beginning of the subarray which begins\n",
    "        # on the left_index and ends on the right_idx (inclusive)\n",
    "        next_swap_idx = left_idx\n",
    "\n",
    "        # Calculate and store a median of each full k-element subarray\n",
    "        for end_idx in range(left_idx + k-1, right_idx + 1, k):\n",
    "            # Store a median on the next index just after the last median stored\n",
    "            # (swap a median with a value placed after previously calculated medians)\n",
    "            _swap(arr, next_swap_idx, _select_median(arr, end_idx - k + 1, end_idx))\n",
    "            next_swap_idx += 1\n",
    "\n",
    "        # Calculate and store a median of the remaining subarray\n",
    "        # (which has less than k elements)\n",
    "        if end_idx < right_idx - 1:\n",
    "            _swap(arr, next_swap_idx, _select_median(arr, end_idx, right_idx))\n",
    "            next_swap_idx += 1\n",
    "        \n",
    "        # Search for an approximate median of medians recursively\n",
    "        return median_of_medians(arr, left_idx, next_swap_idx - 1, k)\n",
    "\n",
    "\n",
    "def _select_median(arr: list, left_idx: int, right_idx: int) -> int:\n",
    "    # Using the Selection Sort concept, sort only elements of the\n",
    "    # subarray which are placed up to the middle index (including\n",
    "    # the middle element)\n",
    "    mid_idx = (right_idx + left_idx) // 2\n",
    "    for i in range(left_idx, mid_idx + 1):\n",
    "        min_idx = i\n",
    "        for j in range(i + 1, right_idx + 1):\n",
    "            if arr[j] < arr[min_idx]:\n",
    "                min_idx = j\n",
    "        _swap(arr, min_idx, i)\n",
    "    # Return the middle index which is a position of the median\n",
    "    # after sorting a part of the subarray\n",
    "    return mid_idx\n",
    "\n",
    "\n",
    "def _swap(arr: list, i: int, j: int):\n",
    "    arr[i], arr[j] = arr[j], arr[i]\n",
    "\n",
    "\n",
    "def _partition(arr: list, left_idx: int, right_idx: int) -> int:\n",
    "    # After running the median of medians function a pivot (this median of medians)\n",
    "    # will be placed on the left_idx of the subarray\n",
    "    pivot = arr[left_idx]\n",
    "\n",
    "    # Partition an array into 2 subarrays: the first one of elements lower than\n",
    "    # a pivot and the second one of elements greater than or equal to a pivot\n",
    "    i = left_idx + 1\n",
    "    for j in range(left_idx, right_idx + 1):\n",
    "        if arr[j] < pivot:\n",
    "            _swap(arr, i, j)\n",
    "            i += 1\n",
    "\n",
    "    # Place a pivot element on its destination index\n",
    "    _swap(arr, i - 1, left_idx)\n",
    "\n",
    "    return i - 1  # Return a pivot position after the last swap"
   ]
  },
  {
   "cell_type": "markdown",
   "metadata": {},
   "source": [
    "Kilka testów"
   ]
  },
  {
   "cell_type": "code",
   "execution_count": 42,
   "metadata": {},
   "outputs": [
    {
     "name": "stdout",
     "output_type": "stream",
     "text": [
      "===== Final results: =====\n",
      "Final passed-to-tested ratio: 25/25\n",
      "An algorithm is CORRECT\n"
     ]
    }
   ],
   "source": [
    "# test_select(linear_select, range_=(-10_000, 10_000), values_count=(1, 10_000), samples=10_000, failed_only=True)\n",
    "test_select(linear_select, range_=(-10_000, 10_000), values_count=(1, 100), samples=25, failed_only=True)"
   ]
  },
  {
   "cell_type": "markdown",
   "metadata": {},
   "source": [
    "## › Median Select\n",
    "#### Jest to drobna modyfikacja powyższego algorytmu, z tym, że od razu poszukujemy elementu ze środka tablicy, więc wartość k jest odgórnie ustalona."
   ]
  },
  {
   "cell_type": "markdown",
   "metadata": {},
   "source": [
    "### Implementacja algorytmu #1\n",
    "#### (iteracyjna z iteracyjnym wybieraniem pivota, bez tworzenia dodatkowych tablic) (wersji rekurencyjnej nie implementuję, bo jest analogiczna)"
   ]
  },
  {
   "cell_type": "markdown",
   "metadata": {},
   "source": [
    "W poniższej deklaracji funkcji"
   ]
  },
  {
   "cell_type": "markdown",
   "metadata": {},
   "source": [
    "    def median_select(arr: list, _even_arr_case=0):"
   ]
  },
  {
   "cell_type": "markdown",
   "metadata": {},
   "source": [
    "używamy parametru _even_arr_case, który ma na celu wskazanie zachowania w przypadku, gdy liczba elementów w tablicy jest parzysta, przez co wybranie właściwej mediany jest niemożliwe. Domyślnie parametr ten ma przypisaną wartość 0, co będziemy interpretować jako obliczenie średniej arytmetycznej z dwóch środkowych wartości posortowanej tablicy. Łatwo można zauważyć, że wówczas konieczne jest znalezienie dwóch wartości, więc 2 razy musimy skorzystać z algorytmu szybkiego (liniowego) wybierania. Jeżeli ustawimy wartość tego parametru na -1, wówczas zwrócona zostanie wcześniej występująca wartość (ta, znajdująca się z lewej strony środka tablicy), natomiast dla wartości 1, zwrócona zostanie prawa mediana, czyli wartość znajdująca się z prawej strony środka tablicy (oczywiście jest to wartość, która znalazłaby się na tej pozycji, po uprzednim posortowaniu tablicy niemalejąco, ale my tego sortowania nie przeprowadzamy)."
   ]
  },
  {
   "cell_type": "code",
   "execution_count": 43,
   "metadata": {},
   "outputs": [],
   "source": [
    "def median_select(arr: list, _even_arr_case=0):\n",
    "    if not arr: return None\n",
    "    if len(arr) == 1: return arr[0]\n",
    "    \n",
    "    mid_idx = len(arr) // 2\n",
    "    # If an array has odd number of elements, select the middle value\n",
    "    if len(arr) % 2: return linear_select(arr, mid_idx)\n",
    "    # If a number of array values is even and _even_arr_case is set to\n",
    "    # 0, return an average of two elements selected on the indices \n",
    "    # surrounding the middle of an array\n",
    "    if _even_arr_case == 0:\n",
    "        res = (linear_select(arr, mid_idx) + linear_select(arr, mid_idx - 1)) / 2\n",
    "        return int(res) if int(res) == res else res\n",
    "    # Return the left median\n",
    "    if _even_arr_case == -1: return linear_select(arr, mid_idx - 1)\n",
    "    # Return the left right\n",
    "    if _even_arr_case == 1: return linear_select(arr, mid_idx)    \n",
    "    # If _even_arr_case has not a valid value, raise an exception\n",
    "    raise ValueError(f'Wrong value of _even_arr_case. Expected -1, 0 or 1, got {_even_arr_case}')\n",
    "    \n",
    "\n",
    "def linear_select(arr: list, k: 'index of element'):\n",
    "    # Prepare variables which indicate the bounds of the subarray searched\n",
    "    left_idx = 0\n",
    "    right_idx = len(arr) - 1\n",
    "\n",
    "    # Loop till the subarray is not empty\n",
    "    while left_idx <= right_idx:\n",
    "        # Calculate a median of medians and store this value on the left_idx\n",
    "        median_of_medians(arr, left_idx, right_idx)\n",
    "        # Partition the current subarray using a median calculated above\n",
    "        # as a pivot value\n",
    "        pivot_idx = _partition(arr, left_idx, right_idx)\n",
    "\n",
    "        # If a pivot was placed before the index desired, we have to look for\n",
    "        # a desired value int the right part of the current subarray\n",
    "        if pivot_idx < k:\n",
    "            left_idx = pivot_idx + 1\n",
    "        # If a pivot was placed after the index desired, we have to search\n",
    "        # for a value in the left part of the current subarray\n",
    "        elif pivot_idx > k:\n",
    "            right_idx = pivot_idx - 1\n",
    "        # Otherwise, (if k == pivot_idx) return a value which was searched\n",
    "        else:\n",
    "            return arr[k]\n",
    "\n",
    "\n",
    "def median_of_medians(arr: list, left_idx: int, right_idx: int, k: int = 5) -> 'median of medians':\n",
    "    # Store the position on which the next median will be stored\n",
    "    # (we will store each median of current k-element subarrays one\n",
    "    # after another at the beginning of the subarray which begins\n",
    "    # on the left_index and ends on the right_idx (inclusive)\n",
    "    next_swap_idx = left_idx\n",
    "\n",
    "    # Loop till the current subarray has more than k elements\n",
    "    while right_idx - left_idx >= k:\n",
    "        # Calculate and store a median of each full k-element subarray\n",
    "        for end_idx in range(left_idx + k-1, right_idx + 1, k):\n",
    "            # Store a median on the next index just after the last median stored\n",
    "            # (swap a median with a value placed after previously calculated medians)\n",
    "            _swap(arr, next_swap_idx, _select_median(arr, end_idx - k + 1, end_idx))\n",
    "            next_swap_idx += 1\n",
    "\n",
    "        # Calculate and store a median of the remaining subarray\n",
    "        # (which has less than k elements)\n",
    "        if end_idx < right_idx - 1:\n",
    "            _swap(arr, next_swap_idx, _select_median(arr, end_idx, right_idx))\n",
    "            next_swap_idx += 1\n",
    "\n",
    "        # Prepare variables for the next loop (we will calculate a median of\n",
    "        # the subarray of medians calculated above, so the right_idx will now\n",
    "        # be equal to the index of the last median previously determined)\n",
    "        right_idx = next_swap_idx - 1\n",
    "        next_swap_idx = left_idx\n",
    "\n",
    "    # Finally, swap a median of the subarray of medians (which has no more than\n",
    "    # k elements) with the first (leftmost) value of the subarray\n",
    "    _swap(arr, left_idx, _select_median(arr, left_idx, right_idx))\n",
    "    # Return a value of a median\n",
    "    return arr[left_idx]\n",
    "\n",
    "\n",
    "def _select_median(arr: list, left_idx: int, right_idx: int) -> int:\n",
    "    # Using the Selection Sort concept, sort only elements of the\n",
    "    # subarray which are placed up to the middle index (including\n",
    "    # the middle element)\n",
    "    mid_idx = (right_idx + left_idx) // 2\n",
    "    for i in range(left_idx, mid_idx + 1):\n",
    "        min_idx = i\n",
    "        for j in range(i + 1, right_idx + 1):\n",
    "            if arr[j] < arr[min_idx]:\n",
    "                min_idx = j\n",
    "        _swap(arr, min_idx, i)\n",
    "    # Return the middle index which is a position of the median\n",
    "    # after sorting a part of the subarray\n",
    "    return mid_idx\n",
    "\n",
    "\n",
    "def _swap(arr: list, i: int, j: int):\n",
    "    arr[i], arr[j] = arr[j], arr[i]\n",
    "\n",
    "\n",
    "def _partition(arr: list, left_idx: int, right_idx: int) -> int:\n",
    "    # After running the median of medians function a pivot (this median of medians)\n",
    "    # will be placed on the left_idx of the subarray\n",
    "    pivot = arr[left_idx]\n",
    "\n",
    "    # Partition an array into 2 subarrays: the first one of elements lower than\n",
    "    # a pivot and the second one of elements greater than or equal to a pivot\n",
    "    i = left_idx + 1\n",
    "    for j in range(left_idx, right_idx + 1):\n",
    "        if arr[j] < pivot:\n",
    "            _swap(arr, i, j)\n",
    "            i += 1\n",
    "\n",
    "    # Place a pivot element on its destination index\n",
    "    _swap(arr, i - 1, left_idx)\n",
    "\n",
    "    return i - 1  # Return a pivot position after the last swap"
   ]
  },
  {
   "cell_type": "markdown",
   "metadata": {},
   "source": [
    "Kilka testów"
   ]
  },
  {
   "cell_type": "code",
   "execution_count": 55,
   "metadata": {},
   "outputs": [
    {
     "name": "stdout",
     "output_type": "stream",
     "text": [
      "Input array:\n",
      "[90, 38, 94, 87, 6, 78, 33, 4, 92, 94, 39, 72, 25, 95, 48, 51, 85]\n",
      "Sorted array:\n",
      "[4, 6, 25, 33, 38, 39, 48, 51, 72, 78, 85, 87, 90, 92, 94, 94, 95]\n",
      "Array length: 17\n",
      "Result: 72\n",
      "Expected: 72\n"
     ]
    }
   ],
   "source": [
    "import random\n",
    "\n",
    "even_case = -1\n",
    "\n",
    "arr = [random.randint(0, 100) for _ in range(random.randint(0, 25))]\n",
    "print('Input array:', arr, sep='\\n')\n",
    "sorted_arr = sorted(arr)\n",
    "print('Sorted array:', sorted_arr, sep='\\n')\n",
    "print('Array length:', len(arr))\n",
    "print('Result:', median_select(arr, even_case))\n",
    "mid_idx = len(sorted_arr) // 2\n",
    "res = None\n",
    "if len(sorted_arr) % 2 or (even_case == 1 and sorted_arr):\n",
    "    res = sorted_arr[mid_idx] \n",
    "elif sorted_arr:\n",
    "    if even_case == 0:\n",
    "        res = sum(sorted_arr[mid_idx-1:mid_idx+1])/2\n",
    "        if int(res) == res: res = int(res)\n",
    "    elif even_case == -1:\n",
    "        res = sorted_arr[mid_idx-1]\n",
    "print('Expected:', res)"
   ]
  }
 ],
 "metadata": {
  "kernelspec": {
   "display_name": "Python 3 (ipykernel)",
   "language": "python",
   "name": "python3"
  },
  "language_info": {
   "codemirror_mode": {
    "name": "ipython",
    "version": 3
   },
   "file_extension": ".py",
   "mimetype": "text/x-python",
   "name": "python",
   "nbconvert_exporter": "python",
   "pygments_lexer": "ipython3",
   "version": "3.10.0"
  }
 },
 "nbformat": 4,
 "nbformat_minor": 4
}
